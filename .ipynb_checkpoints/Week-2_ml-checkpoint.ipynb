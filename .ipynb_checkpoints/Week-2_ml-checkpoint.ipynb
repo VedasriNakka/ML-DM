{
 "cells": [
  {
   "cell_type": "markdown",
   "metadata": {},
   "source": [
    "## Week-1 assignment: Machine Learning & Data Mining "
   ]
  },
  {
   "cell_type": "code",
   "execution_count": 14,
   "metadata": {},
   "outputs": [
    {
     "name": "stdout",
     "output_type": "stream",
     "text": [
      "         Date    Open    High     Low   Close  Adj Close  Volume\n",
      "0  1990-03-01  1836.0  1838.0  1827.0  1832.0     1832.0       0\n",
      "1  1990-03-02  1831.0  1860.0  1831.0  1860.0     1860.0       0\n",
      "2  1990-03-05  1866.0  1874.0  1862.0  1874.0     1874.0       0\n",
      "3  1990-03-06  1869.0  1875.0  1866.0  1872.0     1872.0       0\n",
      "4  1990-03-07  1874.0  1881.0  1874.0  1880.0     1880.0       0\n",
      "5  1990-03-08  1891.0  1923.0  1891.0  1917.0     1917.0       0\n",
      "6  1990-03-09  1936.0  1941.0  1921.0  1921.0     1921.0       0\n",
      "7  1990-03-12  1917.0  1918.0  1912.0  1912.0     1912.0       0\n",
      "8  1990-03-13  1924.0  1924.0  1924.0  1924.0     1924.0       0\n",
      "9  1990-03-14  1919.0  1946.0  1919.0  1946.0     1946.0       0\n"
     ]
    }
   ],
   "source": [
    "import pandas as pd\n",
    "CAC40 = pd.read_csv('./floor/CAC40.csv')\n",
    "print(CAC40.head(10))"
   ]
  },
  {
   "cell_type": "code",
   "execution_count": 15,
   "metadata": {},
   "outputs": [
    {
     "data": {
      "text/html": [
       "<div>\n",
       "<style scoped>\n",
       "    .dataframe tbody tr th:only-of-type {\n",
       "        vertical-align: middle;\n",
       "    }\n",
       "\n",
       "    .dataframe tbody tr th {\n",
       "        vertical-align: top;\n",
       "    }\n",
       "\n",
       "    .dataframe thead th {\n",
       "        text-align: right;\n",
       "    }\n",
       "</style>\n",
       "<table border=\"1\" class=\"dataframe\">\n",
       "  <thead>\n",
       "    <tr style=\"text-align: right;\">\n",
       "      <th></th>\n",
       "      <th>Open</th>\n",
       "      <th>High</th>\n",
       "      <th>Low</th>\n",
       "      <th>Close</th>\n",
       "      <th>Adj Close</th>\n",
       "      <th>Volume</th>\n",
       "    </tr>\n",
       "  </thead>\n",
       "  <tbody>\n",
       "    <tr>\n",
       "      <th>count</th>\n",
       "      <td>8004.000000</td>\n",
       "      <td>8004.000000</td>\n",
       "      <td>8004.000000</td>\n",
       "      <td>8004.000000</td>\n",
       "      <td>8004.000000</td>\n",
       "      <td>8.004000e+03</td>\n",
       "    </tr>\n",
       "    <tr>\n",
       "      <th>mean</th>\n",
       "      <td>3895.171095</td>\n",
       "      <td>3922.428657</td>\n",
       "      <td>3865.036077</td>\n",
       "      <td>3894.662131</td>\n",
       "      <td>3894.662131</td>\n",
       "      <td>6.368138e+07</td>\n",
       "    </tr>\n",
       "    <tr>\n",
       "      <th>std</th>\n",
       "      <td>1348.134244</td>\n",
       "      <td>1355.055374</td>\n",
       "      <td>1340.523331</td>\n",
       "      <td>1347.763769</td>\n",
       "      <td>1347.763769</td>\n",
       "      <td>6.962232e+07</td>\n",
       "    </tr>\n",
       "    <tr>\n",
       "      <th>min</th>\n",
       "      <td>1438.000000</td>\n",
       "      <td>1459.000000</td>\n",
       "      <td>1425.000000</td>\n",
       "      <td>1441.000000</td>\n",
       "      <td>1441.000000</td>\n",
       "      <td>0.000000e+00</td>\n",
       "    </tr>\n",
       "    <tr>\n",
       "      <th>25%</th>\n",
       "      <td>2910.054932</td>\n",
       "      <td>2941.720032</td>\n",
       "      <td>2869.929932</td>\n",
       "      <td>2903.967468</td>\n",
       "      <td>2903.967468</td>\n",
       "      <td>0.000000e+00</td>\n",
       "    </tr>\n",
       "    <tr>\n",
       "      <th>50%</th>\n",
       "      <td>3988.885010</td>\n",
       "      <td>4017.764893</td>\n",
       "      <td>3960.380005</td>\n",
       "      <td>3991.045044</td>\n",
       "      <td>3991.045044</td>\n",
       "      <td>6.371910e+07</td>\n",
       "    </tr>\n",
       "    <tr>\n",
       "      <th>75%</th>\n",
       "      <td>4959.130005</td>\n",
       "      <td>4992.932495</td>\n",
       "      <td>4924.479980</td>\n",
       "      <td>4961.362427</td>\n",
       "      <td>4961.362427</td>\n",
       "      <td>1.134794e+08</td>\n",
       "    </tr>\n",
       "    <tr>\n",
       "      <th>max</th>\n",
       "      <td>6929.049805</td>\n",
       "      <td>6944.770020</td>\n",
       "      <td>6885.640137</td>\n",
       "      <td>6922.330078</td>\n",
       "      <td>6922.330078</td>\n",
       "      <td>5.312476e+08</td>\n",
       "    </tr>\n",
       "  </tbody>\n",
       "</table>\n",
       "</div>"
      ],
      "text/plain": [
       "              Open         High          Low        Close    Adj Close  \\\n",
       "count  8004.000000  8004.000000  8004.000000  8004.000000  8004.000000   \n",
       "mean   3895.171095  3922.428657  3865.036077  3894.662131  3894.662131   \n",
       "std    1348.134244  1355.055374  1340.523331  1347.763769  1347.763769   \n",
       "min    1438.000000  1459.000000  1425.000000  1441.000000  1441.000000   \n",
       "25%    2910.054932  2941.720032  2869.929932  2903.967468  2903.967468   \n",
       "50%    3988.885010  4017.764893  3960.380005  3991.045044  3991.045044   \n",
       "75%    4959.130005  4992.932495  4924.479980  4961.362427  4961.362427   \n",
       "max    6929.049805  6944.770020  6885.640137  6922.330078  6922.330078   \n",
       "\n",
       "             Volume  \n",
       "count  8.004000e+03  \n",
       "mean   6.368138e+07  \n",
       "std    6.962232e+07  \n",
       "min    0.000000e+00  \n",
       "25%    0.000000e+00  \n",
       "50%    6.371910e+07  \n",
       "75%    1.134794e+08  \n",
       "max    5.312476e+08  "
      ]
     },
     "execution_count": 15,
     "metadata": {},
     "output_type": "execute_result"
    }
   ],
   "source": [
    "CAC40.describe()   # Summarization of given data"
   ]
  },
  {
   "cell_type": "markdown",
   "metadata": {},
   "source": [
    "##### Q1: Verify the quality of Measuments"
   ]
  },
  {
   "cell_type": "code",
   "execution_count": 16,
   "metadata": {
    "scrolled": true
   },
   "outputs": [
    {
     "name": "stdout",
     "output_type": "stream",
     "text": [
      "            Date         Open         High          Low        Close  \\\n",
      "4681  2008-09-19  4226.479980  4324.870117  4090.169922  4324.870117   \n",
      "4696  2008-10-10  3164.919922  3280.040039  3047.850098  3176.489990   \n",
      "4511  2008-01-22  4544.790039  4903.990234  4505.140137  4842.540039   \n",
      "5096  2010-05-07  3454.600098  3538.860107  3349.959961  3392.590088   \n",
      "6662  2016-06-24  4114.580078  4198.899902  4007.969971  4106.729980   \n",
      "\n",
      "        Adj Close     Volume  \n",
      "4681  4324.870117  531247600  \n",
      "4696  3176.489990  466142400  \n",
      "4511  4842.540039  463552500  \n",
      "5096  3392.590088  438501300  \n",
      "6662  4106.729980  415775700  \n"
     ]
    },
    {
     "data": {
      "image/png": "[encoded data removed]",
      "text/plain": [
       "<Figure size 432x288 with 1 Axes>"
      ]
     },
     "metadata": {
      "needs_background": "light"
     },
     "output_type": "display_data"
    }
   ],
   "source": [
    "import matplotlib.pyplot as plt\n",
    "\n",
    "sorted_by_volume = CAC40.sort_values(['Volume'], ascending = False)\n",
    "print(sorted_by_volume.head(5))\n",
    "sorted_by_volume['Volume'].head(10).plot(kind = 'bar')\n",
    "plt.show()"
   ]
  },
  {
   "cell_type": "code",
   "execution_count": 27,
   "metadata": {},
   "outputs": [
    {
     "data": {
      "image/png": "[encoded data removed]",
      "text/plain": [
       "<Figure size 432x288 with 1 Axes>"
      ]
     },
     "metadata": {
      "needs_background": "light"
     },
     "output_type": "display_data"
    }
   ],
   "source": [
    "CAC40['Volume'].plot(kind = \"hist\", edgecolor = \"black\")\n",
    "plt.show()"
   ]
  },
  {
   "cell_type": "code",
   "execution_count": 25,
   "metadata": {},
   "outputs": [
    {
     "name": "stderr",
     "output_type": "stream",
     "text": [
      "c:\\users\\veda\\appdata\\local\\programs\\python\\python37\\lib\\site-packages\\seaborn\\distributions.py:2619: FutureWarning: `distplot` is a deprecated function and will be removed in a future version. Please adapt your code to use either `displot` (a figure-level function with similar flexibility) or `histplot` (an axes-level function for histograms).\n",
      "  warnings.warn(msg, FutureWarning)\n"
     ]
    },
    {
     "data": {
      "text/plain": [
       "<AxesSubplot:xlabel='Close', ylabel='Density'>"
      ]
     },
     "execution_count": 25,
     "metadata": {},
     "output_type": "execute_result"
    },
    {
     "data": {
      "image/png": "[encoded data removed]",
      "text/plain": [
       "<Figure size 432x288 with 1 Axes>"
      ]
     },
     "metadata": {
      "needs_background": "light"
     },
     "output_type": "display_data"
    }
   ],
   "source": [
    "import seaborn as sns\n",
    "\n",
    "sns.distplot(CAC40['Close'], hist = True, kde=True, bins=int(180/5),color='darkblue', hist_kws={'edgecolor':'black'},kde_kws={'linewidth':4})"
   ]
  },
  {
   "cell_type": "code",
   "execution_count": null,
   "metadata": {},
   "outputs": [],
   "source": []
  },
  {
   "cell_type": "code",
   "execution_count": null,
   "metadata": {},
   "outputs": [],
   "source": []
  }
 ],
 "metadata": {
  "kernelspec": {
   "display_name": "Python 3",
   "language": "python",
   "name": "python3"
  },
  "language_info": {
   "codemirror_mode": {
    "name": "ipython",
    "version": 3
   },
   "file_extension": ".py",
   "mimetype": "text/x-python",
   "name": "python",
   "nbconvert_exporter": "python",
   "pygments_lexer": "ipython3",
   "version": "3.7.3"
  }
 },
 "nbformat": 4,
 "nbformat_minor": 5
}
