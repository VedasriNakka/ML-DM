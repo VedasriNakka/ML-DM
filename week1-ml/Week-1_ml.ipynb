{
 "cells": [
  {
   "cell_type": "markdown",
   "id": "happy-grace",
   "metadata": {},
   "source": [
    "### Week-1 assignment: Machine Learning & Data Mining "
   ]
  },
  {
   "cell_type": "code",
   "execution_count": 4,
   "id": "champion-syria",
   "metadata": {},
   "outputs": [],
   "source": [
    "import pandas as pd\n",
    "import matplotlib.pyplot as plt\n",
    "import seaborn as sns\n",
    "import numpy as np"
   ]
  },
  {
   "cell_type": "code",
   "execution_count": 8,
   "id": "official-carolina",
   "metadata": {},
   "outputs": [
    {
     "name": "stdout",
     "output_type": "stream",
     "text": [
      "         Date        Open        High        Low       Close    Volume  \\\n",
      "0  2007-01-03   97.180000   98.400002  96.260002   97.269997   9196800   \n",
      "1  2007-01-04   97.250000   98.790001  96.879997   98.309998  10524500   \n",
      "2  2007-01-05   97.599998   97.949997  96.910004   97.419998   7221300   \n",
      "3  2007-01-08   98.500000   99.500000  98.349998   98.900002  10340000   \n",
      "4  2007-01-09   99.080002  100.330002  99.070000  100.070000  11108200   \n",
      "5  2007-01-10   98.500000   99.050003  97.930000   98.889999   8744800   \n",
      "6  2007-01-11   99.000000   99.900002  98.500000   98.650002   8000700   \n",
      "7  2007-01-12   98.989998   99.690002  98.500000   99.339996   6636500   \n",
      "8  2007-01-16   99.400002  100.839996  99.300003  100.820000   9602200   \n",
      "9  2007-01-17  100.690002  100.900002  99.900002  100.019997   8200700   \n",
      "\n",
      "    Adjusted  \n",
      "0  63.127567  \n",
      "1  63.802544  \n",
      "2  63.224930  \n",
      "3  64.185463  \n",
      "4  64.944771  \n",
      "5  64.178978  \n",
      "6  64.023201  \n",
      "7  64.471024  \n",
      "8  65.431503  \n",
      "9  64.912323  \n"
     ]
    }
   ],
   "source": [
    "# Load dataset\n",
    "\n",
    "ibm = pd.read_csv('./floor/IBM.txt', delimiter = \" \")\n",
    "print(ibm.head(10))"
   ]
  },
  {
   "cell_type": "code",
   "execution_count": 9,
   "id": "amended-tomorrow",
   "metadata": {},
   "outputs": [
    {
     "data": {
      "text/html": [
       "<div>\n",
       "<style scoped>\n",
       "    .dataframe tbody tr th:only-of-type {\n",
       "        vertical-align: middle;\n",
       "    }\n",
       "\n",
       "    .dataframe tbody tr th {\n",
       "        vertical-align: top;\n",
       "    }\n",
       "\n",
       "    .dataframe thead th {\n",
       "        text-align: right;\n",
       "    }\n",
       "</style>\n",
       "<table border=\"1\" class=\"dataframe\">\n",
       "  <thead>\n",
       "    <tr style=\"text-align: right;\">\n",
       "      <th></th>\n",
       "      <th>Open</th>\n",
       "      <th>High</th>\n",
       "      <th>Low</th>\n",
       "      <th>Close</th>\n",
       "      <th>Volume</th>\n",
       "      <th>Adjusted</th>\n",
       "    </tr>\n",
       "  </thead>\n",
       "  <tbody>\n",
       "    <tr>\n",
       "      <th>count</th>\n",
       "      <td>3692.000000</td>\n",
       "      <td>3692.000000</td>\n",
       "      <td>3692.000000</td>\n",
       "      <td>3692.000000</td>\n",
       "      <td>3.692000e+03</td>\n",
       "      <td>3692.000000</td>\n",
       "    </tr>\n",
       "    <tr>\n",
       "      <th>mean</th>\n",
       "      <td>147.198976</td>\n",
       "      <td>148.403180</td>\n",
       "      <td>146.074512</td>\n",
       "      <td>147.269085</td>\n",
       "      <td>5.576247e+06</td>\n",
       "      <td>113.375997</td>\n",
       "    </tr>\n",
       "    <tr>\n",
       "      <th>std</th>\n",
       "      <td>30.808862</td>\n",
       "      <td>30.780935</td>\n",
       "      <td>30.844083</td>\n",
       "      <td>30.796603</td>\n",
       "      <td>3.229710e+06</td>\n",
       "      <td>25.410689</td>\n",
       "    </tr>\n",
       "    <tr>\n",
       "      <th>min</th>\n",
       "      <td>72.739998</td>\n",
       "      <td>76.980003</td>\n",
       "      <td>69.500000</td>\n",
       "      <td>71.739998</td>\n",
       "      <td>1.027500e+06</td>\n",
       "      <td>48.040176</td>\n",
       "    </tr>\n",
       "    <tr>\n",
       "      <th>25%</th>\n",
       "      <td>124.189999</td>\n",
       "      <td>125.349998</td>\n",
       "      <td>123.072502</td>\n",
       "      <td>124.332496</td>\n",
       "      <td>3.482300e+06</td>\n",
       "      <td>90.296511</td>\n",
       "    </tr>\n",
       "    <tr>\n",
       "      <th>50%</th>\n",
       "      <td>144.750000</td>\n",
       "      <td>145.619995</td>\n",
       "      <td>143.830002</td>\n",
       "      <td>144.730003</td>\n",
       "      <td>4.653750e+06</td>\n",
       "      <td>120.980629</td>\n",
       "    </tr>\n",
       "    <tr>\n",
       "      <th>75%</th>\n",
       "      <td>168.847500</td>\n",
       "      <td>170.442501</td>\n",
       "      <td>167.659996</td>\n",
       "      <td>169.169998</td>\n",
       "      <td>6.660725e+06</td>\n",
       "      <td>132.155647</td>\n",
       "    </tr>\n",
       "    <tr>\n",
       "      <th>max</th>\n",
       "      <td>215.380005</td>\n",
       "      <td>215.899994</td>\n",
       "      <td>214.300003</td>\n",
       "      <td>215.800003</td>\n",
       "      <td>3.806350e+07</td>\n",
       "      <td>155.979538</td>\n",
       "    </tr>\n",
       "  </tbody>\n",
       "</table>\n",
       "</div>"
      ],
      "text/plain": [
       "              Open         High          Low        Close        Volume  \\\n",
       "count  3692.000000  3692.000000  3692.000000  3692.000000  3.692000e+03   \n",
       "mean    147.198976   148.403180   146.074512   147.269085  5.576247e+06   \n",
       "std      30.808862    30.780935    30.844083    30.796603  3.229710e+06   \n",
       "min      72.739998    76.980003    69.500000    71.739998  1.027500e+06   \n",
       "25%     124.189999   125.349998   123.072502   124.332496  3.482300e+06   \n",
       "50%     144.750000   145.619995   143.830002   144.730003  4.653750e+06   \n",
       "75%     168.847500   170.442501   167.659996   169.169998  6.660725e+06   \n",
       "max     215.380005   215.899994   214.300003   215.800003  3.806350e+07   \n",
       "\n",
       "          Adjusted  \n",
       "count  3692.000000  \n",
       "mean    113.375997  \n",
       "std      25.410689  \n",
       "min      48.040176  \n",
       "25%      90.296511  \n",
       "50%     120.980629  \n",
       "75%     132.155647  \n",
       "max     155.979538  "
      ]
     },
     "execution_count": 9,
     "metadata": {},
     "output_type": "execute_result"
    }
   ],
   "source": [
    "# Summarization of given data\n",
    "\n",
    "ibm.describe()   "
   ]
  },
  {
   "cell_type": "markdown",
   "id": "juvenile-coral",
   "metadata": {},
   "source": [
    "##### Q1: Data quality"
   ]
  },
  {
   "cell_type": "code",
   "execution_count": 10,
   "id": "attended-hammer",
   "metadata": {
    "scrolled": true
   },
   "outputs": [
    {
     "name": "stdout",
     "output_type": "stream",
     "text": [
      "            Date        Open        High         Low       Close    Volume  \\\n",
      "3538  2021-01-22  120.699997  120.699997  117.360001  118.610001  38063500   \n",
      "106   2007-06-06  105.500000  105.510002  102.389999  102.410004  30770700   \n",
      "2718  2017-10-18  157.119995  161.229996  156.949997  159.529999  30490200   \n",
      "11    2007-01-19   95.000000   96.849998   94.550003   96.169998  26035800   \n",
      "3466  2020-10-08  130.860001  135.500000  129.770004  131.490005  25288900   \n",
      "\n",
      "        Adjusted  \n",
      "3538  114.435143  \n",
      "106    66.923210  \n",
      "2718  132.191544  \n",
      "11     62.413712  \n",
      "3466  125.048523  \n"
     ]
    },
    {
     "data": {
      "image/png": "[encoded data removed]",
      "text/plain": [
       "<Figure size 432x288 with 1 Axes>"
      ]
     },
     "metadata": {
      "needs_background": "light"
     },
     "output_type": "display_data"
    }
   ],
   "source": [
    "# data set Volume\n",
    "\n",
    "sorted_by_volume = ibm.sort_values(['Volume'], ascending = False)\n",
    "print(sorted_by_volume.head(5))\n",
    "sorted_by_volume['Volume'].head(10).plot(kind = 'bar')\n",
    "plt.show()"
   ]
  },
  {
   "cell_type": "code",
   "execution_count": 11,
   "id": "ready-baker",
   "metadata": {},
   "outputs": [
    {
     "data": {
      "image/png": "[encoded data removed]",
      "text/plain": [
       "<Figure size 432x288 with 1 Axes>"
      ]
     },
     "metadata": {
      "needs_background": "light"
     },
     "output_type": "display_data"
    }
   ],
   "source": [
    "ibm['Volume'].plot(kind = \"hist\", edgecolor = \"black\")\n",
    "plt.show()"
   ]
  },
  {
   "cell_type": "code",
   "execution_count": 12,
   "id": "usual-swiss",
   "metadata": {},
   "outputs": [
    {
     "name": "stderr",
     "output_type": "stream",
     "text": [
      "c:\\users\\veda\\appdata\\local\\programs\\python\\python37\\lib\\site-packages\\seaborn\\distributions.py:2619: FutureWarning: `distplot` is a deprecated function and will be removed in a future version. Please adapt your code to use either `displot` (a figure-level function with similar flexibility) or `histplot` (an axes-level function for histograms).\n",
      "  warnings.warn(msg, FutureWarning)\n"
     ]
    },
    {
     "data": {
      "text/plain": [
       "<AxesSubplot:xlabel='Close', ylabel='Density'>"
      ]
     },
     "execution_count": 12,
     "metadata": {},
     "output_type": "execute_result"
    },
    {
     "data": {
      "image/png": "[encoded data removed]",
      "text/plain": [
       "<Figure size 432x288 with 1 Axes>"
      ]
     },
     "metadata": {
      "needs_background": "light"
     },
     "output_type": "display_data"
    }
   ],
   "source": [
    "# Degree of variation\n",
    "\n",
    "sns.distplot(ibm['Close'], hist = True, kde=True, bins=int(180/5),color='darkblue', hist_kws={'edgecolor':'black'},kde_kws={'linewidth':4})"
   ]
  },
  {
   "cell_type": "code",
   "execution_count": 13,
   "id": "signed-holiday",
   "metadata": {},
   "outputs": [
    {
     "name": "stdout",
     "output_type": "stream",
     "text": [
      "         Date        Open        High        Low       Close    Volume  \\\n",
      "0  2007-01-03   97.180000   98.400002  96.260002   97.269997   9196800   \n",
      "1  2007-01-04   97.250000   98.790001  96.879997   98.309998  10524500   \n",
      "2  2007-01-05   97.599998   97.949997  96.910004   97.419998   7221300   \n",
      "3  2007-01-08   98.500000   99.500000  98.349998   98.900002  10340000   \n",
      "4  2007-01-09   99.080002  100.330002  99.070000  100.070000  11108200   \n",
      "5  2007-01-10   98.500000   99.050003  97.930000   98.889999   8744800   \n",
      "6  2007-01-11   99.000000   99.900002  98.500000   98.650002   8000700   \n",
      "7  2007-01-12   98.989998   99.690002  98.500000   99.339996   6636500   \n",
      "8  2007-01-16   99.400002  100.839996  99.300003  100.820000   9602200   \n",
      "9  2007-01-17  100.690002  100.900002  99.900002  100.019997   8200700   \n",
      "\n",
      "    Adjusted   returns   HighLow  \n",
      "0  63.127567       NaN  2.140000  \n",
      "1  63.802544  0.010692  1.910004  \n",
      "2  63.224930 -0.009053  1.039993  \n",
      "3  64.185463  0.015192  1.150002  \n",
      "4  64.944771  0.011830  1.260002  \n",
      "5  64.178978 -0.011792  1.120003  \n",
      "6  64.023201 -0.002427  1.400002  \n",
      "7  64.471024  0.006994  1.190002  \n",
      "8  65.431503  0.014898  1.539993  \n",
      "9  64.912323 -0.007935  1.000000  \n"
     ]
    }
   ],
   "source": [
    "# Daily returns, and Difference of high and low\n",
    "\n",
    "ibm['returns'] = (ibm['Close'] - ibm['Close'].shift())/ibm['Close'].shift()\n",
    "ibm['HighLow'] = (ibm['High']-ibm['Low'])\n",
    "print(ibm.head(10))"
   ]
  },
  {
   "cell_type": "markdown",
   "id": "statistical-tattoo",
   "metadata": {},
   "source": [
    "#### If you have some knowledge in probability and/or statistics, can you propose a model for the distribution of the closing price of your data and the daily return?"
   ]
  },
  {
   "cell_type": "code",
   "execution_count": null,
   "id": "surrounded-selection",
   "metadata": {},
   "outputs": [],
   "source": []
  }
 ],
 "metadata": {
  "kernelspec": {
   "display_name": "Python 3",
   "language": "python",
   "name": "python3"
  },
  "language_info": {
   "codemirror_mode": {
    "name": "ipython",
    "version": 3
   },
   "file_extension": ".py",
   "mimetype": "text/x-python",
   "name": "python",
   "nbconvert_exporter": "python",
   "pygments_lexer": "ipython3",
   "version": "3.7.9"
  }
 },
 "nbformat": 4,
 "nbformat_minor": 5
}
