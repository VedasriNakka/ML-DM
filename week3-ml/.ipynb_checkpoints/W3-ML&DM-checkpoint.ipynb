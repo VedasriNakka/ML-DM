{
 "cells": [
  {
   "cell_type": "markdown",
   "id": "cooked-boards",
   "metadata": {},
   "source": [
    "### Week3 - ML&DM"
   ]
  },
  {
   "cell_type": "code",
   "execution_count": 28,
   "id": "unknown-guess",
   "metadata": {},
   "outputs": [],
   "source": [
    "import pandas as pd\n",
    "import numpy as np\n",
    "from mlxtend.classifier import OneRClassifier\n",
    "from sklearn import preprocessing\n",
    "from sklearn.model_selection import train_test_split\n",
    "from sklearn.metrics import accuracy_score\n",
    "from sklearn.metrics import confusion_matrix"
   ]
  },
  {
   "cell_type": "code",
   "execution_count": 2,
   "id": "informational-reduction",
   "metadata": {},
   "outputs": [
    {
     "name": "stdout",
     "output_type": "stream",
     "text": [
      "Number of rows in original data: 887\n",
      "\n",
      "Features present in dataset: \n",
      " Index(['Survived', 'Pclass', 'Name', 'Sex', 'Age', 'Siblings/Spouses Aboard',\n",
      "       'Parents/Children Aboard', 'Fare'],\n",
      "      dtype='object')\n",
      "   Survived  Pclass                                                Name  \\\n",
      "0         0       3                              Mr. Owen Harris Braund   \n",
      "1         1       1  Mrs. John Bradley (Florence Briggs Thayer) Cumings   \n",
      "2         1       3                               Miss. Laina Heikkinen   \n",
      "3         1       1         Mrs. Jacques Heath (Lily May Peel) Futrelle   \n",
      "4         0       3                             Mr. William Henry Allen   \n",
      "5         0       3                                     Mr. James Moran   \n",
      "6         0       1                              Mr. Timothy J McCarthy   \n",
      "7         0       3                       Master. Gosta Leonard Palsson   \n",
      "8         1       3    Mrs. Oscar W (Elisabeth Vilhelmina Berg) Johnson   \n",
      "9         1       2                  Mrs. Nicholas (Adele Achem) Nasser   \n",
      "\n",
      "      Sex   Age  Siblings/Spouses Aboard  Parents/Children Aboard     Fare  \n",
      "0    male  22.0                        1                        0   7.2500  \n",
      "1  female  38.0                        1                        0  71.2833  \n",
      "2  female  26.0                        0                        0   7.9250  \n",
      "3  female  35.0                        1                        0  53.1000  \n",
      "4    male  35.0                        0                        0   8.0500  \n",
      "5    male  27.0                        0                        0   8.4583  \n",
      "6    male  54.0                        0                        0  51.8625  \n",
      "7    male   2.0                        3                        1  21.0750  \n",
      "8  female  27.0                        0                        2  11.1333  \n",
      "9  female  14.0                        1                        0  30.0708  \n"
     ]
    }
   ],
   "source": [
    "# Load titanic dataset\n",
    "\n",
    "pd.set_option('display.max_colwidth',None)\n",
    "titanic = pd.read_csv('./titanic.csv')\n",
    "print(\"Number of rows in original data: {}\\n\".format(len(titanic.index)))\n",
    "print(\"Features present in dataset: \\n\", titanic.columns)\n",
    "print(titanic.head(10))"
   ]
  },
  {
   "cell_type": "markdown",
   "id": "technical-fence",
   "metadata": {},
   "source": [
    "### Problem 1: Q1. Default rule for the titanic Dataset"
   ]
  },
  {
   "cell_type": "code",
   "execution_count": 9,
   "id": "unlike-baptist",
   "metadata": {},
   "outputs": [
    {
     "name": "stdout",
     "output_type": "stream",
     "text": [
      "Total 342 of people survived, 545 number of people not survived \n",
      "\n",
      "Most of the people are not survived So, the Default rule for this dataset are survived people with total 545\n"
     ]
    }
   ],
   "source": [
    "survived_in_titanic = titanic.loc[titanic['Survived'] == 1]\n",
    "#print(len(survived_in_titanic))\n",
    "\n",
    "not_survived_in_titanic = titanic.loc[titanic['Survived'] == 0]\n",
    "#print(len(not_survived_in_titanic))\n",
    "\n",
    "print(\"Total {} of people survived, {} number of people not survived \\n\".format(len(survived_in_titanic),len(not_survived_in_titanic)))\n",
    "print(\"Most of the people are not survived So, the Default rule for this dataset are survived people with total {}\".format(len(not_survived_in_titanic)))"
   ]
  },
  {
   "cell_type": "markdown",
   "id": "cognitive-audience",
   "metadata": {},
   "source": [
    "### Q2. Best 1R for titanic Dataset"
   ]
  },
  {
   "cell_type": "code",
   "execution_count": 11,
   "id": "completed-nutrition",
   "metadata": {},
   "outputs": [
    {
     "data": {
      "text/html": [
       "<div>\n",
       "<style scoped>\n",
       "    .dataframe tbody tr th:only-of-type {\n",
       "        vertical-align: middle;\n",
       "    }\n",
       "\n",
       "    .dataframe tbody tr th {\n",
       "        vertical-align: top;\n",
       "    }\n",
       "\n",
       "    .dataframe thead th {\n",
       "        text-align: right;\n",
       "    }\n",
       "</style>\n",
       "<table border=\"1\" class=\"dataframe\">\n",
       "  <thead>\n",
       "    <tr style=\"text-align: right;\">\n",
       "      <th></th>\n",
       "      <th>Survived</th>\n",
       "      <th>Pclass</th>\n",
       "      <th>Name</th>\n",
       "      <th>Sex</th>\n",
       "      <th>Age</th>\n",
       "      <th>Siblings/Spouses Aboard</th>\n",
       "      <th>Parents/Children Aboard</th>\n",
       "      <th>Fare</th>\n",
       "    </tr>\n",
       "  </thead>\n",
       "  <tbody>\n",
       "    <tr>\n",
       "      <th>count</th>\n",
       "      <td>887.000000</td>\n",
       "      <td>887.000000</td>\n",
       "      <td>887</td>\n",
       "      <td>887</td>\n",
       "      <td>887.000000</td>\n",
       "      <td>887.000000</td>\n",
       "      <td>887.000000</td>\n",
       "      <td>887.00000</td>\n",
       "    </tr>\n",
       "    <tr>\n",
       "      <th>unique</th>\n",
       "      <td>NaN</td>\n",
       "      <td>NaN</td>\n",
       "      <td>887</td>\n",
       "      <td>2</td>\n",
       "      <td>NaN</td>\n",
       "      <td>NaN</td>\n",
       "      <td>NaN</td>\n",
       "      <td>NaN</td>\n",
       "    </tr>\n",
       "    <tr>\n",
       "      <th>top</th>\n",
       "      <td>NaN</td>\n",
       "      <td>NaN</td>\n",
       "      <td>Mr. Richard William Smith</td>\n",
       "      <td>male</td>\n",
       "      <td>NaN</td>\n",
       "      <td>NaN</td>\n",
       "      <td>NaN</td>\n",
       "      <td>NaN</td>\n",
       "    </tr>\n",
       "    <tr>\n",
       "      <th>freq</th>\n",
       "      <td>NaN</td>\n",
       "      <td>NaN</td>\n",
       "      <td>1</td>\n",
       "      <td>573</td>\n",
       "      <td>NaN</td>\n",
       "      <td>NaN</td>\n",
       "      <td>NaN</td>\n",
       "      <td>NaN</td>\n",
       "    </tr>\n",
       "    <tr>\n",
       "      <th>mean</th>\n",
       "      <td>0.385569</td>\n",
       "      <td>2.305524</td>\n",
       "      <td>NaN</td>\n",
       "      <td>NaN</td>\n",
       "      <td>29.471443</td>\n",
       "      <td>0.525366</td>\n",
       "      <td>0.383315</td>\n",
       "      <td>32.30542</td>\n",
       "    </tr>\n",
       "    <tr>\n",
       "      <th>std</th>\n",
       "      <td>0.487004</td>\n",
       "      <td>0.836662</td>\n",
       "      <td>NaN</td>\n",
       "      <td>NaN</td>\n",
       "      <td>14.121908</td>\n",
       "      <td>1.104669</td>\n",
       "      <td>0.807466</td>\n",
       "      <td>49.78204</td>\n",
       "    </tr>\n",
       "    <tr>\n",
       "      <th>min</th>\n",
       "      <td>0.000000</td>\n",
       "      <td>1.000000</td>\n",
       "      <td>NaN</td>\n",
       "      <td>NaN</td>\n",
       "      <td>0.420000</td>\n",
       "      <td>0.000000</td>\n",
       "      <td>0.000000</td>\n",
       "      <td>0.00000</td>\n",
       "    </tr>\n",
       "    <tr>\n",
       "      <th>25%</th>\n",
       "      <td>0.000000</td>\n",
       "      <td>2.000000</td>\n",
       "      <td>NaN</td>\n",
       "      <td>NaN</td>\n",
       "      <td>20.250000</td>\n",
       "      <td>0.000000</td>\n",
       "      <td>0.000000</td>\n",
       "      <td>7.92500</td>\n",
       "    </tr>\n",
       "    <tr>\n",
       "      <th>50%</th>\n",
       "      <td>0.000000</td>\n",
       "      <td>3.000000</td>\n",
       "      <td>NaN</td>\n",
       "      <td>NaN</td>\n",
       "      <td>28.000000</td>\n",
       "      <td>0.000000</td>\n",
       "      <td>0.000000</td>\n",
       "      <td>14.45420</td>\n",
       "    </tr>\n",
       "    <tr>\n",
       "      <th>75%</th>\n",
       "      <td>1.000000</td>\n",
       "      <td>3.000000</td>\n",
       "      <td>NaN</td>\n",
       "      <td>NaN</td>\n",
       "      <td>38.000000</td>\n",
       "      <td>1.000000</td>\n",
       "      <td>0.000000</td>\n",
       "      <td>31.13750</td>\n",
       "    </tr>\n",
       "    <tr>\n",
       "      <th>max</th>\n",
       "      <td>1.000000</td>\n",
       "      <td>3.000000</td>\n",
       "      <td>NaN</td>\n",
       "      <td>NaN</td>\n",
       "      <td>80.000000</td>\n",
       "      <td>8.000000</td>\n",
       "      <td>6.000000</td>\n",
       "      <td>512.32920</td>\n",
       "    </tr>\n",
       "  </tbody>\n",
       "</table>\n",
       "</div>"
      ],
      "text/plain": [
       "          Survived      Pclass                       Name   Sex         Age  \\\n",
       "count   887.000000  887.000000                        887   887  887.000000   \n",
       "unique         NaN         NaN                        887     2         NaN   \n",
       "top            NaN         NaN  Mr. Richard William Smith  male         NaN   \n",
       "freq           NaN         NaN                          1   573         NaN   \n",
       "mean      0.385569    2.305524                        NaN   NaN   29.471443   \n",
       "std       0.487004    0.836662                        NaN   NaN   14.121908   \n",
       "min       0.000000    1.000000                        NaN   NaN    0.420000   \n",
       "25%       0.000000    2.000000                        NaN   NaN   20.250000   \n",
       "50%       0.000000    3.000000                        NaN   NaN   28.000000   \n",
       "75%       1.000000    3.000000                        NaN   NaN   38.000000   \n",
       "max       1.000000    3.000000                        NaN   NaN   80.000000   \n",
       "\n",
       "        Siblings/Spouses Aboard  Parents/Children Aboard       Fare  \n",
       "count                887.000000               887.000000  887.00000  \n",
       "unique                      NaN                      NaN        NaN  \n",
       "top                         NaN                      NaN        NaN  \n",
       "freq                        NaN                      NaN        NaN  \n",
       "mean                   0.525366                 0.383315   32.30542  \n",
       "std                    1.104669                 0.807466   49.78204  \n",
       "min                    0.000000                 0.000000    0.00000  \n",
       "25%                    0.000000                 0.000000    7.92500  \n",
       "50%                    0.000000                 0.000000   14.45420  \n",
       "75%                    1.000000                 0.000000   31.13750  \n",
       "max                    8.000000                 6.000000  512.32920  "
      ]
     },
     "execution_count": 11,
     "metadata": {},
     "output_type": "execute_result"
    }
   ],
   "source": [
    "titanic.describe(include='all')"
   ]
  },
  {
   "cell_type": "code",
   "execution_count": 12,
   "id": "strategic-korea",
   "metadata": {},
   "outputs": [
    {
     "name": "stdout",
     "output_type": "stream",
     "text": [
      "     Survived  Pclass                               Name     Sex  Age  \\\n",
      "809         0       3  Miss. Ebba Iris Alfrida Andersson  female  6.0   \n",
      "\n",
      "     Siblings/Spouses Aboard  Parents/Children Aboard    Fare  \n",
      "809                        4                        2  31.275  \n"
     ]
    }
   ],
   "source": [
    "print(titanic.loc[titanic['Name'] == 'Miss. Ebba Iris Alfrida Andersson'])"
   ]
  },
  {
   "cell_type": "code",
   "execution_count": 13,
   "id": "mental-checklist",
   "metadata": {},
   "outputs": [],
   "source": [
    "le = preprocessing.LabelEncoder()\n",
    "x_d = titanic[[\"Pclass\",\"Name\",\"Sex\",\"Age\",\"Siblings/Spouses Aboard\",\"Parents/Children Aboard\",\"Fare\"]]\n",
    "y = le.fit(titanic[\"Survived\"])\n",
    "y = le.transform(titanic[\"Survived\"])"
   ]
  },
  {
   "cell_type": "code",
   "execution_count": 14,
   "id": "olympic-tonight",
   "metadata": {},
   "outputs": [
    {
     "name": "stdout",
     "output_type": "stream",
     "text": [
      "     Pclass                              Name     Sex   Age  \\\n",
      "4         3           Mr. William Henry Allen    male  35.0   \n",
      "769       3                    Mr. Dibo Elias    male  29.0   \n",
      "374       3    Miss. Aurora Adelia Landergren  female  22.0   \n",
      "764       3                Mr. Daniel J Moran    male  28.0   \n",
      "582       1                Miss. Ruth Taussig  female  18.0   \n",
      "..      ...                               ...     ...   ...   \n",
      "525       3          Mr. Johan Werner Salonen    male  39.0   \n",
      "747       3                Master. Meier Moor    male   6.0   \n",
      "683       3           Mr. Jaako Arnold Panula    male  14.0   \n",
      "704       1  Mr. Edward Pennington Calderhead    male  42.0   \n",
      "542       1       Mr. Arthur Ernest Nicholson    male  64.0   \n",
      "\n",
      "     Siblings/Spouses Aboard  Parents/Children Aboard     Fare  \n",
      "4                          0                        0   8.0500  \n",
      "769                        0                        0   7.2250  \n",
      "374                        0                        0   7.2500  \n",
      "764                        1                        0  24.1500  \n",
      "582                        0                        2  79.6500  \n",
      "..                       ...                      ...      ...  \n",
      "525                        0                        0   7.9250  \n",
      "747                        0                        1  12.4750  \n",
      "683                        4                        1  39.6875  \n",
      "704                        0                        0  26.2875  \n",
      "542                        0                        0  26.0000  \n",
      "\n",
      "[709 rows x 7 columns]\n",
      "y_train [0 0 1 0 1 1 0 1 1 1 0 0 1 0 0 0 0 0 0 1 0 0 0 1 0 0 0 0 0 1 0 0 1 1 0 0 0\n",
      " 0 1 0 1 0 0 0 0 0 0 0 0 1 0 0 1 1 1 1 0 0 1 0 0 0 1 0 1 1 1 0 0 0 0 0 1 0\n",
      " 1 0 1 0 0 0 0 0 1 0 0 1 0 0 1 0 0 0 1 0 1 0 1 1 0 0 0 0 0 0 1 0 1 0 0 0 1\n",
      " 0 0 0 0 1 1 0 0 1 0 0 0 0 0 0 0 0 1 1 1 0 0 0 0 0 1 1 0 1 0 1 0 0 1 0 1 0\n",
      " 1 0 0 0 0 0 0 0 1 0 0 0 0 1 0 1 0 1 1 1 0 1 1 0 0 1 0 0 1 0 0 0 0 1 0 1 1\n",
      " 0 1 0 0 1 0 0 1 1 0 0 0 0 1 0 1 1 0 1 1 0 0 0 0 1 1 1 0 0 1 0 1 0 1 0 0 0\n",
      " 1 1 1 0 1 0 0 0 0 1 1 0 0 0 0 0 0 0 0 1 0 0 1 0 1 0 0 1 1 0 1 1 0 0 1 0 1\n",
      " 0 1 0 1 1 0 0 1 0 1 0 0 1 0 0 0 1 1 1 0 1 1 0 0 0 1 0 1 0 1 1 1 0 0 0 1 0\n",
      " 1 1 1 0 0 0 1 0 1 0 1 0 0 0 1 0 0 0 0 1 1 1 0 0 0 0 0 1 1 0 0 0 0 1 0 0 1\n",
      " 0 0 0 0 0 0 0 1 0 1 0 0 0 1 1 1 1 0 1 0 1 0 0 0 0 1 0 0 1 1 0 0 0 1 0 1 0\n",
      " 1 0 1 0 1 1 0 1 0 0 0 1 1 0 1 0 0 0 0 1 0 0 0 0 1 0 1 1 1 1 0 0 0 1 1 0 0\n",
      " 0 0 0 0 0 1 0 1 1 0 0 0 1 1 0 0 0 1 0 0 0 0 0 1 1 1 1 0 1 0 0 1 0 0 1 0 1\n",
      " 0 0 0 0 0 0 0 0 0 0 0 1 1 1 0 1 0 1 1 1 0 0 0 0 1 0 0 1 1 0 0 0 1 1 1 1 0\n",
      " 1 0 0 1 0 0 1 1 0 0 0 1 1 0 1 1 0 1 0 0 0 0 1 1 0 1 1 1 1 0 0 0 1 0 1 1 0\n",
      " 1 0 0 1 1 0 1 1 1 1 0 1 1 0 0 1 0 1 1 0 0 0 0 1 0 0 0 1 1 1 0 1 0 0 0 1 0\n",
      " 0 0 0 1 0 1 1 0 0 0 0 1 0 0 0 1 1 1 0 0 0 1 1 0 1 1 1 0 1 0 1 1 1 0 0 0 1\n",
      " 0 0 0 1 0 1 0 0 1 0 0 0 0 0 0 1 1 0 1 0 0 0 1 0 1 0 1 0 0 0 1 0 1 0 0 1 1\n",
      " 1 0 0 0 1 0 0 0 0 0 0 0 0 0 0 1 0 1 0 1 0 0 0 1 1 0 0 1 0 0 1 0 1 1 0 1 0\n",
      " 1 0 0 0 1 0 0 1 0 0 0 0 0 1 0 0 0 0 0 0 0 0 0 1 1 1 1 1 1 0 0 0 0 0 0 0 0\n",
      " 0 0 1 0 1 0]\n"
     ]
    }
   ],
   "source": [
    "\n",
    "xd_train, xd_test, y_train, y_test = train_test_split(x_d, y, test_size = 0.20)\n",
    "print(xd_train)\n",
    "print(\"y_train\", y_train)"
   ]
  },
  {
   "cell_type": "code",
   "execution_count": 24,
   "id": "temporal-dimension",
   "metadata": {},
   "outputs": [
    {
     "name": "stdout",
     "output_type": "stream",
     "text": [
      "Accucy:  0.601123595505618\n"
     ]
    }
   ],
   "source": [
    "\n",
    "oner = OneRClassifier()\n",
    "oner.fit(xd_train.to_numpy(),y_train)\n",
    "y_pred = oner.predict(xd_test.to_numpy())\n",
    "\n",
    "accuracy = accuracy_score(y_test, y_pred)\n",
    "print(\"Accucy: \", accuracy)\n"
   ]
  },
  {
   "cell_type": "code",
   "execution_count": 29,
   "id": "fabulous-germany",
   "metadata": {},
   "outputs": [
    {
     "name": "stdout",
     "output_type": "stream",
     "text": [
      "[0 0 0 0 0 0 1 1 0 1 0 0 0 0 1 0 0 0 0 1 0 1 1 1 1 0 0 1 0 0 0 0 0 1 1 1 1\n",
      " 0 1 0 1 1 1 1 0 1 0 1 0 0 1 0 0 1 0 0 1 1 0 1 1 0 0 0 0 0 0 0 1 1 1 1 1 0\n",
      " 0 0 1 0 0 0 0 1 0 0 0 0 0 0 0 1 0 1 0 0 0 0 0 1 0 1 1 0 0 0 1 0 1 1 0 0 0\n",
      " 0 0 1 1 0 1 1 0 1 0 0 0 1 1 1 0 0 1 0 1 1 0 0 1 0 1 1 1 1 0 0 0 0 0 1 0 0\n",
      " 0 0 0 1 0 1 1 0 0 0 0 0 1 0 1 0 0 1 0 0 1 0 1 1 1 1 0 0 0 1]\n",
      "[0 0 0 0 0 0 0 0 0 0 0 0 0 0 0 0 0 0 0 0 0 0 0 0 0 0 0 0 0 0 0 0 0 0 0 0 0\n",
      " 0 0 0 0 0 0 0 0 0 0 0 0 0 0 0 0 0 0 0 0 0 0 0 0 0 0 0 0 0 0 0 0 0 0 0 0 0\n",
      " 0 0 0 0 0 0 0 0 0 0 0 0 0 0 0 0 0 0 0 0 0 0 0 0 0 0 0 0 0 0 0 0 0 0 0 0 0\n",
      " 0 0 0 0 0 0 0 0 0 0 0 0 0 0 0 0 0 0 0 0 0 0 0 0 0 0 0 0 0 0 0 0 0 0 0 0 0\n",
      " 0 0 0 0 0 0 0 0 0 0 0 0 0 0 0 0 0 0 0 0 0 0 0 0 0 0 0 0 0 0]\n",
      "[[107   0]\n",
      " [ 71   0]]\n"
     ]
    }
   ],
   "source": [
    "print(y_test)\n",
    "print(y_pred)\n",
    "\n",
    "print(confusion_matrix(y_test, y_pred))"
   ]
  },
  {
   "cell_type": "code",
   "execution_count": 30,
   "id": "guilty-career",
   "metadata": {},
   "outputs": [
    {
     "name": "stdout",
     "output_type": "stream",
     "text": [
      "feature:  1\n"
     ]
    }
   ],
   "source": [
    "print(\"feature: \", oner.feature_idx_)"
   ]
  },
  {
   "cell_type": "code",
   "execution_count": 31,
   "id": "fatty-representation",
   "metadata": {},
   "outputs": [
    {
     "name": "stdout",
     "output_type": "stream",
     "text": [
      "prediction_dict_:  {'total error': 0, 'rules (value: class)': {'Capt. Edward Gifford Crosby': 0, 'Col. John Weir': 0, 'Col. Oberst Alfons Simonius-Blumer': 1, 'Dr. Alfred Pain': 0, 'Dr. Ernest Moraweck': 0, 'Dr. Henry William Frauenthal': 1, 'Dr. Max Stahelin-Maeglin': 1, 'Jonkheer. John George Reuchlin': 0, 'Lady. (Lucille Christiana Sutherland)Duff Gordon': 1, 'Major. Archibald Willingham Butt': 0, 'Master. Alden Gates Caldwell': 1, 'Master. Andre Mallet': 1, 'Master. Arthur Rice': 0, 'Master. Assad Alexander Thomas': 1, 'Master. Bertram Vere Dean': 1, 'Master. Clarence Gustaf Hugo Asplund': 0, 'Master. Eden Leslie Coutts': 1, 'Master. Edmond Roger Navratil': 1, 'Master. Edvin Rojj Felix Asplund': 1, 'Master. Eino Viljami Panula': 0, 'Master. Eric Rice': 0, 'Master. Eugene Rice': 0, 'Master. Frank John William Goldsmith': 1, 'Master. George Hugh Rice': 0, 'Master. George Sibley Richards': 1, 'Master. Gerios Moubarek': 1, 'Master. Gosta Leonard Palsson': 0, 'Master. Halim Gonios Moubarek': 1, 'Master. Harald Skoog': 0, 'Master. Harold Theodor Johnson': 1, 'Master. Harold Victor Goodwin': 0, 'Master. John Morgan Jr Davies': 1, 'Master. Juha Niilo Panula': 0, 'Master. Karl Thorsten Skoog': 0, 'Master. Meier Moor': 1, 'Master. Sidney Leonard Goodwin': 0, 'Master. Sigvard Harald Elias Andersson': 0, 'Master. Thomas Henry Sage': 0, 'Master. Urho Abraham Panula': 0, 'Master. Viljo Hamalainen': 1, 'Master. Washington Dodge': 1, 'Master. William Frederick Goodwin': 0, 'Master. William Loch Coutts': 1, 'Master. William Thornton II Carter': 1, 'Miss. (Marion Ogden) Meanwell': 0, 'Miss. Adele Kiamie Najib': 1, 'Miss. Agda Thorilda Viktoria Lindahl': 0, 'Miss. Agnes McCoy': 1, 'Miss. Albina Bazzani': 1, 'Miss. Alice Cleaver': 1, 'Miss. Alice Elizabeth Fortune': 1, 'Miss. Alice Herman': 1, 'Miss. Alice Phoebe Harknett': 0, 'Miss. Aloisia Haas': 0, 'Miss. Amelia Brown': 1, 'Miss. Ann Elizabeth Isham': 0, 'Miss. Anna Katherine Kelly': 1, 'Miss. Anna Kristine Salkjelsvik': 1, 'Miss. Anna Peter': 1, 'Miss. Anna Sinkkonen': 1, 'Miss. Anna Sofia Nysten': 1, 'Miss. Anna Sofia Sjoblom': 1, 'Miss. Anna Sofia Turja': 1, 'Miss. Anne Perreault': 1, 'Miss. Annie Clemmer Funk': 0, 'Miss. Annie Jermyn': 1, 'Miss. Annie Jessie Harper': 1, 'Miss. Asuncion Duran y More': 1, 'Miss. Augusta Charlotta Lindblom': 0, 'Miss. Augusta Maria Vander Planke': 0, 'Miss. Augusta Serepeca': 1, 'Miss. Aurora Adelia Landergren': 1, 'Miss. Banoura Ayoub': 1, 'Miss. Bertha LeRoy': 1, 'Miss. Bertha Lehmann': 1, \"Miss. Bridget Mary O'Sullivan\": 0, \"Miss. Bridget O'Driscoll\": 1, 'Miss. Brigdet Delia McDermott': 1, 'Miss. Carla Christine Nielsine Andersen-Jensen': 1, 'Miss. Caroline Louise Endres': 1, 'Miss. Catharina Van Impe': 0, 'Miss. Catherine Helen Johnston': 0, 'Miss. Clear Annie Cameron': 1, 'Miss. Constance Gladys Sage': 0, 'Miss. Constance Mirium West': 1, 'Miss. Delia Henry': 0, 'Miss. Doolina Margaret Ford': 0, 'Miss. Dorothy Edith Sage': 0, 'Miss. Ebba Iris Alfrida Andersson': 0, 'Miss. Edwina Celia Troutt': 1, 'Miss. Eleanor Ileen Johnson': 1, 'Miss. Elina Olsson': 0, 'Miss. Elisabeth Walton Allen': 1, 'Miss. Elise Lurette': 1, 'Miss. Elizabeth Bonnell': 1, 'Miss. Elizabeth Dowdell': 1, 'Miss. Elizabeth Mussey Eustis': 1, 'Miss. Elizabeth W Shutes': 1, 'Miss. Ellen Natalia Pettersson': 0, \"Miss. Ellen O'Dwyer\": 1, 'Miss. Ellen Toomey': 1, 'Miss. Ellis Anna Maria Andersson': 0, 'Miss. Elsie Doling': 1, 'Miss. Elsie Edith Bowerman': 1, 'Miss. Emily Borie Ryerson': 1, 'Miss. Emily Rugg': 1, 'Miss. Erna Alexandra Andersson': 1, 'Miss. Ethel Garside': 1, 'Miss. Eugenie Baclini': 1, 'Miss. Eva Miriam Hart': 1, 'Miss. Georgette Alexandra Madill': 1, 'Miss. Gerda Ulrika Dahlberg': 0, 'Miss. Gladys Cherry': 1, 'Miss. Gretchen Fiske Longley': 1, 'Miss. Hanora Hegarty': 0, \"Miss. Hanora O'Leary\": 1, 'Miss. Harriet R Crosby': 1, 'Miss. Hedwig Margaritha Frolicher': 1, 'Miss. Helen Carr': 1, 'Miss. Helen Loraine Allison': 0, 'Miss. Helen Mary Mockler': 1, 'Miss. Helene Barbara Baclini': 1, 'Miss. Helmina Josefina Nilsson': 1, 'Miss. Henriette Yrois': 0, 'Miss. Hilda Mary Slayter': 1, 'Miss. Hildur E Hirvonen': 1, 'Miss. Hulda Amanda Adolfina Vestrom': 0, 'Miss. Ida Sofia Strandberg': 0, 'Miss. Jamila Nicola-Yarred': 1, 'Miss. Jean Gertrude Hippach': 1, 'Miss. Jeannie Lefebre': 0, 'Miss. Jessie Wills Leitch': 1, 'Miss. Joan Wells': 1, 'Miss. Julie Rachel Christy': 1, 'Miss. Kate Connolly': 1, 'Miss. Kate Florence Phillips': 1, 'Miss. Katherine Mullens': 1, 'Miss. Katie Peters': 0, 'Miss. Kornelia Theodosia Andrews': 1, 'Miss. Kristina Sofia Laitinen': 0, 'Miss. Laina Heikkinen': 1, 'Miss. Laura Mabel Francatelli': 1, 'Miss. Lucile Polk Carter': 1, 'Miss. Lucy Ridsdale': 1, 'Miss. Luise Gretchen Kink-Heilmann': 1, 'Miss. Lyyli Karoliina Silven': 1, 'Miss. Mabel Helen Fortune': 1, 'Miss. Mabel Skoog': 0, 'Miss. Madeleine Newell': 1, 'Miss. Madeleine Violet Mellinger': 1, 'Miss. Malake Attalah': 0, 'Miss. Manca Karun': 1, 'Miss. Margaret Edith Graham': 1, 'Miss. Margaret Fleming': 1, 'Miss. Margaret Jane Murphy': 1, 'Miss. Margaret Madigan': 1, 'Miss. Margareth Mannion': 1, 'Miss. Marguerite Rut Sandstrom': 1, 'Miss. Mari Aina Jussila': 0, 'Miss. Marie Catherine Baclini': 1, 'Miss. Marie Grice Young': 1, 'Miss. Marija Cacic': 0, 'Miss. Marion Elsie Smith': 1, 'Miss. Marion Louise Becker': 1, 'Miss. Marjorie Newell': 1, 'Miss. Mary Agatha Glynn': 1, 'Miss. Mary Bourke': 0, 'Miss. Mary Canavan': 0, 'Miss. Mary Conover Lines': 1, 'Miss. Mary Davis': 1, 'Miss. Mary Kelly': 1, 'Miss. Mary Mangan': 0, 'Miss. Mary McGovern': 1, 'Miss. Mary Natalie Wick': 1, 'Miss. Mathilde Lefebre': 0, 'Miss. Matilda Petranec': 0, 'Miss. Nora A Keane': 1, 'Miss. Nourelain Boulos': 0, 'Miss. Phyllis May Quick': 1, 'Miss. Pieta Sofia Ilmakangas': 0, 'Miss. Roberta Maioni': 1, 'Miss. Ruth Taussig': 1, 'Miss. Sara Rebecca Compton': 1, 'Miss. Simonne Marie Anne Andree Laroche': 1, 'Miss. Stella Anna Sage': 0, 'Miss. Stina Viola Palsson': 0, 'Miss. Susan Parker Ryerson': 1, 'Miss. Susan Webber': 1, 'Miss. Telma Matilda Strom': 0, 'Miss. Thamine Zabour': 0, 'Miss. Torborg Danira Palsson': 0, 'Miss. Velin Ohman': 1, 'Miss. Virginia Ethel Emanuel': 1, 'Miss. Wendla Maria Heininen': 0, 'Mlle. Berthe Antonine Mayne': 1, 'Mlle. Emma Sagesser': 1, 'Mme. Leontine Pauline Aubart': 1, 'Mr. Abraham (David Lishin) Harmer': 0, 'Mr. Achille Waelens': 0, 'Mr. Adola Asim': 0, 'Mr. Adolf Mathias Nicolai Olsen Humblen': 0, 'Mr. Ahmed Ali': 0, 'Mr. Albert A Stewart': 0, 'Mr. Albert Augustsson': 0, 'Mr. Albert Johan Moss': 1, 'Mr. Albert Mallet': 0, 'Mr. Alexander Oskar Holverson': 0, 'Mr. Alexander Radeff': 0, 'Mr. Alfons de Pelsmaeker': 0, 'Mr. Alfonzo Meo': 0, 'Mr. Alfred Fleming Cunningham': 0, 'Mr. Alfred Gaskell': 0, 'Mr. Alfred George John Rush': 0, 'Mr. Alfred J Davies': 0, 'Mr. Alfred Johnson': 0, 'Mr. Alfred Ossian Gustafsson': 0, 'Mr. Algernon Henry Wilson Barkworth': 1, 'Mr. Ambrose Jr Hood': 0, 'Mr. Amin Saad': 0, 'Mr. Anders Johan Andersson': 0, 'Mr. Anders Vilhelm Gustafsson': 0, 'Mr. Andrew G Johnston': 0, 'Mr. Andrew Keane': 0, 'Mr. Anthony Abbing': 0, 'Mr. Antti Gustaf Leinonen': 0, 'Mr. Antti Wilhelm Sivola': 0, 'Mr. Arne Jonas Fahlstrom': 0, 'Mr. Arthur Ernest Nicholson': 0, 'Mr. Arthur H Gee': 0, 'Mr. Arthur Keefe': 0, 'Mr. Arthur Webster Newell': 0, 'Mr. August Edvard Andersson': 1, 'Mr. August Meyer': 0, 'Mr. August Sigfrid Carlsson': 0, 'Mr. August Viktor Larsson': 0, 'Mr. Austin Blyler van Billiard': 0, 'Mr. Benjamin Guggenheim': 0, 'Mr. Benjamin Hart': 0, 'Mr. Benjamin Laventall Foreman': 0, 'Mr. Berk (Berk Trembisky) Pickard': 1, 'Mr. Bernard McCoy': 1, 'Mr. Bernt Johannesen-Bratthammer': 1, 'Mr. Bertram Frank Dean': 0, 'Mr. Branko Dakic': 0, 'Mr. Carl Jonsson': 1, 'Mr. Carl/Charles Peter Widegren': 0, 'Mr. Cerin Balkic': 0, 'Mr. Chang Chip': 1, 'Mr. Charles Duane Williams': 0, 'Mr. Charles Eugene Williams': 1, 'Mr. Charles Frederick Waddington Sedgwick': 0, 'Mr. Charles H Natsch': 0, 'Mr. Charles Hallace Romaine': 1, 'Mr. Charles Henry Chapman': 0, 'Mr. Charles Henry Davies': 0, 'Mr. Charles Joseph Shorney': 0, 'Mr. Charles Wilhelms': 1, 'Mr. Choong Foo': 1, 'Mr. Christo Nenkoff': 0, 'Mr. Claus Peter Hansen': 0, 'Mr. Daniel Coxon': 0, 'Mr. Daniel Danielsen Gronnestad': 0, 'Mr. Daniel J Moran': 0, 'Mr. Daniel Warner Marvin': 0, 'Mr. David Charters': 0, 'Mr. David John Barton': 0, 'Mr. David Reeves': 0, 'Mr. Denis Lennon': 0, 'Mr. Dibo Elias': 0, 'Mr. Dickinson H Bishop': 1, 'Mr. Domingos Fernandeo Coelho': 0, 'Mr. Douglas Bullen Sage': 0, 'Mr. Eberhard Thelander Fischer': 0, 'Mr. Edgardo Samuel Andrew': 0, 'Mr. Edvard Bengtsson Lindell': 0, 'Mr. Edvard Pekoniemi': 0, 'Mr. Edward Arthur Dorking': 1, 'Mr. Edward Austin Kent': 0, 'Mr. Edward Beane': 1, 'Mr. Edward Pennington Calderhead': 1, 'Mr. Edward Roland Stanley': 0, 'Mr. Edward Willey': 0, 'Mr. Edwin Nelson Jr Kimball': 1, 'Mr. Edwy Arthur West': 0, 'Mr. Einar Windelov': 0, 'Mr. Eino William Lindqvist': 1, 'Mr. Eiriik Jussila': 1, 'Mr. Eliezer Gilinski': 0, 'Mr. Emil Christmann': 0, 'Mr. Emil Taussig': 0, 'Mr. Emile Richard': 0, 'Mr. Engelhart Cornelius Ostby': 0, 'Mr. Ennis Hastings Watson': 0, 'Mr. Erik Gustaf Collander': 0, 'Mr. Erik Johansson': 0, 'Mr. Ernest Charles Cann': 0, 'Mr. Ernest James Crease': 0, 'Mr. Ernest Portage Tomlin': 0, 'Mr. Ernesti Arvid Panula': 0, 'Mr. Ernst Adolf Sjostedt': 0, 'Mr. Ernst Gilbert Danbom': 0, 'Mr. Ernst Ulrik Persson': 1, 'Mr. Ernst William Torber': 0, 'Mr. Ervin G Lewy': 0, 'Mr. Eugene Patrick Daly': 1, 'Mr. Fang Lang': 1, 'Mr. Farred Chehab Emir': 0, 'Mr. Fletcher Fellows Williams-Lambert': 0, 'Mr. Francesco Celotti': 0, 'Mr. Francis Davis Millet': 0, 'Mr. Francis Parkes': 0, 'Mr. Francis William Somerton': 0, 'Mr. Francisco M Carrau': 0, 'Mr. Frank Duane': 0, 'Mr. Frank John Goldsmith': 0, 'Mr. Frans Olof Carlsson': 0, 'Mr. Frederick Charles Sawyer': 0, 'Mr. Frederick Edward Giles': 0, 'Mr. Frederick James Banfield': 0, 'Mr. Frederick Sage': 0, 'Mr. Frederick William Pengelly': 0, 'Mr. Frederick William Shellard': 0, 'Mr. Fridtjof Arne Madsen': 1, 'Mr. George Achilles Harder': 1, 'Mr. George B Goldschmidt': 0, 'Mr. George Bradley': 1, 'Mr. George Edward Graham': 0, 'Mr. George Floyd Eitemiller': 0, 'Mr. George Harris': 1, 'Mr. George Henry Green': 0, 'Mr. George Henry Hunt': 0, 'Mr. George Patchett': 0, 'Mr. George Quincy Clifford': 0, 'Mr. George Wright': 0, 'Mr. Gerious Youseff': 0, 'Mr. Guentcho Bostandyeff': 0, 'Mr. Gustaf Hjalmar Edvardsson': 0, 'Mr. Hammad Hassab': 1, 'Mr. Hanna Assi Barah': 1, 'Mr. Hans Kristensen Givard': 0, 'Mr. Hans Linus Eklund': 0, 'Mr. Hans Martin Monsen Birkeland': 0, 'Mr. Harry Anderson': 1, 'Mr. Harry Elkins Widener': 0, 'Mr. Harry Homer': 1, 'Mr. Harvey Collyer': 0, 'Mr. Henry Birkhardt Harris': 0, 'Mr. Henry Damsgaard Hansen': 0, 'Mr. Henry Hart': 0, 'Mr. Henry Jr Sutehall': 0, 'Mr. Henry Margido Olsen': 0, 'Mr. Henry Samuel Morley': 0, 'Mr. Herman Klaber': 0, 'Mr. Houssein G N Hassan': 0, 'Mr. Howard Hugh Williams': 0, 'Mr. Hugh Roscoe Rood': 0, 'Mr. Hugh Woolner': 1, 'Mr. Husein Sivic': 0, 'Mr. Ignjac Hendekovic': 0, 'Mr. Iisakki Antino Aijo Nirva': 0, 'Mr. Ilia Stoytcheff': 0, 'Mr. Ilmari Rudolf Alhomaki': 0, 'Mr. Ingvald Olai Olsen Hagland': 0, 'Mr. Ivan Jalsevac': 1, 'Mr. Ivan Staneff': 0, 'Mr. Ivan Stankovic': 0, 'Mr. Jaako Arnold Panula': 0, 'Mr. Jacob Christian Milling': 0, 'Mr. Jakob Alfred Wiklund': 0, 'Mr. James Farrell': 0, 'Mr. James Flynn': 0, 'Mr. James George Reed': 0, 'Mr. James H Bracken': 0, 'Mr. James Kelly': 0, 'Mr. James Lester': 0, 'Mr. James Moran': 0, 'Mr. James Robert McGough': 1, 'Mr. James Webber': 0, 'Mr. Jan Baptist Sheerlinck': 1, 'Mr. Jean Baptiste Van Impe': 0, 'Mr. Jeremiah Burke': 0, 'Mr. Jeso Culumovic': 0, 'Mr. Johan Ekstrom': 0, 'Mr. Johan Hansen Nysveen': 0, 'Mr. Johan Henrik Johannesson Kvillner': 0, 'Mr. Johan Julian Sundman': 1, 'Mr. Johan Svensson': 0, 'Mr. Johan Werner Salonen': 0, 'Mr. Johann Markun': 0, 'Mr. Johannes Joseph Vande Velde': 0, 'Mr. John Adams': 0, 'Mr. John Borland Jr Thayer': 1, 'Mr. John Borland Thayer': 0, 'Mr. John Bourke': 0, 'Mr. John D Baumann': 0, 'Mr. John Denzil Jarvis': 0, 'Mr. John Flynn': 0, 'Mr. John Garfirth': 0, 'Mr. John Hall Lovell': 0, 'Mr. John Hatfield Cribb': 0, 'Mr. John Henry Chapman': 0, 'Mr. John Henry Perkin': 0, 'Mr. John Horgan': 0, 'Mr. John Hugo Ross': 0, 'Mr. John Irwin Flynn': 1, 'Mr. John Montgomery Smart': 0, 'Mr. John Simmons': 0, 'Mr. John Viktor Bengtsson': 0, 'Mr. John William Gill': 0, 'Mr. Jose Neto Jardin': 0, 'Mr. Josef Arnold-Franchi': 0, 'Mr. Joseph Charles Nicholls': 0, 'Mr. Joseph J Fynney': 0, 'Mr. Joseph Murdlin': 0, 'Mr. Jovo Calic': 0, 'Mr. Jozef Drazenoic': 0, 'Mr. Juha Niskanen': 1, 'Mr. Juho Stranden': 1, 'Mr. Julian Padro y Manent': 1, 'Mr. Kanio Ivanoff': 0, 'Mr. Karl Edwart Dahl': 1, 'Mr. Karl Gideon Gustafsson': 0, 'Mr. Karl Ivar Sven Berglund': 0, 'Mr. Karl Johan Johansson': 0, 'Mr. Karl Siegwart Andreas Olsen': 0, 'Mr. Kristo Laleff': 0, 'Mr. Kurt Arnold Gottfrid Bryhl': 0, 'Mr. Lalio Jonkoff': 0, 'Mr. Lalio Todoroff': 0, 'Mr. Lawrence Gavey': 0, 'Mr. Lee Bing': 1, 'Mr. Len Lam': 0, 'Mr. Leo Edmondus Vander Planke': 0, 'Mr. Leo Peter Vanden Steen': 0, 'Mr. Leo Zimmerman': 0, 'Mr. Leon Hampe': 0, 'Mr. Leonard Mark Hickman': 0, 'Mr. Leslie Williams': 0, 'Mr. Lewis Hickman': 0, 'Mr. Lewis Richard Braund': 0, 'Mr. Lionel Leonard': 0, 'Mr. Liudevit Cor': 0, 'Mr. Luka Cacic': 0, 'Mr. Malkolm Joackim Johnson': 0, 'Mr. Mansouer Novel': 0, 'Mr. Mansour Hanna': 0, 'Mr. Manuel Estanslas Goncalves': 0, 'Mr. Marin Markoff': 0, 'Mr. Martin McMahon': 0, 'Mr. Martin Ponesell': 0, 'Mr. Matthew Sadlier': 0, 'Mr. Matti Alexanteri Maenpaa': 0, 'Mr. Matti Rintamaki': 0, 'Mr. Mauritz Hakan Bjornstrom-Steffansson': 1, 'Mr. Mauritz Nils Martin Adahl': 0, 'Mr. Maxmillian Frolicher-Stehli': 1, 'Mr. Mile Smiljanic': 0, 'Mr. Milton Clyde Long': 0, 'Mr. Minko Nankoff': 0, 'Mr. Mito Mitkoff': 0, 'Mr. Mitto Denkoff': 0, 'Mr. Moses Aaron Troupiansky': 0, 'Mr. Nakli Toufik': 0, 'Mr. Nassef Cassem Albimona': 1, 'Mr. Neal McNamee': 0, 'Mr. Nedelio Petroff': 0, 'Mr. Nestor Cyriel Vande Walle': 0, 'Mr. Nicholas Nasser': 0, 'Mr. Niels Peder Jensen': 0, 'Mr. Nikola Lulic': 1, 'Mr. Nikolai Erland Kallio': 0, 'Mr. Nils Johan Goransson Olsson': 0, 'Mr. Nils Martin Odahl': 0, 'Mr. Norman Campbell Chambers': 1, 'Mr. Olaf Elon Osen': 0, 'Mr. Olof Svensson': 0, 'Mr. Orsen Sirayanian': 0, 'Mr. Oskar Arvid Hedman': 1, 'Mr. Owen George Allum': 0, 'Mr. Owen Harris Braund': 0, 'Mr. Pastcho Petroff': 0, 'Mr. Patrick Connors': 0, 'Mr. Patrick Dooley': 0, 'Mr. Paul Edvin Andreasson': 0, 'Mr. Pehr Fabian Oliver Malkolm Myhrman': 0, 'Mr. Peju Coleff': 0, 'Mr. Penko Naidenoff': 0, 'Mr. Percival James R Sharp': 0, 'Mr. Percival Thorneycroft': 0, 'Mr. Percival Wayland White': 0, 'Mr. Percy Andrew Bailey': 0, 'Mr. Petar Calic': 0, 'Mr. Petco Slabenoff': 0, 'Mr. Peter Andreas Lauritz Andersen Soholt': 0, 'Mr. Peter David McKane': 0, 'Mr. Peter Denis Daly': 1, 'Mr. Peter Henry Renouf': 0, 'Mr. Peter L Lemberopolous': 0, 'Mr. Philemon van Melkebeke': 0, 'Mr. Philip Kiernan': 0, 'Mr. Phillippe Wiseman': 0, 'Mr. Pierre Marechal': 1, 'Mr. Quigg Edmond Baxter': 0, 'Mr. Rahamin Haim Moutal': 0, 'Mr. Raihed Razi': 0, 'Mr. Ramon Artagaveytia': 0, 'Mr. Reginald Charles Coleridge': 0, 'Mr. Reginald Fenton Butler': 0, 'Mr. Reginald Hale': 0, 'Mr. Rene Aime Lievens': 0, 'Mr. Rene Jacques Levy': 0, 'Mr. Rene Pernot': 0, 'Mr. Richard Frasar White': 0, 'Mr. Richard Fry': 0, 'Mr. Richard James Slemen': 0, 'Mr. Richard Otter': 0, 'Mr. Richard William Smith': 0, 'Mr. Robert Douglas Norman': 0, 'Mr. Robert Mernagh': 0, 'Mr. Robert William Norman Leyson': 0, 'Mr. Robert Williams Daniel': 1, 'Mr. Roger Tobin': 0, 'Mr. Rossmore Edward Abbott': 0, 'Mr. Sahid Nakid': 1, 'Mr. Samuel Beard Risien': 0, 'Mr. Samuel Dennis': 0, 'Mr. Samuel Greenberg': 0, 'Mr. Samuel James Hayden Sobey': 0, 'Mr. Samuel L Goldenberg': 1, 'Mr. Sante Ringhini': 0, 'Mr. Sarkis Lahoud': 0, 'Mr. Satio Coleff': 0, 'Mr. Sebastiano del Carlo': 0, 'Mr. Shadrach Gale': 0, 'Mr. Sidney Samuel Jacobsohn': 0, 'Mr. Sigurd Hansen Moen': 0, 'Mr. Sinai Kantor': 0, 'Mr. Sleiman Attalah': 0, 'Mr. Spencer Victor Silverthorne': 1, 'Mr. Stanley George Hickman': 0, 'Mr. Stanley Hubert Fox': 0, 'Mr. Stefo Pavlovic': 0, 'Mr. Stephen Curnow Jenkin': 0, 'Mr. Stephen Hold': 0, 'Mr. Stephen Weart Blackwell': 0, 'Mr. Stjepan Turcin': 0, 'Mr. Stoytcho Mionoff': 0, 'Mr. Svend Lauritz Jensen': 0, 'Mr. Tannous Betros': 0, 'Mr. Tannous Doharr': 0, 'Mr. Tannous Elias': 0, 'Mr. Theodore de Mulder': 1, 'Mr. Thomas Charles Mudd': 0, 'Mr. Thomas Clinton Pears': 0, 'Mr. Thomas Drake Martinez Cardeza': 1, 'Mr. Thomas J Kilgannon': 0, 'Mr. Thomas Joseph McCormack': 1, 'Mr. Thomas Leonard Theobald': 0, \"Mr. Thomas O'Brien\": 0, 'Mr. Thomas Rowan Morrow': 0, 'Mr. Thor Anderson Olsvigen': 0, 'Mr. Thornton Davidson': 0, 'Mr. Tido Rekic': 0, 'Mr. Timothy J McCarthy': 0, \"Mr. Timothy O'Brien\": 0, 'Mr. Tyrell William Cavendish': 0, 'Mr. Uscher Paulner': 0, 'Mr. Victor Giglio': 0, 'Mr. Victor Robbins': 0, 'Mr. Victor Vander Cruyssen': 0, 'Mr. Victor de Satode Penasco y Castellana': 0, 'Mr. Vincenz Kink': 0, 'Mr. Walter Chamberlain Porter': 0, 'Mr. Walter Donald Douglas': 0, 'Mr. Walter Harris': 0, 'Mr. Walter James Hawksford': 1, 'Mr. Wazli Yousif': 0, 'Mr. William Alexander': 0, 'Mr. William Alfred Brocklebank': 0, 'Mr. William Anderson Walker': 0, 'Mr. William Arthur Lobb': 0, 'Mr. William Bertram Greenfield': 1, 'Mr. William Campbell': 0, 'Mr. William Carbines': 0, 'Mr. William Ernest Carter': 1, 'Mr. William Harrison': 0, 'Mr. William Henry Allen': 0, 'Mr. William Henry Gillespie': 0, 'Mr. William Henry Marsh Parr': 0, 'Mr. William Henry Saundercock': 0, 'Mr. William Henry Tornquist': 1, 'Mr. William James Elsbury': 0, 'Mr. William John Matthews': 0, 'Mr. William John Mellors': 1, 'Mr. William John Robert Turpin': 0, 'Mr. William John Rogers': 0, 'Mr. William Neal Ford': 0, 'Mr. William Thomas Beavan': 0, 'Mr. William Thompson Sloper': 1, 'Mr. Wyckoff Van der hoef': 0, 'Mr. Yoto Danoff': 0, 'Mr. Youssef Samaan': 0, 'Mr. Yousseff Ibrahim Shawah': 0, 'Mrs. (Ada E Hall) Ball': 1, 'Mrs. (Amelia Milley) Lemore': 1, 'Mrs. (Catherine David) Barbara': 0, 'Mrs. (Edith Martha Bowerman) Chibnall': 1, 'Mrs. (Elizabeth Ramell) Nye': 1, 'Mrs. (Hedwig) Turkula': 1, 'Mrs. (Karolina) Bystrom': 1, 'Mrs. (Lutie Davis) Parrish': 1, 'Mrs. (Mantoura Boulos) Moussa': 1, 'Mrs. (Mary D Kingcome) Hewlett': 1, 'Mrs. (Mary) Mack': 0, 'Mrs. (Rosa) Pinsky': 1, 'Mrs. Albert Francis (Sylvia Mae Harbaugh) Caldwell': 1, 'Mrs. Alexander A (Grace Charity Laury) Robins': 0, 'Mrs. Alexander Oskar (Mary Aline Towner) Holverson': 1, 'Mrs. Anders Johan (Alfrida Konstantia Brogren) Andersson': 0, 'Mrs. Benjamin (Esther Ada Bloomfield) Hart': 1, 'Mrs. Carl Oscar (Selma Augusta Emilia Johansson) Asplund': 1, 'Mrs. Catherine (Catherine Rizk) Peter': 1, 'Mrs. Charles Alexander (Alice Adelaide Slow) Louch': 1, 'Mrs. Charles Melville (Clara Jennings Gregg) Hays': 1, 'Mrs. Charles V (Ada Maria Winfield) Clarke': 1, 'Mrs. Darwis (Hanne Youssef Razi) Touma': 1, 'Mrs. Dickinson H (Helen Walton) Bishop': 1, 'Mrs. Edgar Joseph (Leila Saks) Meyer': 1, 'Mrs. Edward (Margaret Ann Watson) Ford': 0, 'Mrs. Edward Dale (Charlotte Lamson) Appleton': 1, 'Mrs. Edwy Arthur (Ada Mary Worth) West': 1, 'Mrs. Elizabeth (Eliza Needs) Hocking': 1, 'Mrs. Elmer Zebley (Juliet Cummins Wright) Taylor': 1, 'Mrs. Ernest Courtenay (Lilian Hughes) Carter': 0, 'Mrs. Ernst Gilbert (Anna Sigrid Maria Brogren) Danbom': 0, 'Mrs. Fatima Masselmani': 1, 'Mrs. Florence Kelly': 1, 'Mrs. Frank John (Emily Alice Brown) Goldsmith': 1, 'Mrs. Frederic Oakley (Margaretta Corning Stone) Spedden': 1, 'Mrs. Frederick (Augusta Tyler) Goodwin': 0, 'Mrs. Frederick Charles (Jane Richards) Quick': 1, 'Mrs. Frederick Joel (Margaret Welles Barron) Swift': 1, 'Mrs. Frederick Maxfield (Jane Anne Forby) Hoyt': 1, 'Mrs. Frederick R (Marion) Kenyon': 1, 'Mrs. George Dennick (Mary Hitchcock) Wick': 1, 'Mrs. George Nelson (Martha Evelyn) Stone': 1, 'Mrs. Gertrude Maybelle Thorne': 1, 'Mrs. Harvey (Charlotte Annie Tate) Collyer': 1, 'Mrs. Henry Birkhardt (Irene Wallach) Harris': 1, 'Mrs. Henry William (Clara Heinsheimer) Frauenthal': 1, 'Mrs. Hjalmar (Agnes Charlotta Bengtsson) Sandstrom': 1, 'Mrs. Hudson J C (Bessie Waldo Daniels) Allison': 0, 'Mrs. James (Elizabeth Inglis Milne) Watt': 1, 'Mrs. James (Helene DeLaudeniere Chaput) Baxter': 1, 'Mrs. James Joseph (Margaret Tobin) Brown': 1, 'Mrs. James Vivian (Lulu Thorne Christian) Drew': 1, 'Mrs. Jean Baptiste (Rosalie Paula Govaert) Van Impe': 0, 'Mrs. Johan (Johanna Persdotter Larsson) Ahlin': 0, 'Mrs. John (Catherine) Bourke': 0, 'Mrs. John Borland (Marian Longstreth Morris) Thayer': 1, 'Mrs. John Bradley (Florence Briggs Thayer) Cumings': 1, 'Mrs. John Jacob (Madeleine Talmadge Force) Astor': 1, 'Mrs. Josef (Josefine Franchi) Arnold-Franchi': 0, 'Mrs. Joseph (Juliette Marie Louise Lafargue) Laroche': 1, 'Mrs. Joseph (Maria Elias) Caram': 0, 'Mrs. Juha (Maria Emilia Ojala) Panula': 0, 'Mrs. Julius (Emelia Maria Vandemoortele) Vander Planke': 0, 'Mrs. Karl Alfred (Maria Mathilda Gustafsson) Backstrom': 1, 'Mrs. Lizzie (Elizabeth Anne Wilkinson) Faunthorpe': 1, 'Mrs. Mara Osman': 1, 'Mrs. Martin (Elizabeth L. Barrett) Rothschild': 1, 'Mrs. Nicholas (Adele Achem) Nasser': 1, 'Mrs. Nils (Alma Cornelia Berglund) Palsson': 0, 'Mrs. Oscar W (Elisabeth Vilhelmina Berg) Johnson': 1, 'Mrs. Percival (Florence Kate White) Thorneycroft': 1, 'Mrs. Peter Henry (Lillian Jefferys) Renouf': 1, 'Mrs. Richard Leonard (Sallie Monypeny) Beckwith': 1, 'Mrs. Sam (Leah Rosen) Aks': 1, 'Mrs. Samuel (Hannah Wizosky) Abelson': 1, 'Mrs. Samuel (Jane Laver) Herman': 1, 'Mrs. Samuel L (Edwiga Grabowska) Goldenberg': 1, 'Mrs. Sidney (Emily Hocking) Richards': 1, 'Mrs. Sidney Samuel (Amy Frances Christy) Jacobsohn': 1, 'Mrs. Sinai (Miriam Sternin) Kantor': 1, 'Mrs. Solomon (Latifa Qurban) Baclini': 1, 'Mrs. Stanton (Rosa Hunt) Abbott': 1, 'Mrs. Thomas (Annie Louise Rowley) Meek': 0, 'Mrs. Thomas (Edith Wearne) Pears': 1, \"Mrs. Thomas (Johanna Godfrey) O'Brien\": 1, 'Mrs. Thomas Henry (Mary E Finck) Davison': 1, 'Mrs. Thomas Jr (Lily Alexenia Wilson) Potter': 1, 'Mrs. Viktor (Helena Wilhelmina) Rosblom': 0, 'Mrs. Walter Bertram (Martha Eustis) Stephenson': 1, 'Mrs. Wilhelm (Elna Matilda Persson) Strom': 0, 'Mrs. William (Anna Bernhardina Karlsson) Skoog': 0, 'Mrs. William (Anna Sylfven) Lahtinen': 0, 'Mrs. William A (Florence Agnes Hughes) Angle': 1, 'Mrs. William Arthur (Cordelia K Stanlick) Lobb': 0, 'Mrs. William Baird (Alice Munger) Silvey': 1, 'Mrs. William Ernest (Lucile Polk) Carter': 1, 'Mrs. William H (Jessie L) Trout': 1, 'Mrs. William Thompson (Edith Junkins) Graham': 1, 'Rev. Charles Leonard Kirkland': 0, 'Rev. Ernest Courtenay Carter': 0, 'Rev. Juozas Montvila': 0, 'Rev. Robert James Bateman': 0, 'Rev. Thomas Roussel Davids Byles': 0, 'Sir. Cosmo Edmund Duff Gordon': 1, 'the Countess. of (Lucy Noel Martha Dyer-Edwards) Rothes': 1}}\n"
     ]
    }
   ],
   "source": [
    "print(\"prediction_dict_: \", oner.prediction_dict_)"
   ]
  },
  {
   "cell_type": "markdown",
   "id": "altered-greeting",
   "metadata": {},
   "source": [
    "### Q3. "
   ]
  },
  {
   "cell_type": "code",
   "execution_count": 47,
   "id": "close-kelly",
   "metadata": {},
   "outputs": [],
   "source": [
    "x_d_new = titanic[[\"Survived\",\"Sex\",\"Age\",\"Siblings/Spouses Aboard\",\"Parents/Children Aboard\"]]\n",
    "y_new = le.fit(titanic[\"Survived\"])\n",
    "y_new = le.transform(titanic[\"Survived\"])"
   ]
  },
  {
   "cell_type": "code",
   "execution_count": 48,
   "id": "compressed-representative",
   "metadata": {},
   "outputs": [
    {
     "ename": "TypeError",
     "evalue": "'(slice(None, None, None), slice(10, None, None))' is an invalid key",
     "output_type": "error",
     "traceback": [
      "\u001b[1;31m---------------------------------------------------------------------------\u001b[0m",
      "\u001b[1;31mTypeError\u001b[0m                                 Traceback (most recent call last)",
      "\u001b[1;32m<ipython-input-48-b9baeb5f4db6>\u001b[0m in \u001b[0;36m<module>\u001b[1;34m\u001b[0m\n\u001b[1;32m----> 1\u001b[1;33m \u001b[0mxd_train_new\u001b[0m \u001b[1;33m=\u001b[0m \u001b[0mx_d_new\u001b[0m\u001b[1;33m[\u001b[0m\u001b[1;33m:\u001b[0m\u001b[1;33m,\u001b[0m \u001b[1;36m10\u001b[0m\u001b[1;33m:\u001b[0m\u001b[1;33m]\u001b[0m\u001b[1;33m\u001b[0m\u001b[1;33m\u001b[0m\u001b[0m\n\u001b[0m\u001b[0;32m      2\u001b[0m \u001b[0mxd_test_new\u001b[0m \u001b[1;33m=\u001b[0m \u001b[0mx_d_new\u001b[0m\u001b[1;33m[\u001b[0m\u001b[1;33m:\u001b[0m\u001b[1;33m,\u001b[0m \u001b[1;36m0\u001b[0m\u001b[1;33m]\u001b[0m\u001b[1;33m\u001b[0m\u001b[1;33m\u001b[0m\u001b[0m\n\u001b[0;32m      3\u001b[0m \u001b[0my_train_new\u001b[0m \u001b[1;33m=\u001b[0m \u001b[0mx_d_new\u001b[0m\u001b[1;33m[\u001b[0m\u001b[1;33m:\u001b[0m\u001b[1;33m,\u001b[0m \u001b[1;33m:\u001b[0m\u001b[1;36m10\u001b[0m\u001b[1;33m]\u001b[0m\u001b[1;33m\u001b[0m\u001b[1;33m\u001b[0m\u001b[0m\n\u001b[0;32m      4\u001b[0m \u001b[0my_test_new\u001b[0m \u001b[1;33m=\u001b[0m \u001b[0mx_d_new\u001b[0m\u001b[1;33m[\u001b[0m\u001b[1;33m:\u001b[0m\u001b[1;33m,\u001b[0m \u001b[1;36m0\u001b[0m\u001b[1;33m]\u001b[0m\u001b[1;33m\u001b[0m\u001b[1;33m\u001b[0m\u001b[0m\n\u001b[0;32m      5\u001b[0m \u001b[1;31m#xd_train_new, xd_test_new, y_train_new, y_test_new = train_test_split(x_d_new, y_new, test_size = 0.20)\u001b[0m\u001b[1;33m\u001b[0m\u001b[1;33m\u001b[0m\u001b[1;33m\u001b[0m\u001b[0m\n",
      "\u001b[1;32mc:\\users\\veda\\appdata\\local\\programs\\python\\python37\\lib\\site-packages\\pandas\\core\\frame.py\u001b[0m in \u001b[0;36m__getitem__\u001b[1;34m(self, key)\u001b[0m\n\u001b[0;32m   3022\u001b[0m             \u001b[1;32mif\u001b[0m \u001b[0mself\u001b[0m\u001b[1;33m.\u001b[0m\u001b[0mcolumns\u001b[0m\u001b[1;33m.\u001b[0m\u001b[0mnlevels\u001b[0m \u001b[1;33m>\u001b[0m \u001b[1;36m1\u001b[0m\u001b[1;33m:\u001b[0m\u001b[1;33m\u001b[0m\u001b[1;33m\u001b[0m\u001b[0m\n\u001b[0;32m   3023\u001b[0m                 \u001b[1;32mreturn\u001b[0m \u001b[0mself\u001b[0m\u001b[1;33m.\u001b[0m\u001b[0m_getitem_multilevel\u001b[0m\u001b[1;33m(\u001b[0m\u001b[0mkey\u001b[0m\u001b[1;33m)\u001b[0m\u001b[1;33m\u001b[0m\u001b[1;33m\u001b[0m\u001b[0m\n\u001b[1;32m-> 3024\u001b[1;33m             \u001b[0mindexer\u001b[0m \u001b[1;33m=\u001b[0m \u001b[0mself\u001b[0m\u001b[1;33m.\u001b[0m\u001b[0mcolumns\u001b[0m\u001b[1;33m.\u001b[0m\u001b[0mget_loc\u001b[0m\u001b[1;33m(\u001b[0m\u001b[0mkey\u001b[0m\u001b[1;33m)\u001b[0m\u001b[1;33m\u001b[0m\u001b[1;33m\u001b[0m\u001b[0m\n\u001b[0m\u001b[0;32m   3025\u001b[0m             \u001b[1;32mif\u001b[0m \u001b[0mis_integer\u001b[0m\u001b[1;33m(\u001b[0m\u001b[0mindexer\u001b[0m\u001b[1;33m)\u001b[0m\u001b[1;33m:\u001b[0m\u001b[1;33m\u001b[0m\u001b[1;33m\u001b[0m\u001b[0m\n\u001b[0;32m   3026\u001b[0m                 \u001b[0mindexer\u001b[0m \u001b[1;33m=\u001b[0m \u001b[1;33m[\u001b[0m\u001b[0mindexer\u001b[0m\u001b[1;33m]\u001b[0m\u001b[1;33m\u001b[0m\u001b[1;33m\u001b[0m\u001b[0m\n",
      "\u001b[1;32mc:\\users\\veda\\appdata\\local\\programs\\python\\python37\\lib\\site-packages\\pandas\\core\\indexes\\base.py\u001b[0m in \u001b[0;36mget_loc\u001b[1;34m(self, key, method, tolerance)\u001b[0m\n\u001b[0;32m   3078\u001b[0m             \u001b[0mcasted_key\u001b[0m \u001b[1;33m=\u001b[0m \u001b[0mself\u001b[0m\u001b[1;33m.\u001b[0m\u001b[0m_maybe_cast_indexer\u001b[0m\u001b[1;33m(\u001b[0m\u001b[0mkey\u001b[0m\u001b[1;33m)\u001b[0m\u001b[1;33m\u001b[0m\u001b[1;33m\u001b[0m\u001b[0m\n\u001b[0;32m   3079\u001b[0m             \u001b[1;32mtry\u001b[0m\u001b[1;33m:\u001b[0m\u001b[1;33m\u001b[0m\u001b[1;33m\u001b[0m\u001b[0m\n\u001b[1;32m-> 3080\u001b[1;33m                 \u001b[1;32mreturn\u001b[0m \u001b[0mself\u001b[0m\u001b[1;33m.\u001b[0m\u001b[0m_engine\u001b[0m\u001b[1;33m.\u001b[0m\u001b[0mget_loc\u001b[0m\u001b[1;33m(\u001b[0m\u001b[0mcasted_key\u001b[0m\u001b[1;33m)\u001b[0m\u001b[1;33m\u001b[0m\u001b[1;33m\u001b[0m\u001b[0m\n\u001b[0m\u001b[0;32m   3081\u001b[0m             \u001b[1;32mexcept\u001b[0m \u001b[0mKeyError\u001b[0m \u001b[1;32mas\u001b[0m \u001b[0merr\u001b[0m\u001b[1;33m:\u001b[0m\u001b[1;33m\u001b[0m\u001b[1;33m\u001b[0m\u001b[0m\n\u001b[0;32m   3082\u001b[0m                 \u001b[1;32mraise\u001b[0m \u001b[0mKeyError\u001b[0m\u001b[1;33m(\u001b[0m\u001b[0mkey\u001b[0m\u001b[1;33m)\u001b[0m \u001b[1;32mfrom\u001b[0m \u001b[0merr\u001b[0m\u001b[1;33m\u001b[0m\u001b[1;33m\u001b[0m\u001b[0m\n",
      "\u001b[1;32mpandas\\_libs\\index.pyx\u001b[0m in \u001b[0;36mpandas._libs.index.IndexEngine.get_loc\u001b[1;34m()\u001b[0m\n",
      "\u001b[1;32mpandas\\_libs\\index.pyx\u001b[0m in \u001b[0;36mpandas._libs.index.IndexEngine.get_loc\u001b[1;34m()\u001b[0m\n",
      "\u001b[1;31mTypeError\u001b[0m: '(slice(None, None, None), slice(10, None, None))' is an invalid key"
     ]
    }
   ],
   "source": [
    "# xd_train_new = x_d_new[:, 10:]\n",
    "# xd_test_new = x_d_new[:, 0]\n",
    "# y_train_new = x_d_new[:, :10]\n",
    "# y_test_new = x_d_new[:, 0]\n",
    "\n",
    "xd_train_new, xd_test_new, y_train_new, y_test_new = train_test_split(x_d_new, y_new, test_size = 0.20)\n",
    "print(xd_train_new)\n",
    "print(\"y_train\", y_train_new)"
   ]
  },
  {
   "cell_type": "code",
   "execution_count": 45,
   "id": "technological-catalog",
   "metadata": {},
   "outputs": [
    {
     "name": "stdout",
     "output_type": "stream",
     "text": [
      "Accucy: \n",
      " 0.5674157303370787\n",
      "y_test_new  [1 0 1 0 1 0 1 0 0 1 1 1 0 1 0 1 0 0 1 0 0 1 0 0 1 0 0 1 0 0 0 0 0 0 1 0 1\n",
      " 1 0 1 1 0 0 0 1 1 1 0 0 0 0 1 1 1 1 0 0 0 1 1 1 0 0 0 0 0 1 0 0 1 0 0 1 1\n",
      " 0 0 1 1 0 0 0 1 0 1 0 0 0 0 0 1 0 1 0 1 1 0 1 0 1 1 1 1 0 1 0 1 1 0 0 0 0\n",
      " 0 0 0 1 0 0 0 1 1 0 1 0 1 0 0 1 0 1 0 1 0 0 0 0 0 0 0 0 0 1 1 1 1 0 1 1 1\n",
      " 0 0 1 0 0 0 1 0 1 0 1 0 0 1 0 0 0 0 1 0 0 0 1 1 0 1 0 1 1 0]\n",
      " \n",
      "y_pred_new  [0 0 0 1 0 0 0 0 0 0 0 0 0 0 0 0 0 0 1 0 0 0 0 0 0 0 0 1 1 0 0 0 1 0 0 0 0\n",
      " 1 0 0 0 0 0 0 0 0 0 0 0 1 0 0 0 0 0 0 0 0 0 0 0 0 0 0 0 0 0 0 0 1 0 0 0 0\n",
      " 0 1 0 0 0 0 1 0 0 0 0 0 0 0 0 0 0 0 0 0 1 0 0 0 0 0 0 0 0 0 0 0 0 0 0 1 0\n",
      " 1 0 0 0 0 0 0 0 0 0 0 0 0 0 0 0 0 1 0 0 1 0 1 0 0 0 0 0 0 0 0 1 0 1 0 0 1\n",
      " 0 0 0 0 1 0 0 0 0 0 0 0 0 0 0 0 0 0 1 0 0 0 0 0 0 0 0 0 0 0]\n",
      " \n",
      "[[92 12]\n",
      " [65  9]]\n",
      "feature:  1\n",
      " \n",
      "prediction_dict_:  {'total error': 248, 'rules (value: class)': {0.67: 0, 0.75: 0, 0.83: 1, 1.0: 0, 2.0: 0, 3.0: 1, 4.0: 0, 5.0: 0, 6.0: 0, 7.0: 0, 8.0: 0, 9.0: 0, 10.0: 0, 11.0: 0, 12.0: 0, 13.0: 0, 14.0: 0, 14.5: 1, 15.0: 0, 16.0: 0, 17.0: 0, 18.0: 0, 19.0: 0, 20.0: 0, 21.0: 0, 22.0: 0, 23.0: 0, 23.5: 1, 24.0: 0, 24.5: 1, 25.0: 0, 26.0: 0, 27.0: 0, 28.0: 0, 28.5: 0, 29.0: 0, 30.0: 0, 30.5: 1, 31.0: 0, 32.0: 0, 32.5: 0, 33.0: 0, 34.0: 1, 34.5: 1, 35.0: 0, 36.0: 0, 36.5: 1, 37.0: 0, 38.0: 0, 39.0: 0, 40.0: 0, 40.5: 1, 41.0: 0, 42.0: 0, 43.0: 0, 44.0: 1, 45.0: 1, 45.5: 0, 46.0: 0, 47.0: 1, 48.0: 0, 49.0: 0, 50.0: 0, 51.0: 1, 52.0: 0, 53.0: 0, 54.0: 0, 55.0: 1, 56.0: 0, 57.0: 0, 58.0: 1, 59.0: 1, 60.0: 0, 61.0: 0, 62.0: 0, 63.0: 0, 64.0: 0, 65.0: 0, 66.0: 0, 70.0: 0, 70.5: 0, 71.0: 0, 74.0: 0}}\n"
     ]
    }
   ],
   "source": [
    "oner.fit(xd_train_new.to_numpy(),y_train)\n",
    "y_pred_new = oner.predict(xd_test_new.to_numpy())\n",
    "\n",
    "Accuracy = accuracy_score(y_test_new, y_pred_new)\n",
    "print(\"Accucy: \\n\", Accuracy)\n",
    "\n",
    "print(\"y_test_new \", y_test_new)\n",
    "print(\" \")\n",
    "print(\"y_pred_new \", y_pred_new)\n",
    "print(\" \")\n",
    "\n",
    "print(confusion_matrix(y_test_new, y_pred_new))\n",
    "\n",
    "print(\"feature: \", oner.feature_idx_)\n",
    "print(\" \")\n",
    "\n",
    "print(\"prediction_dict_: \", oner.prediction_dict_)"
   ]
  },
  {
   "cell_type": "markdown",
   "id": "departmental-richardson",
   "metadata": {},
   "source": [
    "### Problem 2. Producing 1R with selected stock"
   ]
  },
  {
   "cell_type": "code",
   "execution_count": 50,
   "id": "technological-williams",
   "metadata": {},
   "outputs": [
    {
     "name": "stdout",
     "output_type": "stream",
     "text": [
      "Number of rows in original data: 3692\n",
      "\n",
      "         Date        Open        High        Low       Close    Volume  \\\n",
      "0  2007-01-03   97.180000   98.400002  96.260002   97.269997   9196800   \n",
      "1  2007-01-04   97.250000   98.790001  96.879997   98.309998  10524500   \n",
      "2  2007-01-05   97.599998   97.949997  96.910004   97.419998   7221300   \n",
      "3  2007-01-08   98.500000   99.500000  98.349998   98.900002  10340000   \n",
      "4  2007-01-09   99.080002  100.330002  99.070000  100.070000  11108200   \n",
      "5  2007-01-10   98.500000   99.050003  97.930000   98.889999   8744800   \n",
      "6  2007-01-11   99.000000   99.900002  98.500000   98.650002   8000700   \n",
      "7  2007-01-12   98.989998   99.690002  98.500000   99.339996   6636500   \n",
      "8  2007-01-16   99.400002  100.839996  99.300003  100.820000   9602200   \n",
      "9  2007-01-17  100.690002  100.900002  99.900002  100.019997   8200700   \n",
      "\n",
      "    Adjusted  \n",
      "0  63.127567  \n",
      "1  63.802544  \n",
      "2  63.224930  \n",
      "3  64.185463  \n",
      "4  64.944771  \n",
      "5  64.178978  \n",
      "6  64.023201  \n",
      "7  64.471024  \n",
      "8  65.431503  \n",
      "9  64.912323  \n"
     ]
    }
   ],
   "source": [
    "df = pd.read_csv('./IBM.txt', delimiter = \" \")\n",
    "print(\"Number of rows in original data: {}\\n\".format(len(df.index)))\n",
    "print(df.head(10))"
   ]
  },
  {
   "cell_type": "code",
   "execution_count": 53,
   "id": "pleasant-christian",
   "metadata": {},
   "outputs": [
    {
     "name": "stdout",
     "output_type": "stream",
     "text": [
      "         Date        Open        High        Low       Close    Volume  \\\n",
      "0  2007-01-03   97.180000   98.400002  96.260002   97.269997   9196800   \n",
      "1  2007-01-04   97.250000   98.790001  96.879997   98.309998  10524500   \n",
      "2  2007-01-05   97.599998   97.949997  96.910004   97.419998   7221300   \n",
      "3  2007-01-08   98.500000   99.500000  98.349998   98.900002  10340000   \n",
      "4  2007-01-09   99.080002  100.330002  99.070000  100.070000  11108200   \n",
      "5  2007-01-10   98.500000   99.050003  97.930000   98.889999   8744800   \n",
      "6  2007-01-11   99.000000   99.900002  98.500000   98.650002   8000700   \n",
      "7  2007-01-12   98.989998   99.690002  98.500000   99.339996   6636500   \n",
      "8  2007-01-16   99.400002  100.839996  99.300003  100.820000   9602200   \n",
      "9  2007-01-17  100.690002  100.900002  99.900002  100.019997   8200700   \n",
      "\n",
      "    Adjusted  Daily_returns  \n",
      "0  63.127567            NaN  \n",
      "1  63.802544       1.069190  \n",
      "2  63.224930      -0.905300  \n",
      "3  64.185463       1.519199  \n",
      "4  64.944771       1.183011  \n",
      "5  64.178978      -1.179176  \n",
      "6  64.023201      -0.242691  \n",
      "7  64.471024       0.699436  \n",
      "8  65.431503       1.489837  \n",
      "9  64.912323      -0.793496  \n"
     ]
    }
   ],
   "source": [
    "df['Daily_returns'] = 100*((df['Close'] - df['Close'].shift())/ df['Close'].shift())\n",
    "print(df.head(10))"
   ]
  },
  {
   "cell_type": "code",
   "execution_count": 55,
   "id": "experienced-telephone",
   "metadata": {},
   "outputs": [
    {
     "name": "stdout",
     "output_type": "stream",
     "text": [
      "            Date        Open        High         Low       Close    Volume  \\\n",
      "0     2007-01-03   97.180000   98.400002   96.260002   97.269997   9196800   \n",
      "1     2007-01-04   97.250000   98.790001   96.879997   98.309998  10524500   \n",
      "2     2007-01-05   97.599998   97.949997   96.910004   97.419998   7221300   \n",
      "3     2007-01-08   98.500000   99.500000   98.349998   98.900002  10340000   \n",
      "4     2007-01-09   99.080002  100.330002   99.070000  100.070000  11108200   \n",
      "...          ...         ...         ...         ...         ...       ...   \n",
      "3687  2021-08-25  139.919998  140.800003  139.460007  139.860001   2012800   \n",
      "3688  2021-08-26  139.970001  140.800003  138.710007  138.779999   2498700   \n",
      "3689  2021-08-27  138.710007  139.589996  138.399994  139.410004   2459500   \n",
      "3690  2021-08-30  139.500000  139.880005  138.820007  138.970001   1995500   \n",
      "3691  2021-08-31  139.539993  140.940002  138.949997  140.339996   4233900   \n",
      "\n",
      "        Adjusted  Daily_returns Decision  \n",
      "0      63.127567            NaN        0  \n",
      "1      63.802544       1.069190       Up  \n",
      "2      63.224930      -0.905300     Down  \n",
      "3      64.185463       1.519199       Up  \n",
      "4      64.944771       1.183011       Up  \n",
      "...          ...            ...      ...  \n",
      "3687  139.860001       0.014306       Up  \n",
      "3688  138.779999      -0.772202     Down  \n",
      "3689  139.410004       0.453960       Up  \n",
      "3690  138.970001      -0.315618     Down  \n",
      "3691  140.339996       0.985821       Up  \n",
      "\n",
      "[3692 rows x 9 columns]\n",
      "\n",
      "\n"
     ]
    }
   ],
   "source": [
    "conditions = [(df['Daily_returns'] > 0.005),(df['Daily_returns'] < 0.005)] \n",
    "              #(df['Daily_returns'] < 0.005) & (df['Daily_returns'] > -0.005)]\n",
    "\n",
    "values = ['Up', 'Down'] #, 'Flat']\n",
    "df['Decision'] = np.select(conditions, values)\n",
    "print(df)\n",
    "print(\"\\n\")"
   ]
  },
  {
   "cell_type": "code",
   "execution_count": 60,
   "id": "driving-declaration",
   "metadata": {},
   "outputs": [],
   "source": [
    "df.columns\n",
    "df = df[1:]"
   ]
  },
  {
   "cell_type": "code",
   "execution_count": 61,
   "id": "modern-belief",
   "metadata": {},
   "outputs": [
    {
     "data": {
      "text/plain": [
       "array([1, 0, 1, ..., 1, 0, 1])"
      ]
     },
     "execution_count": 61,
     "metadata": {},
     "output_type": "execute_result"
    }
   ],
   "source": [
    "x = df[[\"Date\", \"Open\", \"High\", \"Low\", \"Close\", \"Volume\", \"Adjusted\",\"Daily_returns\"]]\n",
    "transform = le.fit(df[\"Decision\"])\n",
    "transform = le.transform(df[\"Decision\"])\n",
    "transform"
   ]
  },
  {
   "cell_type": "code",
   "execution_count": 97,
   "id": "adaptive-novel",
   "metadata": {},
   "outputs": [
    {
     "name": "stdout",
     "output_type": "stream",
     "text": [
      "x_train 3591\n",
      "x_test 3591\n"
     ]
    }
   ],
   "source": [
    "df = np.array(df)\n",
    "x = np.array(x)\n",
    "transform = np.array(transform)\n",
    "#x_train = df[:-100,:]\n",
    "x_train = x[:-100,:]\n",
    "print(\"x_train\",len(x_train))\n",
    "#x_test = df[:,-1:]\n",
    "x_test = transform[:-100]\n",
    "print(\"x_test\",len(x_test))"
   ]
  },
  {
   "cell_type": "code",
   "execution_count": 99,
   "id": "graphic-picnic",
   "metadata": {},
   "outputs": [
    {
     "name": "stdout",
     "output_type": "stream",
     "text": [
      "y_train 100\n",
      "y_test 100\n"
     ]
    }
   ],
   "source": [
    "y_train = x[-100:,:]\n",
    "print(\"y_train\",len(y_train))\n",
    "y_test = transform[-100:]\n",
    "print(\"y_test\",len(y_test))"
   ]
  },
  {
   "cell_type": "code",
   "execution_count": 102,
   "id": "preliminary-loading",
   "metadata": {},
   "outputs": [
    {
     "ename": "IndexError",
     "evalue": "too many indices for array: array is 1-dimensional, but 2 were indexed",
     "output_type": "error",
     "traceback": [
      "\u001b[1;31m---------------------------------------------------------------------------\u001b[0m",
      "\u001b[1;31mIndexError\u001b[0m                                Traceback (most recent call last)",
      "\u001b[1;32m<ipython-input-102-b27aa46c3fd8>\u001b[0m in \u001b[0;36m<module>\u001b[1;34m\u001b[0m\n\u001b[0;32m      1\u001b[0m \u001b[1;31m#oner.fit(x_train, y_train)\u001b[0m\u001b[1;33m\u001b[0m\u001b[1;33m\u001b[0m\u001b[1;33m\u001b[0m\u001b[0m\n\u001b[1;32m----> 2\u001b[1;33m \u001b[0my_predict\u001b[0m \u001b[1;33m=\u001b[0m \u001b[0moner\u001b[0m\u001b[1;33m.\u001b[0m\u001b[0mpredict\u001b[0m\u001b[1;33m(\u001b[0m\u001b[0mx_test\u001b[0m\u001b[1;33m)\u001b[0m\u001b[1;33m\u001b[0m\u001b[1;33m\u001b[0m\u001b[0m\n\u001b[0m\u001b[0;32m      3\u001b[0m \u001b[1;33m\u001b[0m\u001b[0m\n\u001b[0;32m      4\u001b[0m \u001b[0mAccuracy\u001b[0m \u001b[1;33m=\u001b[0m \u001b[0maccuracy_score\u001b[0m\u001b[1;33m(\u001b[0m\u001b[0my_test\u001b[0m\u001b[1;33m,\u001b[0m \u001b[0my_predict\u001b[0m\u001b[1;33m)\u001b[0m\u001b[1;33m\u001b[0m\u001b[1;33m\u001b[0m\u001b[0m\n\u001b[0;32m      5\u001b[0m \u001b[0mprint\u001b[0m\u001b[1;33m(\u001b[0m\u001b[1;34m\"Accucy: \\n\"\u001b[0m\u001b[1;33m,\u001b[0m \u001b[0mAccuracy\u001b[0m\u001b[1;33m)\u001b[0m\u001b[1;33m\u001b[0m\u001b[1;33m\u001b[0m\u001b[0m\n",
      "\u001b[1;32mc:\\users\\veda\\appdata\\local\\programs\\python\\python37\\lib\\site-packages\\mlxtend\\classifier\\oner.py\u001b[0m in \u001b[0;36mpredict\u001b[1;34m(self, X)\u001b[0m\n\u001b[0;32m    223\u001b[0m         \u001b[1;31m# classify all class labels for which rules exist\u001b[0m\u001b[1;33m\u001b[0m\u001b[1;33m\u001b[0m\u001b[1;33m\u001b[0m\u001b[0m\n\u001b[0;32m    224\u001b[0m         \u001b[1;32mfor\u001b[0m \u001b[0mfeature_value\u001b[0m \u001b[1;32min\u001b[0m \u001b[0mrules\u001b[0m\u001b[1;33m:\u001b[0m\u001b[1;33m\u001b[0m\u001b[1;33m\u001b[0m\u001b[0m\n\u001b[1;32m--> 225\u001b[1;33m             \u001b[0mmask\u001b[0m \u001b[1;33m=\u001b[0m \u001b[0mX\u001b[0m\u001b[1;33m[\u001b[0m\u001b[1;33m:\u001b[0m\u001b[1;33m,\u001b[0m \u001b[0mself\u001b[0m\u001b[1;33m.\u001b[0m\u001b[0mfeature_idx_\u001b[0m\u001b[1;33m]\u001b[0m \u001b[1;33m==\u001b[0m \u001b[0mfeature_value\u001b[0m\u001b[1;33m\u001b[0m\u001b[1;33m\u001b[0m\u001b[0m\n\u001b[0m\u001b[0;32m    226\u001b[0m             \u001b[0my_pred\u001b[0m\u001b[1;33m[\u001b[0m\u001b[0mmask\u001b[0m\u001b[1;33m]\u001b[0m \u001b[1;33m=\u001b[0m \u001b[0mrules\u001b[0m\u001b[1;33m[\u001b[0m\u001b[0mfeature_value\u001b[0m\u001b[1;33m]\u001b[0m\u001b[1;33m\u001b[0m\u001b[1;33m\u001b[0m\u001b[0m\n\u001b[0;32m    227\u001b[0m \u001b[1;33m\u001b[0m\u001b[0m\n",
      "\u001b[1;31mIndexError\u001b[0m: too many indices for array: array is 1-dimensional, but 2 were indexed"
     ]
    }
   ],
   "source": [
    "#oner.fit(x_train, y_train)\n",
    "y_predict = oner.predict(x_test)\n",
    "\n",
    "Accuracy = accuracy_score(y_test, y_predict)\n",
    "print(\"Accucy: \\n\", Accuracy)\n",
    "\n"
   ]
  },
  {
   "cell_type": "code",
   "execution_count": 81,
   "id": "joint-retail",
   "metadata": {},
   "outputs": [
    {
     "name": "stdout",
     "output_type": "stream",
     "text": [
      "y_test:  [['2021-04-12' 135.020004 135.369995 133.850006 134.589996 3754000\n",
      "  131.587875 -0.8399027728550044]\n",
      " ['2021-04-13' 133.0 133.619995 130.380005 131.179993 8033500 128.253922\n",
      "  -2.5336229298944453]\n",
      " ['2021-04-14' 131.309998 132.779999 130.520004 132.630005 5868000\n",
      "  129.6716 1.1053606322421554]\n",
      " ['2021-04-15' 133.279999 133.869995 132.220001 132.580002 3884000\n",
      "  129.622696 -0.037701122004786015]\n",
      " ['2021-04-16' 133.0 134.100006 132.949997 133.589996 5291800 130.610168\n",
      "  0.761799656632986]\n",
      " ['2021-04-19' 133.600006 133.820007 132.580002 133.119995 8198600\n",
      "  130.15065 -0.3518235003166141]\n",
      " ['2021-04-20' 137.070007 139.770004 136.699997 138.160004 15480600\n",
      "  135.078247 3.7860645953299485]\n",
      " ['2021-04-21' 138.059998 143.729996 137.710007 143.550003 11909000\n",
      "  140.348007 3.9012730486024148]\n",
      " ['2021-04-22' 143.699997 144.740005 141.0 141.279999 7101400 138.128647\n",
      "  -1.5813333002856156]\n",
      " ['2021-04-23' 141.309998 143.610001 140.949997 142.429993 4556000\n",
      "  139.252975 0.8139821688418843]\n",
      " ['2021-04-26' 142.419998 143.630005 141.479996 141.570007 4710800\n",
      "  138.412186 -0.6037955783652901]\n",
      " ['2021-04-27' 141.690002 142.559998 140.75 142.009995 3884000 138.842361\n",
      "  0.31079181906093967]\n",
      " ['2021-04-28' 142.919998 143.399994 142.100006 143.0 3768100 139.810287\n",
      "  0.6971375500717372]\n",
      " ['2021-04-29' 144.130005 148.740005 142.979996 144.240005 4353900\n",
      "  141.022629 0.8671363636363613]\n",
      " ['2021-04-30' 143.699997 143.830002 140.550003 141.880005 8872200\n",
      "  138.715271 -1.6361618955850599]\n",
      " ['2021-05-03' 143.809998 145.75 143.550003 144.75 5733500 141.52124\n",
      "  2.022832604213672]\n",
      " ['2021-05-04' 144.410004 146.589996 144.330002 145.75 6350500 142.498932\n",
      "  0.690846286701209]\n",
      " ['2021-05-05' 145.940002 145.940002 144.970001 145.220001 4999900\n",
      "  141.980759 -0.3636356775300197]\n",
      " ['2021-05-06' 145.259995 148.509995 145.179993 148.419998 7503500\n",
      "  145.10939 2.203551148577665]\n",
      " ['2021-05-07' 145.919998 146.139999 144.570007 145.460007 7003500\n",
      "  143.804413 -1.9943343483942118]\n",
      " ['2021-05-10' 145.800003 148.380005 145.800003 146.169998 6983400\n",
      "  144.506332 0.48810048524196914]\n",
      " ['2021-05-11' 144.990005 145.190002 142.899994 144.220001 7126400\n",
      "  142.578522 -1.3340610430876494]\n",
      " ['2021-05-12' 143.839996 144.149994 141.139999 141.300003 5959600\n",
      "  139.691757 -2.0246831089676616]\n",
      " ['2021-05-13' 141.449997 144.899994 141.279999 144.169998 4595800\n",
      "  142.529099 2.0311358379801225]\n",
      " ['2021-05-14' 145.110001 145.690002 143.960007 144.679993 2747400\n",
      "  143.033279 0.3537455830442639]\n",
      " ['2021-05-17' 144.440002 145.800003 144.330002 145.110001 4275100\n",
      "  143.458389 0.29721317445737994]\n",
      " ['2021-05-18' 144.779999 145.300003 143.229996 143.910004 3824100\n",
      "  142.272064 -0.8269567857008178]\n",
      " ['2021-05-19' 142.320007 143.199997 140.919998 143.190002 4300700\n",
      "  141.560257 -0.5003140712858252]\n",
      " ['2021-05-20' 143.119995 144.910004 142.160004 143.880005 4112500\n",
      "  142.242401 0.4818793144510317]\n",
      " ['2021-05-21' 144.279999 145.699997 144.279999 144.740005 4033500\n",
      "  143.092606 0.5977203017194677]\n",
      " ['2021-05-24' 145.059998 145.389999 144.179993 144.720001 3297600\n",
      "  143.07283 -0.013820643435793811]\n",
      " ['2021-05-25' 144.919998 145.0 143.199997 143.789993 3937200 142.153412\n",
      "  -0.6426257556479609]\n",
      " ['2021-05-26' 143.5 143.990005 143.039993 143.380005 3083800 141.748093\n",
      "  -0.28512971691986827]\n",
      " ['2021-05-27' 143.820007 144.770004 143.630005 143.820007 5630300\n",
      "  142.18309 0.3068782149923852]\n",
      " ['2021-05-28' 144.210007 144.330002 143.490005 143.740005 2534600\n",
      "  142.103989 -0.055626474833927284]\n",
      " ['2021-06-01' 145.0 145.830002 143.75 144.190002 2417500 142.548874\n",
      "  0.31306315872188556]\n",
      " ['2021-06-02' 144.619995 145.75 144.110001 145.720001 2786900 144.061447\n",
      "  1.0610992293349186]\n",
      " ['2021-06-03' 144.910004 145.880005 144.039993 145.550003 4130600\n",
      "  143.893387 -0.11666071838689634]\n",
      " ['2021-06-04' 146.0 147.550003 145.759995 147.419998 3117900 145.742096\n",
      "  1.284778400176322]\n",
      " ['2021-06-07' 147.550003 148.740005 147.169998 148.020004 3462700\n",
      "  146.335281 0.4070044825261818]\n",
      " ['2021-06-08' 148.119995 150.199997 148.119995 149.070007 5080100\n",
      "  147.373337 0.7093656070972703]\n",
      " ['2021-06-09' 149.029999 151.070007 148.820007 150.669998 5303300\n",
      "  148.955109 1.0733151706365645]\n",
      " ['2021-06-10' 151.470001 152.839996 149.759995 150.539993 4758500\n",
      "  148.826584 -0.08628459661888549]\n",
      " ['2021-06-11' 150.429993 151.850006 150.369995 151.279999 3438300\n",
      "  149.558167 0.4915677125081266]\n",
      " ['2021-06-14' 150.710007 151.029999 148.660004 150.029999 3344800\n",
      "  148.322403 -0.8262823957316393]\n",
      " ['2021-06-15' 149.850006 149.910004 148.600006 149.360001 2513300\n",
      "  147.660019 -0.44657602110628053]\n",
      " ['2021-06-16' 149.759995 149.759995 147.220001 147.830002 3878900\n",
      "  146.147446 -1.024369971716861]\n",
      " ['2021-06-17' 147.550003 148.059998 145.279999 145.600006 4367400\n",
      "  143.942825 -1.5084867549416658]\n",
      " ['2021-06-18' 144.479996 144.679993 143.039993 143.119995 9156500\n",
      "  141.491043 -1.7033041880506645]\n",
      " ['2021-06-21' 144.110001 147.070007 144.059998 146.649994 4285500\n",
      "  144.980865 2.466461097905994]\n",
      " ['2021-06-22' 146.520004 146.809998 145.350006 146.360001 2437000\n",
      "  144.694168 -0.197744979109908]\n",
      " ['2021-06-23' 146.429993 146.5 144.570007 144.610001 3202600 142.964081\n",
      "  -1.1956818721257045]\n",
      " ['2021-06-24' 145.800003 146.190002 144.690002 145.440002 3609700\n",
      "  143.784637 0.5739582285183592]\n",
      " ['2021-06-25' 145.380005 146.929993 144.949997 146.839996 3594200\n",
      "  145.168701 0.9625921209764703]\n",
      " ['2021-06-28' 147.009995 147.300003 144.910004 145.289993 3888900\n",
      "  143.636337 -1.0555727609799197]\n",
      " ['2021-06-29' 145.259995 146.740005 145.100006 145.550003 2428500\n",
      "  143.893387 0.17895933135601022]\n",
      " ['2021-06-30' 145.130005 146.929993 144.710007 146.589996 3245100\n",
      "  144.921539 0.7145262649015608]\n",
      " ['2021-07-01' 146.960007 147.5 146.570007 146.839996 2686100 145.168701\n",
      "  0.1705436979478463]\n",
      " ['2021-07-02' 146.910004 146.949997 139.460007 140.020004 16811200\n",
      "  138.426331 -4.644505710828276]\n",
      " ['2021-07-06' 139.990005 140.419998 137.100006 138.779999 8093700\n",
      "  137.200439 -0.8855913187947034]\n",
      " ['2021-07-07' 138.759995 140.330002 138.759995 139.820007 4059700\n",
      "  138.228607 0.7493932897347839]\n",
      " ['2021-07-08' 137.779999 141.309998 137.660004 140.740005 5487400\n",
      "  139.138138 0.6579873794456272]\n",
      " ['2021-07-09' 141.449997 141.979996 140.839996 141.520004 3904100\n",
      "  139.909256 0.5542127130093563]\n",
      " ['2021-07-12' 141.429993 141.960007 140.119995 140.919998 3342600\n",
      "  139.316086 -0.4239725713970497]\n",
      " ['2021-07-13' 140.919998 140.919998 139.630005 140.279999 3164300\n",
      "  138.683365 -0.4541576845608449]\n",
      " ['2021-07-14' 140.720001 140.75 138.929993 139.820007 4403500 138.228607\n",
      "  -0.32790989683425914]\n",
      " ['2021-07-15' 139.320007 140.460007 138.800003 140.449997 3639700\n",
      "  138.851425 0.45057214165351334]\n",
      " ['2021-07-16' 141.0 141.0 138.589996 138.899994 4109300 137.319077\n",
      "  -1.1035977451818697]\n",
      " ['2021-07-19' 136.449997 138.490005 136.210007 137.919998 8582300\n",
      "  136.350235 -0.7055407072227806]\n",
      " ['2021-07-20' 143.0 144.919998 138.699997 139.970001 13611700 138.376892\n",
      "  1.486371106240883]\n",
      " ['2021-07-21' 139.970001 141.389999 139.649994 141.300003 4804000\n",
      "  139.691757 0.9502050371493586]\n",
      " ['2021-07-22' 141.660004 141.809998 140.410004 140.710007 3314200\n",
      "  139.108475 -0.41754846954958197]\n",
      " ['2021-07-23' 140.960007 141.699997 140.330002 141.339996 4474200\n",
      "  139.731308 0.4477215326981138]\n",
      " ['2021-07-26' 141.389999 143.0 141.130005 142.770004 4246300 141.145035\n",
      "  1.0117504177656738]\n",
      " ['2021-07-27' 142.529999 143.639999 141.600006 142.75 3137000 141.125259\n",
      "  -0.01401134652906512]\n",
      " ['2021-07-28' 143.009995 143.100006 141.639999 141.770004 2543800\n",
      "  140.156418 -0.6865120840630472]\n",
      " ['2021-07-29' 142.330002 142.960007 141.600006 141.929993 2670900\n",
      "  140.314575 0.11285109366294152]\n",
      " ['2021-07-30' 141.520004 141.850006 140.789993 140.960007 3534600\n",
      "  139.355637 -0.683425666060595]\n",
      " ['2021-08-02' 141.449997 143.059998 141.029999 141.419998 2929500\n",
      "  139.810394 0.32632731069600635]\n",
      " ['2021-08-03' 141.899994 144.699997 141.649994 144.070007 4084700\n",
      "  142.430237 1.8738573309837068]\n",
      " ['2021-08-04' 143.800003 144.179993 142.470001 142.759995 2830100\n",
      "  141.135132 -0.9092884961128657]\n",
      " ['2021-08-05' 143.029999 143.410004 142.220001 142.770004 2757400\n",
      "  141.145035 0.007011067771469594]\n",
      " ['2021-08-06' 143.0 144.389999 142.889999 144.089996 3822600 142.449997\n",
      "  0.9245583547087478]\n",
      " ['2021-08-09' 142.199997 142.5 140.970001 141.25 4904100 141.25\n",
      "  -1.9709876319241575]\n",
      " ['2021-08-10' 141.210007 141.809998 140.339996 141.380005 5299900\n",
      "  141.380005 0.09203893805310531]\n",
      " ['2021-08-11' 141.779999 142.770004 141.5 142.130005 4260000 142.130005\n",
      "  0.5304851983843119]\n",
      " ['2021-08-12' 142.259995 143.149994 142.080002 143.070007 2088700\n",
      "  143.070007 0.6613677386418108]\n",
      " ['2021-08-13' 142.639999 143.580002 142.440002 143.179993 1910100\n",
      "  143.179993 0.07687565151233419]\n",
      " ['2021-08-16' 143.229996 143.740005 142.229996 143.589996 2785200\n",
      "  143.589996 0.2863549518402459]\n",
      " ['2021-08-17' 143.0 143.160004 141.089996 142.419998 3073800 142.419998\n",
      "  -0.8148186033795981]\n",
      " ['2021-08-18' 141.669998 141.919998 139.389999 139.470001 3510700\n",
      "  139.470001 -2.07133621782525]\n",
      " ['2021-08-19' 138.690002 139.449997 137.210007 138.020004 4160100\n",
      "  138.020004 -1.039647945510516]\n",
      " ['2021-08-20' 137.740005 139.380005 137.270004 139.110001 2656300\n",
      "  139.110001 0.7897384208161674]\n",
      " ['2021-08-23' 139.619995 140.149994 138.800003 139.619995 3039600\n",
      "  139.619995 0.36661203100701406]\n",
      " ['2021-08-24' 139.779999 140.229996 139.320007 139.839996 2365600\n",
      "  139.839996 0.15757127050464712]\n",
      " ['2021-08-25' 139.919998 140.800003 139.460007 139.860001 2012800\n",
      "  139.860001 0.014305635420640034]\n",
      " ['2021-08-26' 139.970001 140.800003 138.710007 138.779999 2498700\n",
      "  138.779999 -0.7722021966809562]\n",
      " ['2021-08-27' 138.710007 139.589996 138.399994 139.410004 2459500\n",
      "  139.410004 0.4539595075223936]\n",
      " ['2021-08-30' 139.5 139.880005 138.820007 138.970001 1995500 138.970001\n",
      "  -0.3156179523529676]\n",
      " ['2021-08-31' 139.539993 140.940002 138.949997 140.339996 4233900\n",
      "  140.339996 0.9858206736287043]]\n",
      " \n"
     ]
    },
    {
     "ename": "NameError",
     "evalue": "name 'y_predict' is not defined",
     "output_type": "error",
     "traceback": [
      "\u001b[1;31m---------------------------------------------------------------------------\u001b[0m",
      "\u001b[1;31mNameError\u001b[0m                                 Traceback (most recent call last)",
      "\u001b[1;32m<ipython-input-81-97718abd37de>\u001b[0m in \u001b[0;36m<module>\u001b[1;34m\u001b[0m\n\u001b[0;32m      1\u001b[0m \u001b[0mprint\u001b[0m\u001b[1;33m(\u001b[0m\u001b[1;34m\"y_test: \"\u001b[0m\u001b[1;33m,\u001b[0m \u001b[0my_test\u001b[0m\u001b[1;33m)\u001b[0m\u001b[1;33m\u001b[0m\u001b[1;33m\u001b[0m\u001b[0m\n\u001b[0;32m      2\u001b[0m \u001b[0mprint\u001b[0m\u001b[1;33m(\u001b[0m\u001b[1;34m\" \"\u001b[0m\u001b[1;33m)\u001b[0m\u001b[1;33m\u001b[0m\u001b[1;33m\u001b[0m\u001b[0m\n\u001b[1;32m----> 3\u001b[1;33m \u001b[0mprint\u001b[0m\u001b[1;33m(\u001b[0m\u001b[1;34m\"y_predict: \"\u001b[0m\u001b[1;33m,\u001b[0m \u001b[0my_predict\u001b[0m\u001b[1;33m)\u001b[0m\u001b[1;33m\u001b[0m\u001b[1;33m\u001b[0m\u001b[0m\n\u001b[0m\u001b[0;32m      4\u001b[0m \u001b[0mprint\u001b[0m\u001b[1;33m(\u001b[0m\u001b[1;34m\" \"\u001b[0m\u001b[1;33m)\u001b[0m\u001b[1;33m\u001b[0m\u001b[1;33m\u001b[0m\u001b[0m\n\u001b[0;32m      5\u001b[0m \u001b[1;33m\u001b[0m\u001b[0m\n",
      "\u001b[1;31mNameError\u001b[0m: name 'y_predict' is not defined"
     ]
    }
   ],
   "source": [
    "print(\"y_test: \", y_test)\n",
    "print(\" \")\n",
    "print(\"y_predict: \", y_predict)\n",
    "print(\" \")\n",
    "\n",
    "print(confusion_matrix(y_test, y_predict))\n",
    "\n"
   ]
  },
  {
   "cell_type": "code",
   "execution_count": null,
   "id": "choice-mounting",
   "metadata": {},
   "outputs": [],
   "source": [
    "print(\"feature: \", oner.feature_idx_)"
   ]
  },
  {
   "cell_type": "code",
   "execution_count": null,
   "id": "coated-criterion",
   "metadata": {},
   "outputs": [],
   "source": [
    "print(\"prediction_dict_: \", oner.prediction_dict_)"
   ]
  }
 ],
 "metadata": {
  "kernelspec": {
   "display_name": "Python 3",
   "language": "python",
   "name": "python3"
  },
  "language_info": {
   "codemirror_mode": {
    "name": "ipython",
    "version": 3
   },
   "file_extension": ".py",
   "mimetype": "text/x-python",
   "name": "python",
   "nbconvert_exporter": "python",
   "pygments_lexer": "ipython3",
   "version": "3.7.9"
  }
 },
 "nbformat": 4,
 "nbformat_minor": 5
}
