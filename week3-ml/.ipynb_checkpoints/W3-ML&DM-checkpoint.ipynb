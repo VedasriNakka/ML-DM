{
 "cells": [
  {
   "cell_type": "markdown",
   "id": "cooked-boards",
   "metadata": {},
   "source": [
    "### Week3 - ML&DM"
   ]
  },
  {
   "cell_type": "code",
   "execution_count": 28,
   "id": "unknown-guess",
   "metadata": {},
   "outputs": [],
   "source": [
    "import pandas as pd\n",
    "import numpy as np\n",
    "from mlxtend.classifier import OneRClassifier\n",
    "from sklearn import preprocessing\n",
    "from sklearn.model_selection import train_test_split\n",
    "from sklearn.metrics import accuracy_score\n",
    "from sklearn.metrics import confusion_matrix"
   ]
  },
  {
   "cell_type": "code",
   "execution_count": 2,
   "id": "informational-reduction",
   "metadata": {},
   "outputs": [
    {
     "name": "stdout",
     "output_type": "stream",
     "text": [
      "Number of rows in original data: 887\n",
      "\n",
      "Features present in dataset: \n",
      " Index(['Survived', 'Pclass', 'Name', 'Sex', 'Age', 'Siblings/Spouses Aboard',\n",
      "       'Parents/Children Aboard', 'Fare'],\n",
      "      dtype='object')\n",
      "   Survived  Pclass                                                Name  \\\n",
      "0         0       3                              Mr. Owen Harris Braund   \n",
      "1         1       1  Mrs. John Bradley (Florence Briggs Thayer) Cumings   \n",
      "2         1       3                               Miss. Laina Heikkinen   \n",
      "3         1       1         Mrs. Jacques Heath (Lily May Peel) Futrelle   \n",
      "4         0       3                             Mr. William Henry Allen   \n",
      "5         0       3                                     Mr. James Moran   \n",
      "6         0       1                              Mr. Timothy J McCarthy   \n",
      "7         0       3                       Master. Gosta Leonard Palsson   \n",
      "8         1       3    Mrs. Oscar W (Elisabeth Vilhelmina Berg) Johnson   \n",
      "9         1       2                  Mrs. Nicholas (Adele Achem) Nasser   \n",
      "\n",
      "      Sex   Age  Siblings/Spouses Aboard  Parents/Children Aboard     Fare  \n",
      "0    male  22.0                        1                        0   7.2500  \n",
      "1  female  38.0                        1                        0  71.2833  \n",
      "2  female  26.0                        0                        0   7.9250  \n",
      "3  female  35.0                        1                        0  53.1000  \n",
      "4    male  35.0                        0                        0   8.0500  \n",
      "5    male  27.0                        0                        0   8.4583  \n",
      "6    male  54.0                        0                        0  51.8625  \n",
      "7    male   2.0                        3                        1  21.0750  \n",
      "8  female  27.0                        0                        2  11.1333  \n",
      "9  female  14.0                        1                        0  30.0708  \n"
     ]
    }
   ],
   "source": [
    "# Load titanic dataset\n",
    "\n",
    "pd.set_option('display.max_colwidth',None)\n",
    "titanic = pd.read_csv('./titanic.csv')\n",
    "print(\"Number of rows in original data: {}\\n\".format(len(titanic.index)))\n",
    "print(\"Features present in dataset: \\n\", titanic.columns)\n",
    "print(titanic.head(10))"
   ]
  },
  {
   "cell_type": "markdown",
   "id": "confirmed-newman",
   "metadata": {},
   "source": [
    "### Q1. Default rule for the titanic Dataset"
   ]
  },
  {
   "cell_type": "code",
   "execution_count": 9,
   "id": "collectible-turtle",
   "metadata": {},
   "outputs": [
    {
     "name": "stdout",
     "output_type": "stream",
     "text": [
      "Total 342 of people survived, 545 number of people not survived \n",
      "\n",
      "Most of the people are not survived So, the Default rule for this dataset are survived people with total 545\n"
     ]
    }
   ],
   "source": [
    "survived_in_titanic = titanic.loc[titanic['Survived'] == 1]\n",
    "#print(len(survived_in_titanic))\n",
    "\n",
    "not_survived_in_titanic = titanic.loc[titanic['Survived'] == 0]\n",
    "#print(len(not_survived_in_titanic))\n",
    "\n",
    "print(\"Total {} of people survived, {} number of people not survived \\n\".format(len(survived_in_titanic),len(not_survived_in_titanic)))\n",
    "print(\"Most of the people are not survived So, the Default rule for this dataset are survived people with total {}\".format(len(not_survived_in_titanic)))"
   ]
  },
  {
   "cell_type": "markdown",
   "id": "revised-arbitration",
   "metadata": {},
   "source": [
    "### Q2. Best 1R for titanic Dataset"
   ]
  },
  {
   "cell_type": "code",
   "execution_count": 11,
   "id": "completed-nutrition",
   "metadata": {},
   "outputs": [
    {
     "data": {
      "text/html": [
       "<div>\n",
       "<style scoped>\n",
       "    .dataframe tbody tr th:only-of-type {\n",
       "        vertical-align: middle;\n",
       "    }\n",
       "\n",
       "    .dataframe tbody tr th {\n",
       "        vertical-align: top;\n",
       "    }\n",
       "\n",
       "    .dataframe thead th {\n",
       "        text-align: right;\n",
       "    }\n",
       "</style>\n",
       "<table border=\"1\" class=\"dataframe\">\n",
       "  <thead>\n",
       "    <tr style=\"text-align: right;\">\n",
       "      <th></th>\n",
       "      <th>Survived</th>\n",
       "      <th>Pclass</th>\n",
       "      <th>Name</th>\n",
       "      <th>Sex</th>\n",
       "      <th>Age</th>\n",
       "      <th>Siblings/Spouses Aboard</th>\n",
       "      <th>Parents/Children Aboard</th>\n",
       "      <th>Fare</th>\n",
       "    </tr>\n",
       "  </thead>\n",
       "  <tbody>\n",
       "    <tr>\n",
       "      <th>count</th>\n",
       "      <td>887.000000</td>\n",
       "      <td>887.000000</td>\n",
       "      <td>887</td>\n",
       "      <td>887</td>\n",
       "      <td>887.000000</td>\n",
       "      <td>887.000000</td>\n",
       "      <td>887.000000</td>\n",
       "      <td>887.00000</td>\n",
       "    </tr>\n",
       "    <tr>\n",
       "      <th>unique</th>\n",
       "      <td>NaN</td>\n",
       "      <td>NaN</td>\n",
       "      <td>887</td>\n",
       "      <td>2</td>\n",
       "      <td>NaN</td>\n",
       "      <td>NaN</td>\n",
       "      <td>NaN</td>\n",
       "      <td>NaN</td>\n",
       "    </tr>\n",
       "    <tr>\n",
       "      <th>top</th>\n",
       "      <td>NaN</td>\n",
       "      <td>NaN</td>\n",
       "      <td>Mr. Richard William Smith</td>\n",
       "      <td>male</td>\n",
       "      <td>NaN</td>\n",
       "      <td>NaN</td>\n",
       "      <td>NaN</td>\n",
       "      <td>NaN</td>\n",
       "    </tr>\n",
       "    <tr>\n",
       "      <th>freq</th>\n",
       "      <td>NaN</td>\n",
       "      <td>NaN</td>\n",
       "      <td>1</td>\n",
       "      <td>573</td>\n",
       "      <td>NaN</td>\n",
       "      <td>NaN</td>\n",
       "      <td>NaN</td>\n",
       "      <td>NaN</td>\n",
       "    </tr>\n",
       "    <tr>\n",
       "      <th>mean</th>\n",
       "      <td>0.385569</td>\n",
       "      <td>2.305524</td>\n",
       "      <td>NaN</td>\n",
       "      <td>NaN</td>\n",
       "      <td>29.471443</td>\n",
       "      <td>0.525366</td>\n",
       "      <td>0.383315</td>\n",
       "      <td>32.30542</td>\n",
       "    </tr>\n",
       "    <tr>\n",
       "      <th>std</th>\n",
       "      <td>0.487004</td>\n",
       "      <td>0.836662</td>\n",
       "      <td>NaN</td>\n",
       "      <td>NaN</td>\n",
       "      <td>14.121908</td>\n",
       "      <td>1.104669</td>\n",
       "      <td>0.807466</td>\n",
       "      <td>49.78204</td>\n",
       "    </tr>\n",
       "    <tr>\n",
       "      <th>min</th>\n",
       "      <td>0.000000</td>\n",
       "      <td>1.000000</td>\n",
       "      <td>NaN</td>\n",
       "      <td>NaN</td>\n",
       "      <td>0.420000</td>\n",
       "      <td>0.000000</td>\n",
       "      <td>0.000000</td>\n",
       "      <td>0.00000</td>\n",
       "    </tr>\n",
       "    <tr>\n",
       "      <th>25%</th>\n",
       "      <td>0.000000</td>\n",
       "      <td>2.000000</td>\n",
       "      <td>NaN</td>\n",
       "      <td>NaN</td>\n",
       "      <td>20.250000</td>\n",
       "      <td>0.000000</td>\n",
       "      <td>0.000000</td>\n",
       "      <td>7.92500</td>\n",
       "    </tr>\n",
       "    <tr>\n",
       "      <th>50%</th>\n",
       "      <td>0.000000</td>\n",
       "      <td>3.000000</td>\n",
       "      <td>NaN</td>\n",
       "      <td>NaN</td>\n",
       "      <td>28.000000</td>\n",
       "      <td>0.000000</td>\n",
       "      <td>0.000000</td>\n",
       "      <td>14.45420</td>\n",
       "    </tr>\n",
       "    <tr>\n",
       "      <th>75%</th>\n",
       "      <td>1.000000</td>\n",
       "      <td>3.000000</td>\n",
       "      <td>NaN</td>\n",
       "      <td>NaN</td>\n",
       "      <td>38.000000</td>\n",
       "      <td>1.000000</td>\n",
       "      <td>0.000000</td>\n",
       "      <td>31.13750</td>\n",
       "    </tr>\n",
       "    <tr>\n",
       "      <th>max</th>\n",
       "      <td>1.000000</td>\n",
       "      <td>3.000000</td>\n",
       "      <td>NaN</td>\n",
       "      <td>NaN</td>\n",
       "      <td>80.000000</td>\n",
       "      <td>8.000000</td>\n",
       "      <td>6.000000</td>\n",
       "      <td>512.32920</td>\n",
       "    </tr>\n",
       "  </tbody>\n",
       "</table>\n",
       "</div>"
      ],
      "text/plain": [
       "          Survived      Pclass                       Name   Sex         Age  \\\n",
       "count   887.000000  887.000000                        887   887  887.000000   \n",
       "unique         NaN         NaN                        887     2         NaN   \n",
       "top            NaN         NaN  Mr. Richard William Smith  male         NaN   \n",
       "freq           NaN         NaN                          1   573         NaN   \n",
       "mean      0.385569    2.305524                        NaN   NaN   29.471443   \n",
       "std       0.487004    0.836662                        NaN   NaN   14.121908   \n",
       "min       0.000000    1.000000                        NaN   NaN    0.420000   \n",
       "25%       0.000000    2.000000                        NaN   NaN   20.250000   \n",
       "50%       0.000000    3.000000                        NaN   NaN   28.000000   \n",
       "75%       1.000000    3.000000                        NaN   NaN   38.000000   \n",
       "max       1.000000    3.000000                        NaN   NaN   80.000000   \n",
       "\n",
       "        Siblings/Spouses Aboard  Parents/Children Aboard       Fare  \n",
       "count                887.000000               887.000000  887.00000  \n",
       "unique                      NaN                      NaN        NaN  \n",
       "top                         NaN                      NaN        NaN  \n",
       "freq                        NaN                      NaN        NaN  \n",
       "mean                   0.525366                 0.383315   32.30542  \n",
       "std                    1.104669                 0.807466   49.78204  \n",
       "min                    0.000000                 0.000000    0.00000  \n",
       "25%                    0.000000                 0.000000    7.92500  \n",
       "50%                    0.000000                 0.000000   14.45420  \n",
       "75%                    1.000000                 0.000000   31.13750  \n",
       "max                    8.000000                 6.000000  512.32920  "
      ]
     },
     "execution_count": 11,
     "metadata": {},
     "output_type": "execute_result"
    }
   ],
   "source": [
    "titanic.describe(include='all')"
   ]
  },
  {
   "cell_type": "code",
   "execution_count": 12,
   "id": "strategic-korea",
   "metadata": {},
   "outputs": [
    {
     "name": "stdout",
     "output_type": "stream",
     "text": [
      "     Survived  Pclass                               Name     Sex  Age  \\\n",
      "809         0       3  Miss. Ebba Iris Alfrida Andersson  female  6.0   \n",
      "\n",
      "     Siblings/Spouses Aboard  Parents/Children Aboard    Fare  \n",
      "809                        4                        2  31.275  \n"
     ]
    }
   ],
   "source": [
    "print(titanic.loc[titanic['Name'] == 'Miss. Ebba Iris Alfrida Andersson'])"
   ]
  },
  {
   "cell_type": "code",
   "execution_count": 13,
   "id": "mental-checklist",
   "metadata": {},
   "outputs": [],
   "source": [
    "le = preprocessing.LabelEncoder()\n",
    "x_d = titanic[[\"Pclass\",\"Name\",\"Sex\",\"Age\",\"Siblings/Spouses Aboard\",\"Parents/Children Aboard\",\"Fare\"]]\n",
    "y = le.fit(titanic[\"Survived\"])\n",
    "y = le.transform(titanic[\"Survived\"])"
   ]
  },
  {
   "cell_type": "code",
   "execution_count": 14,
   "id": "olympic-tonight",
   "metadata": {},
   "outputs": [
    {
     "name": "stdout",
     "output_type": "stream",
     "text": [
      "     Pclass                              Name     Sex   Age  \\\n",
      "4         3           Mr. William Henry Allen    male  35.0   \n",
      "769       3                    Mr. Dibo Elias    male  29.0   \n",
      "374       3    Miss. Aurora Adelia Landergren  female  22.0   \n",
      "764       3                Mr. Daniel J Moran    male  28.0   \n",
      "582       1                Miss. Ruth Taussig  female  18.0   \n",
      "..      ...                               ...     ...   ...   \n",
      "525       3          Mr. Johan Werner Salonen    male  39.0   \n",
      "747       3                Master. Meier Moor    male   6.0   \n",
      "683       3           Mr. Jaako Arnold Panula    male  14.0   \n",
      "704       1  Mr. Edward Pennington Calderhead    male  42.0   \n",
      "542       1       Mr. Arthur Ernest Nicholson    male  64.0   \n",
      "\n",
      "     Siblings/Spouses Aboard  Parents/Children Aboard     Fare  \n",
      "4                          0                        0   8.0500  \n",
      "769                        0                        0   7.2250  \n",
      "374                        0                        0   7.2500  \n",
      "764                        1                        0  24.1500  \n",
      "582                        0                        2  79.6500  \n",
      "..                       ...                      ...      ...  \n",
      "525                        0                        0   7.9250  \n",
      "747                        0                        1  12.4750  \n",
      "683                        4                        1  39.6875  \n",
      "704                        0                        0  26.2875  \n",
      "542                        0                        0  26.0000  \n",
      "\n",
      "[709 rows x 7 columns]\n",
      "y_train [0 0 1 0 1 1 0 1 1 1 0 0 1 0 0 0 0 0 0 1 0 0 0 1 0 0 0 0 0 1 0 0 1 1 0 0 0\n",
      " 0 1 0 1 0 0 0 0 0 0 0 0 1 0 0 1 1 1 1 0 0 1 0 0 0 1 0 1 1 1 0 0 0 0 0 1 0\n",
      " 1 0 1 0 0 0 0 0 1 0 0 1 0 0 1 0 0 0 1 0 1 0 1 1 0 0 0 0 0 0 1 0 1 0 0 0 1\n",
      " 0 0 0 0 1 1 0 0 1 0 0 0 0 0 0 0 0 1 1 1 0 0 0 0 0 1 1 0 1 0 1 0 0 1 0 1 0\n",
      " 1 0 0 0 0 0 0 0 1 0 0 0 0 1 0 1 0 1 1 1 0 1 1 0 0 1 0 0 1 0 0 0 0 1 0 1 1\n",
      " 0 1 0 0 1 0 0 1 1 0 0 0 0 1 0 1 1 0 1 1 0 0 0 0 1 1 1 0 0 1 0 1 0 1 0 0 0\n",
      " 1 1 1 0 1 0 0 0 0 1 1 0 0 0 0 0 0 0 0 1 0 0 1 0 1 0 0 1 1 0 1 1 0 0 1 0 1\n",
      " 0 1 0 1 1 0 0 1 0 1 0 0 1 0 0 0 1 1 1 0 1 1 0 0 0 1 0 1 0 1 1 1 0 0 0 1 0\n",
      " 1 1 1 0 0 0 1 0 1 0 1 0 0 0 1 0 0 0 0 1 1 1 0 0 0 0 0 1 1 0 0 0 0 1 0 0 1\n",
      " 0 0 0 0 0 0 0 1 0 1 0 0 0 1 1 1 1 0 1 0 1 0 0 0 0 1 0 0 1 1 0 0 0 1 0 1 0\n",
      " 1 0 1 0 1 1 0 1 0 0 0 1 1 0 1 0 0 0 0 1 0 0 0 0 1 0 1 1 1 1 0 0 0 1 1 0 0\n",
      " 0 0 0 0 0 1 0 1 1 0 0 0 1 1 0 0 0 1 0 0 0 0 0 1 1 1 1 0 1 0 0 1 0 0 1 0 1\n",
      " 0 0 0 0 0 0 0 0 0 0 0 1 1 1 0 1 0 1 1 1 0 0 0 0 1 0 0 1 1 0 0 0 1 1 1 1 0\n",
      " 1 0 0 1 0 0 1 1 0 0 0 1 1 0 1 1 0 1 0 0 0 0 1 1 0 1 1 1 1 0 0 0 1 0 1 1 0\n",
      " 1 0 0 1 1 0 1 1 1 1 0 1 1 0 0 1 0 1 1 0 0 0 0 1 0 0 0 1 1 1 0 1 0 0 0 1 0\n",
      " 0 0 0 1 0 1 1 0 0 0 0 1 0 0 0 1 1 1 0 0 0 1 1 0 1 1 1 0 1 0 1 1 1 0 0 0 1\n",
      " 0 0 0 1 0 1 0 0 1 0 0 0 0 0 0 1 1 0 1 0 0 0 1 0 1 0 1 0 0 0 1 0 1 0 0 1 1\n",
      " 1 0 0 0 1 0 0 0 0 0 0 0 0 0 0 1 0 1 0 1 0 0 0 1 1 0 0 1 0 0 1 0 1 1 0 1 0\n",
      " 1 0 0 0 1 0 0 1 0 0 0 0 0 1 0 0 0 0 0 0 0 0 0 1 1 1 1 1 1 0 0 0 0 0 0 0 0\n",
      " 0 0 1 0 1 0]\n"
     ]
    }
   ],
   "source": [
    "\n",
    "xd_train, xd_test, y_train, y_test = train_test_split(x_d, y, test_size = 0.20)\n",
    "print(xd_train)\n",
    "print(\"y_train\", y_train)"
   ]
  },
  {
   "cell_type": "code",
   "execution_count": 24,
   "id": "temporal-dimension",
   "metadata": {},
   "outputs": [
    {
     "name": "stdout",
     "output_type": "stream",
     "text": [
      "Accucy:  0.601123595505618\n"
     ]
    }
   ],
   "source": [
    "\n",
    "oner = OneRClassifier()\n",
    "oner.fit(xd_train.to_numpy(),y_train)\n",
    "y_pred = oner.predict(xd_test.to_numpy())\n",
    "\n",
    "accuracy = accuracy_score(y_test, y_pred)\n",
    "print(\"Accucy: \", accuracy)\n"
   ]
  },
  {
   "cell_type": "code",
   "execution_count": 29,
   "id": "fabulous-germany",
   "metadata": {},
   "outputs": [
    {
     "name": "stdout",
     "output_type": "stream",
     "text": [
      "[0 0 0 0 0 0 1 1 0 1 0 0 0 0 1 0 0 0 0 1 0 1 1 1 1 0 0 1 0 0 0 0 0 1 1 1 1\n",
      " 0 1 0 1 1 1 1 0 1 0 1 0 0 1 0 0 1 0 0 1 1 0 1 1 0 0 0 0 0 0 0 1 1 1 1 1 0\n",
      " 0 0 1 0 0 0 0 1 0 0 0 0 0 0 0 1 0 1 0 0 0 0 0 1 0 1 1 0 0 0 1 0 1 1 0 0 0\n",
      " 0 0 1 1 0 1 1 0 1 0 0 0 1 1 1 0 0 1 0 1 1 0 0 1 0 1 1 1 1 0 0 0 0 0 1 0 0\n",
      " 0 0 0 1 0 1 1 0 0 0 0 0 1 0 1 0 0 1 0 0 1 0 1 1 1 1 0 0 0 1]\n",
      "[0 0 0 0 0 0 0 0 0 0 0 0 0 0 0 0 0 0 0 0 0 0 0 0 0 0 0 0 0 0 0 0 0 0 0 0 0\n",
      " 0 0 0 0 0 0 0 0 0 0 0 0 0 0 0 0 0 0 0 0 0 0 0 0 0 0 0 0 0 0 0 0 0 0 0 0 0\n",
      " 0 0 0 0 0 0 0 0 0 0 0 0 0 0 0 0 0 0 0 0 0 0 0 0 0 0 0 0 0 0 0 0 0 0 0 0 0\n",
      " 0 0 0 0 0 0 0 0 0 0 0 0 0 0 0 0 0 0 0 0 0 0 0 0 0 0 0 0 0 0 0 0 0 0 0 0 0\n",
      " 0 0 0 0 0 0 0 0 0 0 0 0 0 0 0 0 0 0 0 0 0 0 0 0 0 0 0 0 0 0]\n",
      "[[107   0]\n",
      " [ 71   0]]\n"
     ]
    }
   ],
   "source": [
    "print(y_test)\n",
    "print(y_pred)\n",
    "\n",
    "print(confusion_matrix(y_test, y_pred))"
   ]
  },
  {
   "cell_type": "code",
   "execution_count": 30,
   "id": "convenient-packaging",
   "metadata": {},
   "outputs": [
    {
     "name": "stdout",
     "output_type": "stream",
     "text": [
      "feature:  1\n"
     ]
    }
   ],
   "source": [
    "print(\"feature: \", oner.feature_idx_)"
   ]
  },
  {
   "cell_type": "code",
   "execution_count": 31,
   "id": "confidential-monster",
   "metadata": {},
   "outputs": [
    {
     "name": "stdout",
     "output_type": "stream",
     "text": [
      "prediction_dict_:  {'total error': 0, 'rules (value: class)': {'Capt. Edward Gifford Crosby': 0, 'Col. John Weir': 0, 'Col. Oberst Alfons Simonius-Blumer': 1, 'Dr. Alfred Pain': 0, 'Dr. Ernest Moraweck': 0, 'Dr. Henry William Frauenthal': 1, 'Dr. Max Stahelin-Maeglin': 1, 'Jonkheer. John George Reuchlin': 0, 'Lady. (Lucille Christiana Sutherland)Duff Gordon': 1, 'Major. Archibald Willingham Butt': 0, 'Master. Alden Gates Caldwell': 1, 'Master. Andre Mallet': 1, 'Master. Arthur Rice': 0, 'Master. Assad Alexander Thomas': 1, 'Master. Bertram Vere Dean': 1, 'Master. Clarence Gustaf Hugo Asplund': 0, 'Master. Eden Leslie Coutts': 1, 'Master. Edmond Roger Navratil': 1, 'Master. Edvin Rojj Felix Asplund': 1, 'Master. Eino Viljami Panula': 0, 'Master. Eric Rice': 0, 'Master. Eugene Rice': 0, 'Master. Frank John William Goldsmith': 1, 'Master. George Hugh Rice': 0, 'Master. George Sibley Richards': 1, 'Master. Gerios Moubarek': 1, 'Master. Gosta Leonard Palsson': 0, 'Master. Halim Gonios Moubarek': 1, 'Master. Harald Skoog': 0, 'Master. Harold Theodor Johnson': 1, 'Master. Harold Victor Goodwin': 0, 'Master. John Morgan Jr Davies': 1, 'Master. Juha Niilo Panula': 0, 'Master. Karl Thorsten Skoog': 0, 'Master. Meier Moor': 1, 'Master. Sidney Leonard Goodwin': 0, 'Master. Sigvard Harald Elias Andersson': 0, 'Master. Thomas Henry Sage': 0, 'Master. Urho Abraham Panula': 0, 'Master. Viljo Hamalainen': 1, 'Master. Washington Dodge': 1, 'Master. William Frederick Goodwin': 0, 'Master. William Loch Coutts': 1, 'Master. William Thornton II Carter': 1, 'Miss. (Marion Ogden) Meanwell': 0, 'Miss. Adele Kiamie Najib': 1, 'Miss. Agda Thorilda Viktoria Lindahl': 0, 'Miss. Agnes McCoy': 1, 'Miss. Albina Bazzani': 1, 'Miss. Alice Cleaver': 1, 'Miss. Alice Elizabeth Fortune': 1, 'Miss. Alice Herman': 1, 'Miss. Alice Phoebe Harknett': 0, 'Miss. Aloisia Haas': 0, 'Miss. Amelia Brown': 1, 'Miss. Ann Elizabeth Isham': 0, 'Miss. Anna Katherine Kelly': 1, 'Miss. Anna Kristine Salkjelsvik': 1, 'Miss. Anna Peter': 1, 'Miss. Anna Sinkkonen': 1, 'Miss. Anna Sofia Nysten': 1, 'Miss. Anna Sofia Sjoblom': 1, 'Miss. Anna Sofia Turja': 1, 'Miss. Anne Perreault': 1, 'Miss. Annie Clemmer Funk': 0, 'Miss. Annie Jermyn': 1, 'Miss. Annie Jessie Harper': 1, 'Miss. Asuncion Duran y More': 1, 'Miss. Augusta Charlotta Lindblom': 0, 'Miss. Augusta Maria Vander Planke': 0, 'Miss. Augusta Serepeca': 1, 'Miss. Aurora Adelia Landergren': 1, 'Miss. Banoura Ayoub': 1, 'Miss. Bertha LeRoy': 1, 'Miss. Bertha Lehmann': 1, \"Miss. Bridget Mary O'Sullivan\": 0, \"Miss. Bridget O'Driscoll\": 1, 'Miss. Brigdet Delia McDermott': 1, 'Miss. Carla Christine Nielsine Andersen-Jensen': 1, 'Miss. Caroline Louise Endres': 1, 'Miss. Catharina Van Impe': 0, 'Miss. Catherine Helen Johnston': 0, 'Miss. Clear Annie Cameron': 1, 'Miss. Constance Gladys Sage': 0, 'Miss. Constance Mirium West': 1, 'Miss. Delia Henry': 0, 'Miss. Doolina Margaret Ford': 0, 'Miss. Dorothy Edith Sage': 0, 'Miss. Ebba Iris Alfrida Andersson': 0, 'Miss. Edwina Celia Troutt': 1, 'Miss. Eleanor Ileen Johnson': 1, 'Miss. Elina Olsson': 0, 'Miss. Elisabeth Walton Allen': 1, 'Miss. Elise Lurette': 1, 'Miss. Elizabeth Bonnell': 1, 'Miss. Elizabeth Dowdell': 1, 'Miss. Elizabeth Mussey Eustis': 1, 'Miss. Elizabeth W Shutes': 1, 'Miss. Ellen Natalia Pettersson': 0, \"Miss. Ellen O'Dwyer\": 1, 'Miss. Ellen Toomey': 1, 'Miss. Ellis Anna Maria Andersson': 0, 'Miss. Elsie Doling': 1, 'Miss. Elsie Edith Bowerman': 1, 'Miss. Emily Borie Ryerson': 1, 'Miss. Emily Rugg': 1, 'Miss. Erna Alexandra Andersson': 1, 'Miss. Ethel Garside': 1, 'Miss. Eugenie Baclini': 1, 'Miss. Eva Miriam Hart': 1, 'Miss. Georgette Alexandra Madill': 1, 'Miss. Gerda Ulrika Dahlberg': 0, 'Miss. Gladys Cherry': 1, 'Miss. Gretchen Fiske Longley': 1, 'Miss. Hanora Hegarty': 0, \"Miss. Hanora O'Leary\": 1, 'Miss. Harriet R Crosby': 1, 'Miss. Hedwig Margaritha Frolicher': 1, 'Miss. Helen Carr': 1, 'Miss. Helen Loraine Allison': 0, 'Miss. Helen Mary Mockler': 1, 'Miss. Helene Barbara Baclini': 1, 'Miss. Helmina Josefina Nilsson': 1, 'Miss. Henriette Yrois': 0, 'Miss. Hilda Mary Slayter': 1, 'Miss. Hildur E Hirvonen': 1, 'Miss. Hulda Amanda Adolfina Vestrom': 0, 'Miss. Ida Sofia Strandberg': 0, 'Miss. Jamila Nicola-Yarred': 1, 'Miss. Jean Gertrude Hippach': 1, 'Miss. Jeannie Lefebre': 0, 'Miss. Jessie Wills Leitch': 1, 'Miss. Joan Wells': 1, 'Miss. Julie Rachel Christy': 1, 'Miss. Kate Connolly': 1, 'Miss. Kate Florence Phillips': 1, 'Miss. Katherine Mullens': 1, 'Miss. Katie Peters': 0, 'Miss. Kornelia Theodosia Andrews': 1, 'Miss. Kristina Sofia Laitinen': 0, 'Miss. Laina Heikkinen': 1, 'Miss. Laura Mabel Francatelli': 1, 'Miss. Lucile Polk Carter': 1, 'Miss. Lucy Ridsdale': 1, 'Miss. Luise Gretchen Kink-Heilmann': 1, 'Miss. Lyyli Karoliina Silven': 1, 'Miss. Mabel Helen Fortune': 1, 'Miss. Mabel Skoog': 0, 'Miss. Madeleine Newell': 1, 'Miss. Madeleine Violet Mellinger': 1, 'Miss. Malake Attalah': 0, 'Miss. Manca Karun': 1, 'Miss. Margaret Edith Graham': 1, 'Miss. Margaret Fleming': 1, 'Miss. Margaret Jane Murphy': 1, 'Miss. Margaret Madigan': 1, 'Miss. Margareth Mannion': 1, 'Miss. Marguerite Rut Sandstrom': 1, 'Miss. Mari Aina Jussila': 0, 'Miss. Marie Catherine Baclini': 1, 'Miss. Marie Grice Young': 1, 'Miss. Marija Cacic': 0, 'Miss. Marion Elsie Smith': 1, 'Miss. Marion Louise Becker': 1, 'Miss. Marjorie Newell': 1, 'Miss. Mary Agatha Glynn': 1, 'Miss. Mary Bourke': 0, 'Miss. Mary Canavan': 0, 'Miss. Mary Conover Lines': 1, 'Miss. Mary Davis': 1, 'Miss. Mary Kelly': 1, 'Miss. Mary Mangan': 0, 'Miss. Mary McGovern': 1, 'Miss. Mary Natalie Wick': 1, 'Miss. Mathilde Lefebre': 0, 'Miss. Matilda Petranec': 0, 'Miss. Nora A Keane': 1, 'Miss. Nourelain Boulos': 0, 'Miss. Phyllis May Quick': 1, 'Miss. Pieta Sofia Ilmakangas': 0, 'Miss. Roberta Maioni': 1, 'Miss. Ruth Taussig': 1, 'Miss. Sara Rebecca Compton': 1, 'Miss. Simonne Marie Anne Andree Laroche': 1, 'Miss. Stella Anna Sage': 0, 'Miss. Stina Viola Palsson': 0, 'Miss. Susan Parker Ryerson': 1, 'Miss. Susan Webber': 1, 'Miss. Telma Matilda Strom': 0, 'Miss. Thamine Zabour': 0, 'Miss. Torborg Danira Palsson': 0, 'Miss. Velin Ohman': 1, 'Miss. Virginia Ethel Emanuel': 1, 'Miss. Wendla Maria Heininen': 0, 'Mlle. Berthe Antonine Mayne': 1, 'Mlle. Emma Sagesser': 1, 'Mme. Leontine Pauline Aubart': 1, 'Mr. Abraham (David Lishin) Harmer': 0, 'Mr. Achille Waelens': 0, 'Mr. Adola Asim': 0, 'Mr. Adolf Mathias Nicolai Olsen Humblen': 0, 'Mr. Ahmed Ali': 0, 'Mr. Albert A Stewart': 0, 'Mr. Albert Augustsson': 0, 'Mr. Albert Johan Moss': 1, 'Mr. Albert Mallet': 0, 'Mr. Alexander Oskar Holverson': 0, 'Mr. Alexander Radeff': 0, 'Mr. Alfons de Pelsmaeker': 0, 'Mr. Alfonzo Meo': 0, 'Mr. Alfred Fleming Cunningham': 0, 'Mr. Alfred Gaskell': 0, 'Mr. Alfred George John Rush': 0, 'Mr. Alfred J Davies': 0, 'Mr. Alfred Johnson': 0, 'Mr. Alfred Ossian Gustafsson': 0, 'Mr. Algernon Henry Wilson Barkworth': 1, 'Mr. Ambrose Jr Hood': 0, 'Mr. Amin Saad': 0, 'Mr. Anders Johan Andersson': 0, 'Mr. Anders Vilhelm Gustafsson': 0, 'Mr. Andrew G Johnston': 0, 'Mr. Andrew Keane': 0, 'Mr. Anthony Abbing': 0, 'Mr. Antti Gustaf Leinonen': 0, 'Mr. Antti Wilhelm Sivola': 0, 'Mr. Arne Jonas Fahlstrom': 0, 'Mr. Arthur Ernest Nicholson': 0, 'Mr. Arthur H Gee': 0, 'Mr. Arthur Keefe': 0, 'Mr. Arthur Webster Newell': 0, 'Mr. August Edvard Andersson': 1, 'Mr. August Meyer': 0, 'Mr. August Sigfrid Carlsson': 0, 'Mr. August Viktor Larsson': 0, 'Mr. Austin Blyler van Billiard': 0, 'Mr. Benjamin Guggenheim': 0, 'Mr. Benjamin Hart': 0, 'Mr. Benjamin Laventall Foreman': 0, 'Mr. Berk (Berk Trembisky) Pickard': 1, 'Mr. Bernard McCoy': 1, 'Mr. Bernt Johannesen-Bratthammer': 1, 'Mr. Bertram Frank Dean': 0, 'Mr. Branko Dakic': 0, 'Mr. Carl Jonsson': 1, 'Mr. Carl/Charles Peter Widegren': 0, 'Mr. Cerin Balkic': 0, 'Mr. Chang Chip': 1, 'Mr. Charles Duane Williams': 0, 'Mr. Charles Eugene Williams': 1, 'Mr. Charles Frederick Waddington Sedgwick': 0, 'Mr. Charles H Natsch': 0, 'Mr. Charles Hallace Romaine': 1, 'Mr. Charles Henry Chapman': 0, 'Mr. Charles Henry Davies': 0, 'Mr. Charles Joseph Shorney': 0, 'Mr. Charles Wilhelms': 1, 'Mr. Choong Foo': 1, 'Mr. Christo Nenkoff': 0, 'Mr. Claus Peter Hansen': 0, 'Mr. Daniel Coxon': 0, 'Mr. Daniel Danielsen Gronnestad': 0, 'Mr. Daniel J Moran': 0, 'Mr. Daniel Warner Marvin': 0, 'Mr. David Charters': 0, 'Mr. David John Barton': 0, 'Mr. David Reeves': 0, 'Mr. Denis Lennon': 0, 'Mr. Dibo Elias': 0, 'Mr. Dickinson H Bishop': 1, 'Mr. Domingos Fernandeo Coelho': 0, 'Mr. Douglas Bullen Sage': 0, 'Mr. Eberhard Thelander Fischer': 0, 'Mr. Edgardo Samuel Andrew': 0, 'Mr. Edvard Bengtsson Lindell': 0, 'Mr. Edvard Pekoniemi': 0, 'Mr. Edward Arthur Dorking': 1, 'Mr. Edward Austin Kent': 0, 'Mr. Edward Beane': 1, 'Mr. Edward Pennington Calderhead': 1, 'Mr. Edward Roland Stanley': 0, 'Mr. Edward Willey': 0, 'Mr. Edwin Nelson Jr Kimball': 1, 'Mr. Edwy Arthur West': 0, 'Mr. Einar Windelov': 0, 'Mr. Eino William Lindqvist': 1, 'Mr. Eiriik Jussila': 1, 'Mr. Eliezer Gilinski': 0, 'Mr. Emil Christmann': 0, 'Mr. Emil Taussig': 0, 'Mr. Emile Richard': 0, 'Mr. Engelhart Cornelius Ostby': 0, 'Mr. Ennis Hastings Watson': 0, 'Mr. Erik Gustaf Collander': 0, 'Mr. Erik Johansson': 0, 'Mr. Ernest Charles Cann': 0, 'Mr. Ernest James Crease': 0, 'Mr. Ernest Portage Tomlin': 0, 'Mr. Ernesti Arvid Panula': 0, 'Mr. Ernst Adolf Sjostedt': 0, 'Mr. Ernst Gilbert Danbom': 0, 'Mr. Ernst Ulrik Persson': 1, 'Mr. Ernst William Torber': 0, 'Mr. Ervin G Lewy': 0, 'Mr. Eugene Patrick Daly': 1, 'Mr. Fang Lang': 1, 'Mr. Farred Chehab Emir': 0, 'Mr. Fletcher Fellows Williams-Lambert': 0, 'Mr. Francesco Celotti': 0, 'Mr. Francis Davis Millet': 0, 'Mr. Francis Parkes': 0, 'Mr. Francis William Somerton': 0, 'Mr. Francisco M Carrau': 0, 'Mr. Frank Duane': 0, 'Mr. Frank John Goldsmith': 0, 'Mr. Frans Olof Carlsson': 0, 'Mr. Frederick Charles Sawyer': 0, 'Mr. Frederick Edward Giles': 0, 'Mr. Frederick James Banfield': 0, 'Mr. Frederick Sage': 0, 'Mr. Frederick William Pengelly': 0, 'Mr. Frederick William Shellard': 0, 'Mr. Fridtjof Arne Madsen': 1, 'Mr. George Achilles Harder': 1, 'Mr. George B Goldschmidt': 0, 'Mr. George Bradley': 1, 'Mr. George Edward Graham': 0, 'Mr. George Floyd Eitemiller': 0, 'Mr. George Harris': 1, 'Mr. George Henry Green': 0, 'Mr. George Henry Hunt': 0, 'Mr. George Patchett': 0, 'Mr. George Quincy Clifford': 0, 'Mr. George Wright': 0, 'Mr. Gerious Youseff': 0, 'Mr. Guentcho Bostandyeff': 0, 'Mr. Gustaf Hjalmar Edvardsson': 0, 'Mr. Hammad Hassab': 1, 'Mr. Hanna Assi Barah': 1, 'Mr. Hans Kristensen Givard': 0, 'Mr. Hans Linus Eklund': 0, 'Mr. Hans Martin Monsen Birkeland': 0, 'Mr. Harry Anderson': 1, 'Mr. Harry Elkins Widener': 0, 'Mr. Harry Homer': 1, 'Mr. Harvey Collyer': 0, 'Mr. Henry Birkhardt Harris': 0, 'Mr. Henry Damsgaard Hansen': 0, 'Mr. Henry Hart': 0, 'Mr. Henry Jr Sutehall': 0, 'Mr. Henry Margido Olsen': 0, 'Mr. Henry Samuel Morley': 0, 'Mr. Herman Klaber': 0, 'Mr. Houssein G N Hassan': 0, 'Mr. Howard Hugh Williams': 0, 'Mr. Hugh Roscoe Rood': 0, 'Mr. Hugh Woolner': 1, 'Mr. Husein Sivic': 0, 'Mr. Ignjac Hendekovic': 0, 'Mr. Iisakki Antino Aijo Nirva': 0, 'Mr. Ilia Stoytcheff': 0, 'Mr. Ilmari Rudolf Alhomaki': 0, 'Mr. Ingvald Olai Olsen Hagland': 0, 'Mr. Ivan Jalsevac': 1, 'Mr. Ivan Staneff': 0, 'Mr. Ivan Stankovic': 0, 'Mr. Jaako Arnold Panula': 0, 'Mr. Jacob Christian Milling': 0, 'Mr. Jakob Alfred Wiklund': 0, 'Mr. James Farrell': 0, 'Mr. James Flynn': 0, 'Mr. James George Reed': 0, 'Mr. James H Bracken': 0, 'Mr. James Kelly': 0, 'Mr. James Lester': 0, 'Mr. James Moran': 0, 'Mr. James Robert McGough': 1, 'Mr. James Webber': 0, 'Mr. Jan Baptist Sheerlinck': 1, 'Mr. Jean Baptiste Van Impe': 0, 'Mr. Jeremiah Burke': 0, 'Mr. Jeso Culumovic': 0, 'Mr. Johan Ekstrom': 0, 'Mr. Johan Hansen Nysveen': 0, 'Mr. Johan Henrik Johannesson Kvillner': 0, 'Mr. Johan Julian Sundman': 1, 'Mr. Johan Svensson': 0, 'Mr. Johan Werner Salonen': 0, 'Mr. Johann Markun': 0, 'Mr. Johannes Joseph Vande Velde': 0, 'Mr. John Adams': 0, 'Mr. John Borland Jr Thayer': 1, 'Mr. John Borland Thayer': 0, 'Mr. John Bourke': 0, 'Mr. John D Baumann': 0, 'Mr. John Denzil Jarvis': 0, 'Mr. John Flynn': 0, 'Mr. John Garfirth': 0, 'Mr. John Hall Lovell': 0, 'Mr. John Hatfield Cribb': 0, 'Mr. John Henry Chapman': 0, 'Mr. John Henry Perkin': 0, 'Mr. John Horgan': 0, 'Mr. John Hugo Ross': 0, 'Mr. John Irwin Flynn': 1, 'Mr. John Montgomery Smart': 0, 'Mr. John Simmons': 0, 'Mr. John Viktor Bengtsson': 0, 'Mr. John William Gill': 0, 'Mr. Jose Neto Jardin': 0, 'Mr. Josef Arnold-Franchi': 0, 'Mr. Joseph Charles Nicholls': 0, 'Mr. Joseph J Fynney': 0, 'Mr. Joseph Murdlin': 0, 'Mr. Jovo Calic': 0, 'Mr. Jozef Drazenoic': 0, 'Mr. Juha Niskanen': 1, 'Mr. Juho Stranden': 1, 'Mr. Julian Padro y Manent': 1, 'Mr. Kanio Ivanoff': 0, 'Mr. Karl Edwart Dahl': 1, 'Mr. Karl Gideon Gustafsson': 0, 'Mr. Karl Ivar Sven Berglund': 0, 'Mr. Karl Johan Johansson': 0, 'Mr. Karl Siegwart Andreas Olsen': 0, 'Mr. Kristo Laleff': 0, 'Mr. Kurt Arnold Gottfrid Bryhl': 0, 'Mr. Lalio Jonkoff': 0, 'Mr. Lalio Todoroff': 0, 'Mr. Lawrence Gavey': 0, 'Mr. Lee Bing': 1, 'Mr. Len Lam': 0, 'Mr. Leo Edmondus Vander Planke': 0, 'Mr. Leo Peter Vanden Steen': 0, 'Mr. Leo Zimmerman': 0, 'Mr. Leon Hampe': 0, 'Mr. Leonard Mark Hickman': 0, 'Mr. Leslie Williams': 0, 'Mr. Lewis Hickman': 0, 'Mr. Lewis Richard Braund': 0, 'Mr. Lionel Leonard': 0, 'Mr. Liudevit Cor': 0, 'Mr. Luka Cacic': 0, 'Mr. Malkolm Joackim Johnson': 0, 'Mr. Mansouer Novel': 0, 'Mr. Mansour Hanna': 0, 'Mr. Manuel Estanslas Goncalves': 0, 'Mr. Marin Markoff': 0, 'Mr. Martin McMahon': 0, 'Mr. Martin Ponesell': 0, 'Mr. Matthew Sadlier': 0, 'Mr. Matti Alexanteri Maenpaa': 0, 'Mr. Matti Rintamaki': 0, 'Mr. Mauritz Hakan Bjornstrom-Steffansson': 1, 'Mr. Mauritz Nils Martin Adahl': 0, 'Mr. Maxmillian Frolicher-Stehli': 1, 'Mr. Mile Smiljanic': 0, 'Mr. Milton Clyde Long': 0, 'Mr. Minko Nankoff': 0, 'Mr. Mito Mitkoff': 0, 'Mr. Mitto Denkoff': 0, 'Mr. Moses Aaron Troupiansky': 0, 'Mr. Nakli Toufik': 0, 'Mr. Nassef Cassem Albimona': 1, 'Mr. Neal McNamee': 0, 'Mr. Nedelio Petroff': 0, 'Mr. Nestor Cyriel Vande Walle': 0, 'Mr. Nicholas Nasser': 0, 'Mr. Niels Peder Jensen': 0, 'Mr. Nikola Lulic': 1, 'Mr. Nikolai Erland Kallio': 0, 'Mr. Nils Johan Goransson Olsson': 0, 'Mr. Nils Martin Odahl': 0, 'Mr. Norman Campbell Chambers': 1, 'Mr. Olaf Elon Osen': 0, 'Mr. Olof Svensson': 0, 'Mr. Orsen Sirayanian': 0, 'Mr. Oskar Arvid Hedman': 1, 'Mr. Owen George Allum': 0, 'Mr. Owen Harris Braund': 0, 'Mr. Pastcho Petroff': 0, 'Mr. Patrick Connors': 0, 'Mr. Patrick Dooley': 0, 'Mr. Paul Edvin Andreasson': 0, 'Mr. Pehr Fabian Oliver Malkolm Myhrman': 0, 'Mr. Peju Coleff': 0, 'Mr. Penko Naidenoff': 0, 'Mr. Percival James R Sharp': 0, 'Mr. Percival Thorneycroft': 0, 'Mr. Percival Wayland White': 0, 'Mr. Percy Andrew Bailey': 0, 'Mr. Petar Calic': 0, 'Mr. Petco Slabenoff': 0, 'Mr. Peter Andreas Lauritz Andersen Soholt': 0, 'Mr. Peter David McKane': 0, 'Mr. Peter Denis Daly': 1, 'Mr. Peter Henry Renouf': 0, 'Mr. Peter L Lemberopolous': 0, 'Mr. Philemon van Melkebeke': 0, 'Mr. Philip Kiernan': 0, 'Mr. Phillippe Wiseman': 0, 'Mr. Pierre Marechal': 1, 'Mr. Quigg Edmond Baxter': 0, 'Mr. Rahamin Haim Moutal': 0, 'Mr. Raihed Razi': 0, 'Mr. Ramon Artagaveytia': 0, 'Mr. Reginald Charles Coleridge': 0, 'Mr. Reginald Fenton Butler': 0, 'Mr. Reginald Hale': 0, 'Mr. Rene Aime Lievens': 0, 'Mr. Rene Jacques Levy': 0, 'Mr. Rene Pernot': 0, 'Mr. Richard Frasar White': 0, 'Mr. Richard Fry': 0, 'Mr. Richard James Slemen': 0, 'Mr. Richard Otter': 0, 'Mr. Richard William Smith': 0, 'Mr. Robert Douglas Norman': 0, 'Mr. Robert Mernagh': 0, 'Mr. Robert William Norman Leyson': 0, 'Mr. Robert Williams Daniel': 1, 'Mr. Roger Tobin': 0, 'Mr. Rossmore Edward Abbott': 0, 'Mr. Sahid Nakid': 1, 'Mr. Samuel Beard Risien': 0, 'Mr. Samuel Dennis': 0, 'Mr. Samuel Greenberg': 0, 'Mr. Samuel James Hayden Sobey': 0, 'Mr. Samuel L Goldenberg': 1, 'Mr. Sante Ringhini': 0, 'Mr. Sarkis Lahoud': 0, 'Mr. Satio Coleff': 0, 'Mr. Sebastiano del Carlo': 0, 'Mr. Shadrach Gale': 0, 'Mr. Sidney Samuel Jacobsohn': 0, 'Mr. Sigurd Hansen Moen': 0, 'Mr. Sinai Kantor': 0, 'Mr. Sleiman Attalah': 0, 'Mr. Spencer Victor Silverthorne': 1, 'Mr. Stanley George Hickman': 0, 'Mr. Stanley Hubert Fox': 0, 'Mr. Stefo Pavlovic': 0, 'Mr. Stephen Curnow Jenkin': 0, 'Mr. Stephen Hold': 0, 'Mr. Stephen Weart Blackwell': 0, 'Mr. Stjepan Turcin': 0, 'Mr. Stoytcho Mionoff': 0, 'Mr. Svend Lauritz Jensen': 0, 'Mr. Tannous Betros': 0, 'Mr. Tannous Doharr': 0, 'Mr. Tannous Elias': 0, 'Mr. Theodore de Mulder': 1, 'Mr. Thomas Charles Mudd': 0, 'Mr. Thomas Clinton Pears': 0, 'Mr. Thomas Drake Martinez Cardeza': 1, 'Mr. Thomas J Kilgannon': 0, 'Mr. Thomas Joseph McCormack': 1, 'Mr. Thomas Leonard Theobald': 0, \"Mr. Thomas O'Brien\": 0, 'Mr. Thomas Rowan Morrow': 0, 'Mr. Thor Anderson Olsvigen': 0, 'Mr. Thornton Davidson': 0, 'Mr. Tido Rekic': 0, 'Mr. Timothy J McCarthy': 0, \"Mr. Timothy O'Brien\": 0, 'Mr. Tyrell William Cavendish': 0, 'Mr. Uscher Paulner': 0, 'Mr. Victor Giglio': 0, 'Mr. Victor Robbins': 0, 'Mr. Victor Vander Cruyssen': 0, 'Mr. Victor de Satode Penasco y Castellana': 0, 'Mr. Vincenz Kink': 0, 'Mr. Walter Chamberlain Porter': 0, 'Mr. Walter Donald Douglas': 0, 'Mr. Walter Harris': 0, 'Mr. Walter James Hawksford': 1, 'Mr. Wazli Yousif': 0, 'Mr. William Alexander': 0, 'Mr. William Alfred Brocklebank': 0, 'Mr. William Anderson Walker': 0, 'Mr. William Arthur Lobb': 0, 'Mr. William Bertram Greenfield': 1, 'Mr. William Campbell': 0, 'Mr. William Carbines': 0, 'Mr. William Ernest Carter': 1, 'Mr. William Harrison': 0, 'Mr. William Henry Allen': 0, 'Mr. William Henry Gillespie': 0, 'Mr. William Henry Marsh Parr': 0, 'Mr. William Henry Saundercock': 0, 'Mr. William Henry Tornquist': 1, 'Mr. William James Elsbury': 0, 'Mr. William John Matthews': 0, 'Mr. William John Mellors': 1, 'Mr. William John Robert Turpin': 0, 'Mr. William John Rogers': 0, 'Mr. William Neal Ford': 0, 'Mr. William Thomas Beavan': 0, 'Mr. William Thompson Sloper': 1, 'Mr. Wyckoff Van der hoef': 0, 'Mr. Yoto Danoff': 0, 'Mr. Youssef Samaan': 0, 'Mr. Yousseff Ibrahim Shawah': 0, 'Mrs. (Ada E Hall) Ball': 1, 'Mrs. (Amelia Milley) Lemore': 1, 'Mrs. (Catherine David) Barbara': 0, 'Mrs. (Edith Martha Bowerman) Chibnall': 1, 'Mrs. (Elizabeth Ramell) Nye': 1, 'Mrs. (Hedwig) Turkula': 1, 'Mrs. (Karolina) Bystrom': 1, 'Mrs. (Lutie Davis) Parrish': 1, 'Mrs. (Mantoura Boulos) Moussa': 1, 'Mrs. (Mary D Kingcome) Hewlett': 1, 'Mrs. (Mary) Mack': 0, 'Mrs. (Rosa) Pinsky': 1, 'Mrs. Albert Francis (Sylvia Mae Harbaugh) Caldwell': 1, 'Mrs. Alexander A (Grace Charity Laury) Robins': 0, 'Mrs. Alexander Oskar (Mary Aline Towner) Holverson': 1, 'Mrs. Anders Johan (Alfrida Konstantia Brogren) Andersson': 0, 'Mrs. Benjamin (Esther Ada Bloomfield) Hart': 1, 'Mrs. Carl Oscar (Selma Augusta Emilia Johansson) Asplund': 1, 'Mrs. Catherine (Catherine Rizk) Peter': 1, 'Mrs. Charles Alexander (Alice Adelaide Slow) Louch': 1, 'Mrs. Charles Melville (Clara Jennings Gregg) Hays': 1, 'Mrs. Charles V (Ada Maria Winfield) Clarke': 1, 'Mrs. Darwis (Hanne Youssef Razi) Touma': 1, 'Mrs. Dickinson H (Helen Walton) Bishop': 1, 'Mrs. Edgar Joseph (Leila Saks) Meyer': 1, 'Mrs. Edward (Margaret Ann Watson) Ford': 0, 'Mrs. Edward Dale (Charlotte Lamson) Appleton': 1, 'Mrs. Edwy Arthur (Ada Mary Worth) West': 1, 'Mrs. Elizabeth (Eliza Needs) Hocking': 1, 'Mrs. Elmer Zebley (Juliet Cummins Wright) Taylor': 1, 'Mrs. Ernest Courtenay (Lilian Hughes) Carter': 0, 'Mrs. Ernst Gilbert (Anna Sigrid Maria Brogren) Danbom': 0, 'Mrs. Fatima Masselmani': 1, 'Mrs. Florence Kelly': 1, 'Mrs. Frank John (Emily Alice Brown) Goldsmith': 1, 'Mrs. Frederic Oakley (Margaretta Corning Stone) Spedden': 1, 'Mrs. Frederick (Augusta Tyler) Goodwin': 0, 'Mrs. Frederick Charles (Jane Richards) Quick': 1, 'Mrs. Frederick Joel (Margaret Welles Barron) Swift': 1, 'Mrs. Frederick Maxfield (Jane Anne Forby) Hoyt': 1, 'Mrs. Frederick R (Marion) Kenyon': 1, 'Mrs. George Dennick (Mary Hitchcock) Wick': 1, 'Mrs. George Nelson (Martha Evelyn) Stone': 1, 'Mrs. Gertrude Maybelle Thorne': 1, 'Mrs. Harvey (Charlotte Annie Tate) Collyer': 1, 'Mrs. Henry Birkhardt (Irene Wallach) Harris': 1, 'Mrs. Henry William (Clara Heinsheimer) Frauenthal': 1, 'Mrs. Hjalmar (Agnes Charlotta Bengtsson) Sandstrom': 1, 'Mrs. Hudson J C (Bessie Waldo Daniels) Allison': 0, 'Mrs. James (Elizabeth Inglis Milne) Watt': 1, 'Mrs. James (Helene DeLaudeniere Chaput) Baxter': 1, 'Mrs. James Joseph (Margaret Tobin) Brown': 1, 'Mrs. James Vivian (Lulu Thorne Christian) Drew': 1, 'Mrs. Jean Baptiste (Rosalie Paula Govaert) Van Impe': 0, 'Mrs. Johan (Johanna Persdotter Larsson) Ahlin': 0, 'Mrs. John (Catherine) Bourke': 0, 'Mrs. John Borland (Marian Longstreth Morris) Thayer': 1, 'Mrs. John Bradley (Florence Briggs Thayer) Cumings': 1, 'Mrs. John Jacob (Madeleine Talmadge Force) Astor': 1, 'Mrs. Josef (Josefine Franchi) Arnold-Franchi': 0, 'Mrs. Joseph (Juliette Marie Louise Lafargue) Laroche': 1, 'Mrs. Joseph (Maria Elias) Caram': 0, 'Mrs. Juha (Maria Emilia Ojala) Panula': 0, 'Mrs. Julius (Emelia Maria Vandemoortele) Vander Planke': 0, 'Mrs. Karl Alfred (Maria Mathilda Gustafsson) Backstrom': 1, 'Mrs. Lizzie (Elizabeth Anne Wilkinson) Faunthorpe': 1, 'Mrs. Mara Osman': 1, 'Mrs. Martin (Elizabeth L. Barrett) Rothschild': 1, 'Mrs. Nicholas (Adele Achem) Nasser': 1, 'Mrs. Nils (Alma Cornelia Berglund) Palsson': 0, 'Mrs. Oscar W (Elisabeth Vilhelmina Berg) Johnson': 1, 'Mrs. Percival (Florence Kate White) Thorneycroft': 1, 'Mrs. Peter Henry (Lillian Jefferys) Renouf': 1, 'Mrs. Richard Leonard (Sallie Monypeny) Beckwith': 1, 'Mrs. Sam (Leah Rosen) Aks': 1, 'Mrs. Samuel (Hannah Wizosky) Abelson': 1, 'Mrs. Samuel (Jane Laver) Herman': 1, 'Mrs. Samuel L (Edwiga Grabowska) Goldenberg': 1, 'Mrs. Sidney (Emily Hocking) Richards': 1, 'Mrs. Sidney Samuel (Amy Frances Christy) Jacobsohn': 1, 'Mrs. Sinai (Miriam Sternin) Kantor': 1, 'Mrs. Solomon (Latifa Qurban) Baclini': 1, 'Mrs. Stanton (Rosa Hunt) Abbott': 1, 'Mrs. Thomas (Annie Louise Rowley) Meek': 0, 'Mrs. Thomas (Edith Wearne) Pears': 1, \"Mrs. Thomas (Johanna Godfrey) O'Brien\": 1, 'Mrs. Thomas Henry (Mary E Finck) Davison': 1, 'Mrs. Thomas Jr (Lily Alexenia Wilson) Potter': 1, 'Mrs. Viktor (Helena Wilhelmina) Rosblom': 0, 'Mrs. Walter Bertram (Martha Eustis) Stephenson': 1, 'Mrs. Wilhelm (Elna Matilda Persson) Strom': 0, 'Mrs. William (Anna Bernhardina Karlsson) Skoog': 0, 'Mrs. William (Anna Sylfven) Lahtinen': 0, 'Mrs. William A (Florence Agnes Hughes) Angle': 1, 'Mrs. William Arthur (Cordelia K Stanlick) Lobb': 0, 'Mrs. William Baird (Alice Munger) Silvey': 1, 'Mrs. William Ernest (Lucile Polk) Carter': 1, 'Mrs. William H (Jessie L) Trout': 1, 'Mrs. William Thompson (Edith Junkins) Graham': 1, 'Rev. Charles Leonard Kirkland': 0, 'Rev. Ernest Courtenay Carter': 0, 'Rev. Juozas Montvila': 0, 'Rev. Robert James Bateman': 0, 'Rev. Thomas Roussel Davids Byles': 0, 'Sir. Cosmo Edmund Duff Gordon': 1, 'the Countess. of (Lucy Noel Martha Dyer-Edwards) Rothes': 1}}\n"
     ]
    }
   ],
   "source": [
    "print(\"prediction_dict_: \", oner.prediction_dict_)"
   ]
  },
  {
   "cell_type": "code",
   "execution_count": 43,
   "id": "former-pleasure",
   "metadata": {},
   "outputs": [],
   "source": [
    "x_d_new = titanic[[\"Sex\",\"Age\",\"Siblings/Spouses Aboard\",\"Parents/Children Aboard\"]]\n",
    "y_new = le.fit(titanic[\"Survived\"])\n",
    "y_new = le.transform(titanic[\"Survived\"])"
   ]
  },
  {
   "cell_type": "code",
   "execution_count": 44,
   "id": "ruled-pontiac",
   "metadata": {},
   "outputs": [
    {
     "name": "stdout",
     "output_type": "stream",
     "text": [
      "        Sex   Age  Siblings/Spouses Aboard  Parents/Children Aboard\n",
      "778    male  29.0                        0                        0\n",
      "270  female  41.0                        0                        1\n",
      "31   female  48.0                        1                        0\n",
      "351    male  25.0                        1                        0\n",
      "669    male  70.0                        0                        0\n",
      "..      ...   ...                      ...                      ...\n",
      "322    male  20.0                        8                        2\n",
      "662    male  32.0                        2                        0\n",
      "696    male  42.0                        0                        0\n",
      "330    male  38.0                        0                        1\n",
      "155  female  16.0                        0                        0\n",
      "\n",
      "[709 rows x 4 columns]\n",
      "y_train [0 1 1 0 0 0 1 0 0 1 0 0 1 0 0 0 0 0 0 0 0 1 0 0 1 1 1 0 0 1 0 1 0 0 0 0 1\n",
      " 0 1 1 0 1 1 1 1 1 0 0 1 1 1 1 0 1 1 0 1 0 0 1 1 1 1 1 1 0 0 0 1 0 1 1 0 0\n",
      " 0 0 1 0 0 0 1 0 0 1 0 0 0 0 0 1 0 1 0 1 0 0 0 1 0 0 0 0 0 0 1 1 0 1 1 0 0\n",
      " 0 0 0 0 0 1 1 1 0 0 0 0 1 0 0 0 0 1 0 1 0 1 1 0 0 0 0 0 0 0 1 1 0 1 0 0 1\n",
      " 1 0 0 1 0 0 1 0 1 1 0 1 0 0 0 0 1 0 1 1 0 1 1 0 0 1 1 1 0 0 0 1 0 1 0 0 1\n",
      " 0 1 1 0 0 1 1 0 1 0 0 0 1 0 0 0 0 0 0 1 0 0 1 0 0 0 0 1 1 0 1 0 0 0 0 0 0\n",
      " 0 1 0 0 0 0 0 0 1 0 0 0 1 1 0 0 0 0 0 0 0 1 1 0 1 0 1 0 0 0 0 0 1 1 1 0 0\n",
      " 0 1 0 0 0 1 0 0 1 0 1 1 1 0 0 0 0 0 1 0 0 1 0 1 0 1 0 1 1 1 0 1 0 1 0 0 0\n",
      " 1 1 0 0 0 1 1 0 0 0 1 0 0 0 1 1 0 1 1 0 0 0 0 0 0 1 1 0 1 0 1 0 0 0 1 0 0\n",
      " 0 0 0 0 0 1 0 0 0 1 0 0 1 1 0 0 0 0 0 1 0 1 0 0 1 1 1 1 1 1 1 1 0 0 1 0 1\n",
      " 0 0 0 1 0 0 0 0 0 1 0 0 0 0 0 1 1 1 0 0 1 1 0 0 1 1 0 1 0 0 0 0 0 1 0 0 1\n",
      " 1 1 1 0 1 0 0 0 0 0 1 0 0 1 1 0 0 0 0 0 1 0 1 1 0 0 0 0 0 0 0 1 0 1 0 1 0\n",
      " 0 0 1 1 0 1 1 0 1 0 1 1 0 1 0 0 0 1 0 0 0 1 0 1 1 0 0 1 0 0 1 0 0 1 0 1 0\n",
      " 0 0 1 0 1 0 0 1 1 0 0 1 1 1 0 0 0 1 0 1 1 0 0 1 0 0 1 0 0 1 0 1 1 0 1 0 1\n",
      " 1 0 0 0 0 0 0 1 1 1 1 0 0 1 1 0 1 1 0 0 1 0 0 1 0 0 1 0 1 0 0 1 0 0 0 1 1\n",
      " 1 0 1 0 1 0 0 0 0 0 0 0 1 1 1 0 1 1 1 0 0 0 0 1 1 0 0 0 0 0 0 0 1 0 1 1 1\n",
      " 1 0 0 0 0 0 0 1 0 0 1 1 0 0 0 1 1 0 0 1 1 0 0 0 0 0 1 0 1 0 0 0 0 1 0 0 0\n",
      " 1 1 1 0 0 0 0 1 1 1 0 0 0 0 0 1 0 0 0 1 1 0 0 0 0 1 1 0 0 0 0 0 0 1 0 1 0\n",
      " 0 0 1 0 1 0 1 0 0 1 0 0 0 0 0 1 0 0 0 0 0 0 0 0 1 1 1 0 0 0 0 1 0 1 1 0 1\n",
      " 0 0 0 0 0 1]\n"
     ]
    }
   ],
   "source": [
    "\n",
    "xd_train_new, xd_test_new, y_train_new, y_test_new = train_test_split(x_d_new, y_new, test_size = 0.20)\n",
    "print(xd_train_new)\n",
    "print(\"y_train\", y_train_new)"
   ]
  },
  {
   "cell_type": "code",
   "execution_count": 45,
   "id": "extended-eclipse",
   "metadata": {},
   "outputs": [
    {
     "name": "stdout",
     "output_type": "stream",
     "text": [
      "Accucy: \n",
      " 0.5674157303370787\n",
      "y_test_new  [1 0 1 0 1 0 1 0 0 1 1 1 0 1 0 1 0 0 1 0 0 1 0 0 1 0 0 1 0 0 0 0 0 0 1 0 1\n",
      " 1 0 1 1 0 0 0 1 1 1 0 0 0 0 1 1 1 1 0 0 0 1 1 1 0 0 0 0 0 1 0 0 1 0 0 1 1\n",
      " 0 0 1 1 0 0 0 1 0 1 0 0 0 0 0 1 0 1 0 1 1 0 1 0 1 1 1 1 0 1 0 1 1 0 0 0 0\n",
      " 0 0 0 1 0 0 0 1 1 0 1 0 1 0 0 1 0 1 0 1 0 0 0 0 0 0 0 0 0 1 1 1 1 0 1 1 1\n",
      " 0 0 1 0 0 0 1 0 1 0 1 0 0 1 0 0 0 0 1 0 0 0 1 1 0 1 0 1 1 0]\n",
      " \n",
      "y_pred_new  [0 0 0 1 0 0 0 0 0 0 0 0 0 0 0 0 0 0 1 0 0 0 0 0 0 0 0 1 1 0 0 0 1 0 0 0 0\n",
      " 1 0 0 0 0 0 0 0 0 0 0 0 1 0 0 0 0 0 0 0 0 0 0 0 0 0 0 0 0 0 0 0 1 0 0 0 0\n",
      " 0 1 0 0 0 0 1 0 0 0 0 0 0 0 0 0 0 0 0 0 1 0 0 0 0 0 0 0 0 0 0 0 0 0 0 1 0\n",
      " 1 0 0 0 0 0 0 0 0 0 0 0 0 0 0 0 0 1 0 0 1 0 1 0 0 0 0 0 0 0 0 1 0 1 0 0 1\n",
      " 0 0 0 0 1 0 0 0 0 0 0 0 0 0 0 0 0 0 1 0 0 0 0 0 0 0 0 0 0 0]\n",
      " \n",
      "[[92 12]\n",
      " [65  9]]\n",
      "feature:  1\n",
      " \n",
      "prediction_dict_:  {'total error': 248, 'rules (value: class)': {0.67: 0, 0.75: 0, 0.83: 1, 1.0: 0, 2.0: 0, 3.0: 1, 4.0: 0, 5.0: 0, 6.0: 0, 7.0: 0, 8.0: 0, 9.0: 0, 10.0: 0, 11.0: 0, 12.0: 0, 13.0: 0, 14.0: 0, 14.5: 1, 15.0: 0, 16.0: 0, 17.0: 0, 18.0: 0, 19.0: 0, 20.0: 0, 21.0: 0, 22.0: 0, 23.0: 0, 23.5: 1, 24.0: 0, 24.5: 1, 25.0: 0, 26.0: 0, 27.0: 0, 28.0: 0, 28.5: 0, 29.0: 0, 30.0: 0, 30.5: 1, 31.0: 0, 32.0: 0, 32.5: 0, 33.0: 0, 34.0: 1, 34.5: 1, 35.0: 0, 36.0: 0, 36.5: 1, 37.0: 0, 38.0: 0, 39.0: 0, 40.0: 0, 40.5: 1, 41.0: 0, 42.0: 0, 43.0: 0, 44.0: 1, 45.0: 1, 45.5: 0, 46.0: 0, 47.0: 1, 48.0: 0, 49.0: 0, 50.0: 0, 51.0: 1, 52.0: 0, 53.0: 0, 54.0: 0, 55.0: 1, 56.0: 0, 57.0: 0, 58.0: 1, 59.0: 1, 60.0: 0, 61.0: 0, 62.0: 0, 63.0: 0, 64.0: 0, 65.0: 0, 66.0: 0, 70.0: 0, 70.5: 0, 71.0: 0, 74.0: 0}}\n"
     ]
    }
   ],
   "source": [
    "oner.fit(xd_train_new.to_numpy(),y_train)\n",
    "y_pred_new = oner.predict(xd_test_new.to_numpy())\n",
    "\n",
    "Accuracy = accuracy_score(y_test_new, y_pred_new)\n",
    "print(\"Accucy: \\n\", Accuracy)\n",
    "\n",
    "print(\"y_test_new \", y_test_new)\n",
    "print(\" \")\n",
    "print(\"y_pred_new \", y_pred_new)\n",
    "print(\" \")\n",
    "\n",
    "print(confusion_matrix(y_test_new, y_pred_new))\n",
    "\n",
    "print(\"feature: \", oner.feature_idx_)\n",
    "print(\" \")\n",
    "\n",
    "print(\"prediction_dict_: \", oner.prediction_dict_)"
   ]
  },
  {
   "cell_type": "code",
   "execution_count": null,
   "id": "included-bandwidth",
   "metadata": {},
   "outputs": [],
   "source": []
  }
 ],
 "metadata": {
  "kernelspec": {
   "display_name": "Python 3",
   "language": "python",
   "name": "python3"
  },
  "language_info": {
   "codemirror_mode": {
    "name": "ipython",
    "version": 3
   },
   "file_extension": ".py",
   "mimetype": "text/x-python",
   "name": "python",
   "nbconvert_exporter": "python",
   "pygments_lexer": "ipython3",
   "version": "3.7.9"
  }
 },
 "nbformat": 4,
 "nbformat_minor": 5
}
