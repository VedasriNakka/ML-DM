{
 "cells": [
  {
   "cell_type": "markdown",
   "id": "cooked-boards",
   "metadata": {},
   "source": [
    "### Week3 - ML&DM"
   ]
  },
  {
   "cell_type": "code",
   "execution_count": 1,
   "id": "unknown-guess",
   "metadata": {},
   "outputs": [],
   "source": [
    "import pandas as pd\n",
    "import numpy as np\n",
    "from mlxtend.classifier import OneRClassifier\n",
    "from sklearn import preprocessing\n",
    "from sklearn.model_selection import train_test_split\n",
    "from sklearn.metrics import accuracy_score\n",
    "from sklearn.metrics import confusion_matrix"
   ]
  },
  {
   "cell_type": "code",
   "execution_count": 2,
   "id": "informational-reduction",
   "metadata": {},
   "outputs": [
    {
     "name": "stdout",
     "output_type": "stream",
     "text": [
      "Number of rows in original data: 887\n",
      "\n",
      "Features present in dataset: \n",
      " Index(['Survived', 'Pclass', 'Name', 'Sex', 'Age', 'Siblings/Spouses Aboard',\n",
      "       'Parents/Children Aboard', 'Fare'],\n",
      "      dtype='object')\n",
      "   Survived  Pclass                                                Name  \\\n",
      "0         0       3                              Mr. Owen Harris Braund   \n",
      "1         1       1  Mrs. John Bradley (Florence Briggs Thayer) Cumings   \n",
      "2         1       3                               Miss. Laina Heikkinen   \n",
      "3         1       1         Mrs. Jacques Heath (Lily May Peel) Futrelle   \n",
      "4         0       3                             Mr. William Henry Allen   \n",
      "5         0       3                                     Mr. James Moran   \n",
      "6         0       1                              Mr. Timothy J McCarthy   \n",
      "7         0       3                       Master. Gosta Leonard Palsson   \n",
      "8         1       3    Mrs. Oscar W (Elisabeth Vilhelmina Berg) Johnson   \n",
      "9         1       2                  Mrs. Nicholas (Adele Achem) Nasser   \n",
      "\n",
      "      Sex   Age  Siblings/Spouses Aboard  Parents/Children Aboard     Fare  \n",
      "0    male  22.0                        1                        0   7.2500  \n",
      "1  female  38.0                        1                        0  71.2833  \n",
      "2  female  26.0                        0                        0   7.9250  \n",
      "3  female  35.0                        1                        0  53.1000  \n",
      "4    male  35.0                        0                        0   8.0500  \n",
      "5    male  27.0                        0                        0   8.4583  \n",
      "6    male  54.0                        0                        0  51.8625  \n",
      "7    male   2.0                        3                        1  21.0750  \n",
      "8  female  27.0                        0                        2  11.1333  \n",
      "9  female  14.0                        1                        0  30.0708  \n"
     ]
    }
   ],
   "source": [
    "# Load titanic dataset\n",
    "\n",
    "pd.set_option('display.max_colwidth',None)\n",
    "titanic = pd.read_csv('./titanic.csv')\n",
    "print(\"Number of rows in original data: {}\\n\".format(len(titanic.index)))\n",
    "print(\"Features present in dataset: \\n\", titanic.columns)\n",
    "print(titanic.head(10))"
   ]
  },
  {
   "cell_type": "markdown",
   "id": "technical-fence",
   "metadata": {},
   "source": [
    "### Problem 1: Q1. Default rule for the titanic Dataset"
   ]
  },
  {
   "cell_type": "code",
   "execution_count": 3,
   "id": "unlike-baptist",
   "metadata": {},
   "outputs": [
    {
     "name": "stdout",
     "output_type": "stream",
     "text": [
      "Total 342 of people survived, 545 number of people not survived \n",
      "\n",
      "Most of the people are not survived So, the Default rule for this dataset are survived people with total 545\n"
     ]
    }
   ],
   "source": [
    "survived_in_titanic = titanic.loc[titanic['Survived'] == 1]\n",
    "#print(len(survived_in_titanic))\n",
    "\n",
    "not_survived_in_titanic = titanic.loc[titanic['Survived'] == 0]\n",
    "#print(len(not_survived_in_titanic))\n",
    "\n",
    "print(\"Total {} of people survived, {} number of people not survived \\n\".format(len(survived_in_titanic),len(not_survived_in_titanic)))\n",
    "print(\"Most of the people are not survived So, the Default rule for this dataset are survived people with total {}\".format(len(not_survived_in_titanic)))"
   ]
  },
  {
   "cell_type": "markdown",
   "id": "cognitive-audience",
   "metadata": {},
   "source": [
    "### Q2. Best 1R for titanic Dataset"
   ]
  },
  {
   "cell_type": "code",
   "execution_count": 34,
   "id": "completed-nutrition",
   "metadata": {},
   "outputs": [
    {
     "data": {
      "text/html": [
       "<div>\n",
       "<style scoped>\n",
       "    .dataframe tbody tr th:only-of-type {\n",
       "        vertical-align: middle;\n",
       "    }\n",
       "\n",
       "    .dataframe tbody tr th {\n",
       "        vertical-align: top;\n",
       "    }\n",
       "\n",
       "    .dataframe thead th {\n",
       "        text-align: right;\n",
       "    }\n",
       "</style>\n",
       "<table border=\"1\" class=\"dataframe\">\n",
       "  <thead>\n",
       "    <tr style=\"text-align: right;\">\n",
       "      <th></th>\n",
       "      <th>Survived</th>\n",
       "      <th>Pclass</th>\n",
       "      <th>Name</th>\n",
       "      <th>Sex</th>\n",
       "      <th>Age</th>\n",
       "      <th>Siblings/Spouses Aboard</th>\n",
       "      <th>Parents/Children Aboard</th>\n",
       "      <th>Fare</th>\n",
       "    </tr>\n",
       "  </thead>\n",
       "  <tbody>\n",
       "    <tr>\n",
       "      <th>count</th>\n",
       "      <td>887.000000</td>\n",
       "      <td>887.000000</td>\n",
       "      <td>887</td>\n",
       "      <td>887</td>\n",
       "      <td>887.000000</td>\n",
       "      <td>887.000000</td>\n",
       "      <td>887.000000</td>\n",
       "      <td>887.00000</td>\n",
       "    </tr>\n",
       "    <tr>\n",
       "      <th>unique</th>\n",
       "      <td>NaN</td>\n",
       "      <td>NaN</td>\n",
       "      <td>887</td>\n",
       "      <td>2</td>\n",
       "      <td>NaN</td>\n",
       "      <td>NaN</td>\n",
       "      <td>NaN</td>\n",
       "      <td>NaN</td>\n",
       "    </tr>\n",
       "    <tr>\n",
       "      <th>top</th>\n",
       "      <td>NaN</td>\n",
       "      <td>NaN</td>\n",
       "      <td>Mr. Thomas Leonard Theobald</td>\n",
       "      <td>male</td>\n",
       "      <td>NaN</td>\n",
       "      <td>NaN</td>\n",
       "      <td>NaN</td>\n",
       "      <td>NaN</td>\n",
       "    </tr>\n",
       "    <tr>\n",
       "      <th>freq</th>\n",
       "      <td>NaN</td>\n",
       "      <td>NaN</td>\n",
       "      <td>1</td>\n",
       "      <td>573</td>\n",
       "      <td>NaN</td>\n",
       "      <td>NaN</td>\n",
       "      <td>NaN</td>\n",
       "      <td>NaN</td>\n",
       "    </tr>\n",
       "    <tr>\n",
       "      <th>mean</th>\n",
       "      <td>0.385569</td>\n",
       "      <td>2.305524</td>\n",
       "      <td>NaN</td>\n",
       "      <td>NaN</td>\n",
       "      <td>29.471443</td>\n",
       "      <td>0.525366</td>\n",
       "      <td>0.383315</td>\n",
       "      <td>32.30542</td>\n",
       "    </tr>\n",
       "    <tr>\n",
       "      <th>std</th>\n",
       "      <td>0.487004</td>\n",
       "      <td>0.836662</td>\n",
       "      <td>NaN</td>\n",
       "      <td>NaN</td>\n",
       "      <td>14.121908</td>\n",
       "      <td>1.104669</td>\n",
       "      <td>0.807466</td>\n",
       "      <td>49.78204</td>\n",
       "    </tr>\n",
       "    <tr>\n",
       "      <th>min</th>\n",
       "      <td>0.000000</td>\n",
       "      <td>1.000000</td>\n",
       "      <td>NaN</td>\n",
       "      <td>NaN</td>\n",
       "      <td>0.420000</td>\n",
       "      <td>0.000000</td>\n",
       "      <td>0.000000</td>\n",
       "      <td>0.00000</td>\n",
       "    </tr>\n",
       "    <tr>\n",
       "      <th>25%</th>\n",
       "      <td>0.000000</td>\n",
       "      <td>2.000000</td>\n",
       "      <td>NaN</td>\n",
       "      <td>NaN</td>\n",
       "      <td>20.250000</td>\n",
       "      <td>0.000000</td>\n",
       "      <td>0.000000</td>\n",
       "      <td>7.92500</td>\n",
       "    </tr>\n",
       "    <tr>\n",
       "      <th>50%</th>\n",
       "      <td>0.000000</td>\n",
       "      <td>3.000000</td>\n",
       "      <td>NaN</td>\n",
       "      <td>NaN</td>\n",
       "      <td>28.000000</td>\n",
       "      <td>0.000000</td>\n",
       "      <td>0.000000</td>\n",
       "      <td>14.45420</td>\n",
       "    </tr>\n",
       "    <tr>\n",
       "      <th>75%</th>\n",
       "      <td>1.000000</td>\n",
       "      <td>3.000000</td>\n",
       "      <td>NaN</td>\n",
       "      <td>NaN</td>\n",
       "      <td>38.000000</td>\n",
       "      <td>1.000000</td>\n",
       "      <td>0.000000</td>\n",
       "      <td>31.13750</td>\n",
       "    </tr>\n",
       "    <tr>\n",
       "      <th>max</th>\n",
       "      <td>1.000000</td>\n",
       "      <td>3.000000</td>\n",
       "      <td>NaN</td>\n",
       "      <td>NaN</td>\n",
       "      <td>80.000000</td>\n",
       "      <td>8.000000</td>\n",
       "      <td>6.000000</td>\n",
       "      <td>512.32920</td>\n",
       "    </tr>\n",
       "  </tbody>\n",
       "</table>\n",
       "</div>"
      ],
      "text/plain": [
       "          Survived      Pclass                         Name   Sex         Age  \\\n",
       "count   887.000000  887.000000                          887   887  887.000000   \n",
       "unique         NaN         NaN                          887     2         NaN   \n",
       "top            NaN         NaN  Mr. Thomas Leonard Theobald  male         NaN   \n",
       "freq           NaN         NaN                            1   573         NaN   \n",
       "mean      0.385569    2.305524                          NaN   NaN   29.471443   \n",
       "std       0.487004    0.836662                          NaN   NaN   14.121908   \n",
       "min       0.000000    1.000000                          NaN   NaN    0.420000   \n",
       "25%       0.000000    2.000000                          NaN   NaN   20.250000   \n",
       "50%       0.000000    3.000000                          NaN   NaN   28.000000   \n",
       "75%       1.000000    3.000000                          NaN   NaN   38.000000   \n",
       "max       1.000000    3.000000                          NaN   NaN   80.000000   \n",
       "\n",
       "        Siblings/Spouses Aboard  Parents/Children Aboard       Fare  \n",
       "count                887.000000               887.000000  887.00000  \n",
       "unique                      NaN                      NaN        NaN  \n",
       "top                         NaN                      NaN        NaN  \n",
       "freq                        NaN                      NaN        NaN  \n",
       "mean                   0.525366                 0.383315   32.30542  \n",
       "std                    1.104669                 0.807466   49.78204  \n",
       "min                    0.000000                 0.000000    0.00000  \n",
       "25%                    0.000000                 0.000000    7.92500  \n",
       "50%                    0.000000                 0.000000   14.45420  \n",
       "75%                    1.000000                 0.000000   31.13750  \n",
       "max                    8.000000                 6.000000  512.32920  "
      ]
     },
     "execution_count": 34,
     "metadata": {},
     "output_type": "execute_result"
    }
   ],
   "source": [
    "titanic.describe(include='all')"
   ]
  },
  {
   "cell_type": "code",
   "execution_count": 5,
   "id": "strategic-korea",
   "metadata": {},
   "outputs": [
    {
     "name": "stdout",
     "output_type": "stream",
     "text": [
      "     Survived  Pclass                               Name     Sex  Age  \\\n",
      "809         0       3  Miss. Ebba Iris Alfrida Andersson  female  6.0   \n",
      "\n",
      "     Siblings/Spouses Aboard  Parents/Children Aboard    Fare  \n",
      "809                        4                        2  31.275  \n"
     ]
    }
   ],
   "source": [
    "print(titanic.loc[titanic['Name'] == 'Miss. Ebba Iris Alfrida Andersson'])"
   ]
  },
  {
   "cell_type": "code",
   "execution_count": 6,
   "id": "mental-checklist",
   "metadata": {},
   "outputs": [],
   "source": [
    "le = preprocessing.LabelEncoder()\n",
    "x_d = titanic[[\"Pclass\",\"Name\",\"Sex\",\"Age\",\"Siblings/Spouses Aboard\",\"Parents/Children Aboard\",\"Fare\"]]\n",
    "y = le.fit(titanic[\"Survived\"])\n",
    "y = le.transform(titanic[\"Survived\"])"
   ]
  },
  {
   "cell_type": "code",
   "execution_count": 30,
   "id": "olympic-tonight",
   "metadata": {},
   "outputs": [
    {
     "name": "stdout",
     "output_type": "stream",
     "text": [
      "     Pclass                                                      Name     Sex  \\\n",
      "48        3              Mrs. Josef (Josefine Franchi) Arnold-Franchi  female   \n",
      "701       3                                    Mr. Henrik Juul Hansen    male   \n",
      "880       3                                     Mr. Henry Jr Sutehall    male   \n",
      "481       1                                    Mr. Dickinson H Bishop    male   \n",
      "747       3                                        Master. Meier Moor    male   \n",
      "..      ...                                                       ...     ...   \n",
      "141       3       Mrs. Pekka Pietari (Elin Matilda Dolck) Hakkarainen  female   \n",
      "259       3                          Master. Edvin Rojj Felix Asplund    male   \n",
      "314       2                        Mrs. Sinai (Miriam Sternin) Kantor  female   \n",
      "25        3  Mrs. Carl Oscar (Selma Augusta Emilia Johansson) Asplund  female   \n",
      "208       1                                           Mr. Henry Blank    male   \n",
      "\n",
      "      Age  Siblings/Spouses Aboard  Parents/Children Aboard     Fare  \n",
      "48   18.0                        1                        0  17.8000  \n",
      "701  26.0                        1                        0   7.8542  \n",
      "880  25.0                        0                        0   7.0500  \n",
      "481  25.0                        1                        0  91.0792  \n",
      "747   6.0                        0                        1  12.4750  \n",
      "..    ...                      ...                      ...      ...  \n",
      "141  24.0                        1                        0  15.8500  \n",
      "259   3.0                        4                        2  31.3875  \n",
      "314  24.0                        1                        0  26.0000  \n",
      "25   38.0                        1                        5  31.3875  \n",
      "208  40.0                        0                        0  31.0000  \n",
      "\n",
      "[709 rows x 7 columns]\n",
      "y_train [0 0 0 1 1 1 1 0 0 0 1 0 0 0 1 1 0 0 0 0 0 1 0 0 0 0 0 0 0 0 1 1 0 0 0 0 1\n",
      " 0 0 0 0 1 0 0 0 0 1 0 0 0 1 0 1 0 1 0 1 0 1 0 1 0 0 1 1 0 1 0 1 1 1 1 0 1\n",
      " 0 1 0 0 1 0 0 0 0 1 0 1 1 0 0 0 0 0 1 0 0 0 0 0 1 0 1 0 0 1 0 0 1 1 0 0 1\n",
      " 0 1 1 1 0 0 0 0 0 0 0 0 1 0 0 0 0 1 0 0 1 0 1 1 0 1 0 1 1 0 0 1 1 0 1 0 0\n",
      " 1 1 1 0 0 1 0 0 0 0 1 1 1 1 1 0 1 1 0 0 1 0 1 0 0 0 1 0 0 0 1 1 0 1 0 0 0\n",
      " 1 1 0 1 0 0 0 0 0 0 0 0 0 0 0 0 0 0 1 0 0 0 0 0 0 0 0 1 0 1 0 0 0 1 0 0 1\n",
      " 1 0 0 0 0 0 0 0 1 0 0 1 1 0 0 1 0 1 0 1 0 0 0 0 0 1 0 0 0 1 0 1 0 1 0 0 0\n",
      " 1 0 0 0 0 0 1 0 1 0 1 1 0 0 1 0 0 0 0 1 1 1 1 0 0 1 0 0 0 0 0 0 0 1 1 0 1\n",
      " 0 0 0 1 0 0 0 0 1 0 0 0 0 0 0 1 0 0 0 0 0 1 1 1 0 0 1 1 0 0 0 0 0 0 1 0 0\n",
      " 1 0 0 1 0 1 0 1 0 0 0 0 0 0 1 1 0 0 0 1 0 0 0 0 0 1 1 1 1 1 1 1 0 1 1 0 0\n",
      " 0 1 0 1 0 1 1 0 1 1 0 1 0 1 1 1 1 0 1 0 1 0 1 0 0 0 0 1 0 0 0 0 0 0 0 1 0\n",
      " 1 1 0 0 0 0 0 0 1 0 0 0 1 0 0 0 0 0 1 0 1 0 0 0 0 1 1 1 0 1 1 0 1 0 1 0 1\n",
      " 0 0 0 0 0 1 1 0 0 1 1 0 1 1 0 0 1 0 0 1 0 1 0 1 0 1 0 1 1 0 0 0 0 1 1 1 1\n",
      " 0 0 1 0 0 0 1 0 0 0 1 0 0 0 1 0 0 1 0 1 1 0 0 0 0 0 0 0 0 0 1 1 1 1 1 1 0\n",
      " 1 1 1 0 0 0 0 0 0 1 1 0 0 0 0 0 1 1 0 0 0 0 0 1 0 1 1 1 0 0 1 1 0 1 0 1 0\n",
      " 0 0 0 0 0 0 1 0 1 1 0 1 1 0 0 1 0 0 0 0 1 1 1 0 0 0 0 0 1 1 1 0 0 1 0 0 0\n",
      " 1 0 0 0 0 0 0 0 0 0 0 1 0 0 0 0 1 1 1 0 1 1 0 0 1 1 0 0 1 0 0 1 1 0 0 1 0\n",
      " 1 1 1 1 0 0 0 1 0 0 0 1 0 1 0 0 0 0 1 0 0 1 1 0 0 1 1 1 0 1 1 0 1 0 0 1 1\n",
      " 0 0 0 1 1 1 1 0 1 0 0 0 0 1 0 1 1 0 0 0 1 1 0 0 0 1 0 0 1 1 0 0 0 1 1 0 0\n",
      " 0 1 1 1 1 1]\n",
      "xd_test      Pclass                                            Name     Sex   Age  \\\n",
      "694       3                         Miss. Katherine Mullens  female  19.0   \n",
      "115       3                             Mr. Patrick Connors    male  70.5   \n",
      "520       1  Mrs. Louis Albert (Ida Sophia Fischer) Hippach  female  44.0   \n",
      "584       1                 Mr. Maxmillian Frolicher-Stehli    male  60.0   \n",
      "639       3                    Miss. Margit Elizabeth Skoog  female   2.0   \n",
      "..      ...                                             ...     ...   ...   \n",
      "473       2                          Mr. Peter Henry Renouf    male  34.0   \n",
      "692       2                       Mr. Charles Henry Chapman    male  52.0   \n",
      "599       1                        Mr. Charles H Harrington    male  37.0   \n",
      "604       1                      Mr. Robert Williams Daniel    male  27.0   \n",
      "794       3                     Mr. Yousseff Ibrahim Shawah    male  30.0   \n",
      "\n",
      "     Siblings/Spouses Aboard  Parents/Children Aboard     Fare  \n",
      "694                        0                        0   7.7333  \n",
      "115                        0                        0   7.7500  \n",
      "520                        0                        1  57.9792  \n",
      "584                        1                        1  79.2000  \n",
      "639                        3                        2  27.9000  \n",
      "..                       ...                      ...      ...  \n",
      "473                        1                        0  21.0000  \n",
      "692                        0                        0  13.5000  \n",
      "599                        0                        0  42.4000  \n",
      "604                        0                        0  30.5000  \n",
      "794                        0                        0   7.2292  \n",
      "\n",
      "[178 rows x 7 columns]\n"
     ]
    }
   ],
   "source": [
    "\n",
    "xd_train, xd_test, y_train, y_test = train_test_split(x_d, y, test_size = 0.20)\n",
    "print(xd_train)\n",
    "print(\"y_train\", y_train)\n",
    "#print(\"xd_test\", xd_test)"
   ]
  },
  {
   "cell_type": "code",
   "execution_count": 8,
   "id": "temporal-dimension",
   "metadata": {},
   "outputs": [
    {
     "name": "stdout",
     "output_type": "stream",
     "text": [
      "Accucy:  0.550561797752809\n"
     ]
    }
   ],
   "source": [
    "\n",
    "oner = OneRClassifier()\n",
    "oner.fit(xd_train.to_numpy(),y_train)\n",
    "y_pred = oner.predict(xd_test.to_numpy())\n",
    "\n",
    "accuracy = accuracy_score(y_test, y_pred)\n",
    "print(\"Accucy: \", accuracy)\n"
   ]
  },
  {
   "cell_type": "code",
   "execution_count": 9,
   "id": "fabulous-germany",
   "metadata": {},
   "outputs": [
    {
     "name": "stdout",
     "output_type": "stream",
     "text": [
      "[1 1 1 1 0 1 0 1 1 1 1 0 0 1 0 0 0 1 0 0 0 1 0 1 1 0 0 1 0 0 1 1 1 0 0 1 0\n",
      " 0 1 0 1 1 0 1 0 0 0 0 1 1 0 0 0 0 0 0 0 0 0 0 0 0 1 1 1 1 0 0 0 1 1 1 0 0\n",
      " 0 1 1 1 0 0 0 1 0 0 0 1 0 1 0 1 0 1 1 0 0 1 1 1 0 0 1 0 0 0 0 1 0 0 1 1 0\n",
      " 0 1 1 0 1 0 0 0 1 0 0 1 1 1 0 0 1 1 1 0 1 1 0 0 0 1 1 0 0 1 1 0 1 1 0 0 0\n",
      " 0 1 1 0 0 1 1 1 1 0 0 0 1 0 1 0 0 1 0 1 0 0 0 0 1 0 1 1 0 1]\n",
      "[0 0 0 0 0 0 0 0 0 0 0 0 0 0 0 0 0 0 0 0 0 0 0 0 0 0 0 0 0 0 0 0 0 0 0 0 0\n",
      " 0 0 0 0 0 0 0 0 0 0 0 0 0 0 0 0 0 0 0 0 0 0 0 0 0 0 0 0 0 0 0 0 0 0 0 0 0\n",
      " 0 0 0 0 0 0 0 0 0 0 0 0 0 0 0 0 0 0 0 0 0 0 0 0 0 0 0 0 0 0 0 0 0 0 0 0 0\n",
      " 0 0 0 0 0 0 0 0 0 0 0 0 0 0 0 0 0 0 0 0 0 0 0 0 0 0 0 0 0 0 0 0 0 0 0 0 0\n",
      " 0 0 0 0 0 0 0 0 0 0 0 0 0 0 0 0 0 0 0 0 0 0 0 0 0 0 0 0 0 0]\n",
      "[[98  0]\n",
      " [80  0]]\n"
     ]
    }
   ],
   "source": [
    "print(y_test)\n",
    "print(y_pred)\n",
    "\n",
    "print(confusion_matrix(y_test, y_pred))"
   ]
  },
  {
   "cell_type": "code",
   "execution_count": 10,
   "id": "guilty-career",
   "metadata": {},
   "outputs": [
    {
     "name": "stdout",
     "output_type": "stream",
     "text": [
      "feature:  1\n"
     ]
    }
   ],
   "source": [
    "print(\"feature: \", oner.feature_idx_)"
   ]
  },
  {
   "cell_type": "code",
   "execution_count": 11,
   "id": "fatty-representation",
   "metadata": {},
   "outputs": [
    {
     "name": "stdout",
     "output_type": "stream",
     "text": [
      "prediction_dict_:  {'total error': 0, 'rules (value: class)': {'Capt. Edward Gifford Crosby': 0, 'Don. Manuel E Uruchurtu': 0, 'Dr. Alfred Pain': 0, 'Dr. Alice (Farnham) Leader': 1, 'Dr. Ernest Moraweck': 0, 'Dr. Henry William Frauenthal': 1, 'Jonkheer. John George Reuchlin': 0, 'Lady. (Lucille Christiana Sutherland)Duff Gordon': 1, 'Major. Arthur Godfrey Peuchen': 1, 'Master. Alden Gates Caldwell': 1, 'Master. Arthur Rice': 0, 'Master. Assad Alexander Thomas': 1, 'Master. Bertram Vere Dean': 1, 'Master. Clarence Gustaf Hugo Asplund': 0, 'Master. Eden Leslie Coutts': 1, 'Master. Edmond Roger Navratil': 1, 'Master. Edvin Rojj Felix Asplund': 1, 'Master. Eino Viljami Panula': 0, 'Master. Elias Nicola-Yarred': 1, 'Master. Halim Gonios Moubarek': 1, 'Master. Harald Skoog': 0, 'Master. Harold Theodor Johnson': 1, 'Master. Harold Victor Goodwin': 0, 'Master. Hudson Trevor Allison': 1, 'Master. John Morgan Jr Davies': 1, 'Master. Juha Niilo Panula': 0, 'Master. Karl Thorsten Skoog': 0, 'Master. Meier Moor': 1, 'Master. Sidney Leonard Goodwin': 0, 'Master. Sigvard Harald Elias Andersson': 0, 'Master. Thomas Henry Sage': 0, 'Master. Urho Abraham Panula': 0, 'Master. Washington Dodge': 1, 'Master. William Frederick Goodwin': 0, 'Master. William Loch Coutts': 1, 'Master. William Thornton II Carter': 1, 'Miss. (Marion Ogden) Meanwell': 0, 'Miss. Adele Kiamie Najib': 1, 'Miss. Agda Thorilda Viktoria Lindahl': 0, 'Miss. Albina Bazzani': 1, 'Miss. Alice Cleaver': 1, 'Miss. Alice Elizabeth Fortune': 1, 'Miss. Alice Herman': 1, 'Miss. Alice Phoebe Harknett': 0, 'Miss. Aloisia Haas': 0, 'Miss. Amelia Bissette': 1, 'Miss. Amelia Brown': 1, 'Miss. Amelie Icard': 1, 'Miss. Amy Zillah Elsie Stanley': 1, 'Miss. Ann Elizabeth Isham': 0, 'Miss. Anna Katherine Kelly': 1, 'Miss. Anna Kristine Salkjelsvik': 1, 'Miss. Anna McGowan': 1, 'Miss. Anna Peter': 1, 'Miss. Anna Sinkkonen': 1, 'Miss. Anna Sofia Nysten': 1, 'Miss. Anna Sofia Turja': 1, 'Miss. Anna Ward': 1, 'Miss. Anne Perreault': 1, 'Miss. Annie Jermyn': 1, 'Miss. Annie Jessie Harper': 1, 'Miss. Asuncion Duran y More': 1, 'Miss. Augusta Maria Vander Planke': 0, 'Miss. Augusta Serepeca': 1, 'Miss. Banoura Ayoub': 1, \"Miss. Bridget Mary O'Sullivan\": 0, \"Miss. Bridget O'Driscoll\": 1, 'Miss. Brigdet Delia McDermott': 1, 'Miss. Carla Christine Nielsine Andersen-Jensen': 1, 'Miss. Caroline Louise Endres': 1, 'Miss. Catherine Helen Johnston': 0, 'Miss. Clear Annie Cameron': 1, 'Miss. Constance Gladys Sage': 0, 'Miss. Daisy E Minahan': 1, 'Miss. Delia Henry': 0, 'Miss. Doolina Margaret Ford': 0, 'Miss. Dorothy Edith Sage': 0, 'Miss. Ebba Iris Alfrida Andersson': 0, 'Miss. Eleanor Ileen Johnson': 1, 'Miss. Elina Olsson': 0, 'Miss. Elisabeth Walton Allen': 1, 'Miss. Elise Lurette': 1, 'Miss. Elizabeth Bonnell': 1, 'Miss. Elizabeth Dowdell': 1, 'Miss. Elizabeth Mussey Eustis': 1, 'Miss. Elizabeth W Shutes': 1, 'Miss. Ellen Barber': 1, 'Miss. Ellen Natalia Pettersson': 0, \"Miss. Ellen O'Dwyer\": 1, 'Miss. Ellen Toomey': 1, 'Miss. Ellis Anna Maria Andersson': 0, 'Miss. Elsie Edith Bowerman': 1, 'Miss. Eugenie Baclini': 1, 'Miss. Eva Miriam Hart': 1, 'Miss. Georgette Alexandra Madill': 1, 'Miss. Gretchen Fiske Longley': 1, 'Miss. Hanora Hegarty': 0, \"Miss. Hanora O'Leary\": 1, 'Miss. Harriet R Crosby': 1, 'Miss. Hedwig Margaritha Frolicher': 1, 'Miss. Helen Carr': 1, 'Miss. Helen Loraine Allison': 0, 'Miss. Helen Mary Mockler': 1, 'Miss. Helmina Josefina Nilsson': 1, 'Miss. Henriette Yrois': 0, 'Miss. Hilda Mary Slayter': 1, 'Miss. Hileni Zabour': 0, 'Miss. Hulda Amanda Adolfina Vestrom': 0, 'Miss. Ida Lefebre': 0, 'Miss. Ingeborg Constanzia Andersson': 0, 'Miss. Jean Gertrude Hippach': 1, 'Miss. Jeannie Lefebre': 0, 'Miss. Joan Wells': 1, 'Miss. Kate Buss': 1, 'Miss. Kate Connolly': 1, 'Miss. Katherine Mullens': 1, 'Miss. Katherine Murphy': 1, 'Miss. Katie Peters': 0, 'Miss. Katriina Jussila': 0, 'Miss. Kristina Sofia Laitinen': 0, 'Miss. Laura Mabel Francatelli': 1, 'Miss. Lillian Amy Goodwin': 0, 'Miss. Lucy Ridsdale': 1, 'Miss. Lyyli Karoliina Silven': 1, 'Miss. Mabel Helen Fortune': 1, 'Miss. Mabel Skoog': 0, 'Miss. Madeleine Newell': 1, 'Miss. Madeleine Violet Mellinger': 1, 'Miss. Malake Attalah': 0, 'Miss. Margaret Bechstein Hays': 1, 'Miss. Margaret Delia Devaney': 1, 'Miss. Margaret Edith Graham': 1, 'Miss. Margaret Fleming': 1, 'Miss. Margaret Jane Murphy': 1, 'Miss. Margaret Madigan': 1, 'Miss. Margareth Mannion': 1, 'Miss. Margit Elizabeth Skoog': 0, 'Miss. Mari Aina Jussila': 0, 'Miss. Maria Nakid': 1, 'Miss. Marie Grice Young': 1, 'Miss. Marija Cacic': 0, 'Miss. Marija Oreskovic': 0, 'Miss. Marion Elsie Smith': 1, 'Miss. Marion Louise Becker': 1, 'Miss. Marjorie Collyer': 1, 'Miss. Marjorie Newell': 1, 'Miss. Mary Agatha Glynn': 1, 'Miss. Mary Bourke': 0, 'Miss. Mary Canavan': 0, 'Miss. Mary Davis': 1, 'Miss. Mary Kelly': 1, 'Miss. Mary Mangan': 0, 'Miss. Mary McGovern': 1, 'Miss. Mary Natalie Wick': 1, 'Miss. Mathilde Lefebre': 0, 'Miss. Matilda Petranec': 0, 'Miss. Nourelain Boulos': 0, 'Miss. Phyllis May Quick': 1, 'Miss. Roberta Maioni': 1, 'Miss. Robina Maggie Ford': 0, 'Miss. Rosalie Bidois': 1, 'Miss. Ruth Taussig': 1, 'Miss. Saiide Barbara': 0, 'Miss. Sigrid Elisabeth Andersson': 0, 'Miss. Simonne Marie Anne Andree Laroche': 1, 'Miss. Stella Anna Sage': 0, 'Miss. Stina Viola Palsson': 0, 'Miss. Susan Parker Ryerson': 1, 'Miss. Susan Webber': 1, 'Miss. Thamine Zabour': 0, 'Miss. Torborg Danira Palsson': 0, 'Miss. Velin Ohman': 1, 'Miss. Wendla Maria Heininen': 0, 'Mlle. Berthe Antonine Mayne': 1, 'Mlle. Emma Sagesser': 1, 'Mme. Leontine Pauline Aubart': 1, 'Mr. Abraham (David Lishin) Harmer': 0, 'Mr. Achille Waelens': 0, 'Mr. Adola Asim': 0, 'Mr. Adolf Mathias Nicolai Olsen Humblen': 0, 'Mr. Adolphe Saalfeld': 1, 'Mr. Ahmed Ali': 0, 'Mr. Albert A Stewart': 0, 'Mr. Albert Adrian Dick': 1, 'Mr. Albert Augustsson': 0, 'Mr. Alexander Cairns': 0, 'Mr. Alexander Oskar Holverson': 0, 'Mr. Alfons de Pelsmaeker': 0, 'Mr. Alfred Gaskell': 0, 'Mr. Alfred George John Rush': 0, 'Mr. Alfred J Davies': 0, 'Mr. Alfred Johnson': 0, 'Mr. Alfred Ossian Gustafsson': 0, 'Mr. Algernon Henry Wilson Barkworth': 1, 'Mr. Ali Lam': 1, 'Mr. Ambrose Jr Hood': 0, 'Mr. Anders Johan Andersson': 0, 'Mr. Anders Vilhelm Gustafsson': 0, 'Mr. Andrew G Johnston': 0, 'Mr. Andrew Keane': 0, 'Mr. Anthony Abbing': 0, 'Mr. Anthony Wood Frost': 0, 'Mr. Antoni Yasbeck': 0, 'Mr. Apostolos Chronopoulos': 0, 'Mr. Arthur H Gee': 0, 'Mr. Arthur Keefe': 0, 'Mr. Arthur Webster Newell': 0, 'Mr. August Meyer': 0, 'Mr. August Sigfrid Carlsson': 0, 'Mr. August Viktor Larsson': 0, 'Mr. Austen Partner': 0, 'Mr. Austin Blyler van Billiard': 0, 'Mr. Bengt Edvin Larsson': 0, 'Mr. Benjamin Laventall Foreman': 0, 'Mr. Berk (Berk Trembisky) Pickard': 1, 'Mr. Bernard McCoy': 1, 'Mr. Bernt Johannesen-Bratthammer': 1, 'Mr. Bertram Frank Dean': 0, 'Mr. Branko Dakic': 0, 'Mr. Carl Jonsson': 1, 'Mr. Carl Olof Jansson': 1, 'Mr. Carl/Charles Peter Widegren': 0, 'Mr. Cerin Balkic': 0, 'Mr. Charles Alexander Fortune': 0, 'Mr. Charles Duane Williams': 0, 'Mr. Charles Edward Goodwin': 0, 'Mr. Charles Eugene Williams': 1, 'Mr. Charles Frederick Waddington Sedgwick': 0, 'Mr. Charles H Harrington': 0, 'Mr. Charles H Natsch': 0, 'Mr. Charles Hallace Romaine': 1, 'Mr. Charles Henry Davies': 0, 'Mr. Charles Joseph Shorney': 0, 'Mr. Charles Wilhelms': 1, 'Mr. Christo Nenkoff': 0, 'Mr. Claus Peter Hansen': 0, 'Mr. Daniel Coxon': 0, 'Mr. Daniel Danielsen Gronnestad': 0, 'Mr. Daniel J Moran': 0, 'Mr. Daniel Warner Marvin': 0, 'Mr. David Charters': 0, 'Mr. David Reeves': 0, 'Mr. Denis Lennon': 0, 'Mr. Dibo Elias': 0, 'Mr. Dickinson H Bishop': 1, 'Mr. Domingos Fernandeo Coelho': 0, 'Mr. Douglas Bullen Sage': 0, 'Mr. Eberhard Thelander Fischer': 0, 'Mr. Edgar Joseph Meyer': 0, 'Mr. Edgardo Samuel Andrew': 0, 'Mr. Edvard Pekoniemi': 0, 'Mr. Edward Austin Kent': 0, 'Mr. Edward Beane': 1, 'Mr. Edward H Wheadon': 0, 'Mr. Edward Pennington Calderhead': 1, 'Mr. Edward Pomeroy Colley': 0, 'Mr. Edward Roland Stanley': 0, 'Mr. Edward Willey': 0, 'Mr. Edwin Nelson Jr Kimball': 1, 'Mr. Edwy Arthur West': 0, 'Mr. Einar Windelov': 0, 'Mr. Eino William Lindqvist': 1, 'Mr. Eiriik Jussila': 1, 'Mr. Eliezer Gilinski': 0, 'Mr. Elmer Zebley Taylor': 1, 'Mr. Emil Christmann': 0, 'Mr. Emil Taussig': 0, 'Mr. Emile Richard': 0, 'Mr. Engelhart Cornelius Ostby': 0, 'Mr. Ennis Hastings Watson': 0, 'Mr. Erik Gustaf Collander': 0, 'Mr. Erik Johansson': 0, 'Mr. Ernest Charles Cann': 0, 'Mr. Ernest James Crease': 0, 'Mr. Ernest Portage Tomlin': 0, 'Mr. Ernst Gilbert Danbom': 0, 'Mr. Ernst Ulrik Persson': 1, 'Mr. Ernst William Torber': 0, 'Mr. Ervin G Lewy': 0, 'Mr. Eugene Patrick Daly': 1, 'Mr. Fahim Leeni': 1, 'Mr. Fang Lang': 1, 'Mr. Farred Chehab Emir': 0, 'Mr. Fletcher Fellows Williams-Lambert': 0, 'Mr. Francesco Celotti': 0, 'Mr. Francis Davis Millet': 0, 'Mr. Francis Parkes': 0, 'Mr. Francis William Somerton': 0, 'Mr. Francisco M Carrau': 0, 'Mr. Frank Duane': 0, 'Mr. Frans Olof Carlsson': 0, 'Mr. Frederic Kimber Seward': 1, 'Mr. Frederick Charles Sawyer': 0, 'Mr. Frederick Edward Giles': 0, 'Mr. Frederick James Banfield': 0, 'Mr. Frederick Maxfield Hoyt': 1, 'Mr. Frederick Sage': 0, 'Mr. Frederick William Pengelly': 0, 'Mr. Frederick William Shellard': 0, 'Mr. George Achilles Harder': 1, 'Mr. George B Goldschmidt': 0, 'Mr. George Bradley': 1, 'Mr. George Edward Graham': 0, 'Mr. George Harris': 1, 'Mr. George Henry Green': 0, 'Mr. George John Jr Sage': 0, 'Mr. George Patchett': 0, 'Mr. George Wright': 0, 'Mr. Gerious Youseff': 0, 'Mr. Gerious Yousseff': 0, 'Mr. Guentcho Bostandyeff': 0, 'Mr. Gurshon Cohen': 1, 'Mr. Gustaf Hjalmar Edvardsson': 0, 'Mr. Gustaf Joel Johansson': 0, 'Mr. Gustave J Lesurer': 1, 'Mr. Hammad Hassab': 1, 'Mr. Hanna Assi Barah': 1, 'Mr. Hanna Boulos': 0, 'Mr. Hanna Mamee': 1, 'Mr. Hans Linus Eklund': 0, 'Mr. Hans Martin Monsen Birkeland': 0, 'Mr. Hans Peder Jensen': 0, 'Mr. Harry Anderson': 1, 'Mr. Harry Corn': 0, 'Mr. Harry Elkins Widener': 0, 'Mr. Harry Homer': 1, 'Mr. Harry Markland Molson': 0, 'Mr. Henrik Juul Hansen': 0, 'Mr. Henry Birkhardt Harris': 0, 'Mr. Henry Damsgaard Hansen': 0, 'Mr. Henry Hart': 0, 'Mr. Henry Jr Sutehall': 0, 'Mr. Henry Margido Olsen': 0, 'Mr. Henry Michael Mitchell': 0, 'Mr. Henry Samuel Morley': 0, 'Mr. Henry Sleeper Harper': 1, 'Mr. Herbert Fuller Chaffee': 0, 'Mr. Herman Klaber': 0, 'Mr. Houssein G N Hassan': 0, 'Mr. Howard Hugh Williams': 0, 'Mr. Hugh Woolner': 1, 'Mr. Husein Sivic': 0, 'Mr. Ignjac Hendekovic': 0, 'Mr. Iisakki Antino Aijo Nirva': 0, 'Mr. Ilia Stoytcheff': 0, 'Mr. Ilmari Rudolf Alhomaki': 0, 'Mr. Ivan Jalsevac': 1, 'Mr. Ivan Mineff': 0, 'Mr. Ivan Stankovic': 0, 'Mr. Jaako Arnold Panula': 0, 'Mr. Jacob Christian Milling': 0, 'Mr. Jacob Cook': 0, 'Mr. Jacques Heath Futrelle': 0, 'Mr. Jakob Alfred Johanson': 0, 'Mr. Jakob Alfred Wiklund': 0, 'Mr. Jakob Pasic': 0, 'Mr. James Clinch Smith': 0, 'Mr. James Farrell': 0, 'Mr. James Flynn': 0, 'Mr. James George Reed': 0, 'Mr. James H Bracken': 0, 'Mr. James Kelly': 0, 'Mr. James Lester': 0, 'Mr. James Moran': 0, 'Mr. James Robert McGough': 1, 'Mr. James Webber': 0, 'Mr. Jan Baptist Sheerlinck': 1, 'Mr. Jeremiah Burke': 0, 'Mr. Jeso Culumovic': 0, 'Mr. Johan Birger Gustafsson': 0, 'Mr. Johan Ekstrom': 0, 'Mr. Johan Emil Petterson': 0, 'Mr. Johan Hansen Nysveen': 0, 'Mr. Johan Henrik Johannesson Kvillner': 0, 'Mr. Johan Julian Sundman': 1, 'Mr. Johan Svensson Lundahl': 0, 'Mr. Johan Werner Salonen': 0, 'Mr. Johann Markun': 0, 'Mr. Johannes Halvorsen Kalvik': 0, 'Mr. Johannes Joseph Vande Velde': 0, 'Mr. John Adams': 0, 'Mr. John Borland Jr Thayer': 1, 'Mr. John Borland Thayer': 0, 'Mr. John D Baumann': 0, 'Mr. John Denzil Jarvis': 0, 'Mr. John Flynn': 0, 'Mr. John Fredrik Alexander Holm': 0, 'Mr. John Garfirth': 0, 'Mr. John Henry Chapman': 0, 'Mr. John Henry Perkin': 0, 'Mr. John Horgan': 0, 'Mr. John Hugo Ross': 0, 'Mr. John Irwin Flynn': 1, 'Mr. John Simmons': 0, 'Mr. John Viktor Bengtsson': 0, 'Mr. Joseph Charles Nicholls': 0, 'Mr. Joseph J Fynney': 0, 'Mr. Joseph Jr Elias': 0, 'Mr. Joseph Murdlin': 0, 'Mr. Joseph Peduzzi': 0, 'Mr. Joseph Philippe Lemercier Laroche': 0, 'Mr. Jovan Dimic': 0, 'Mr. Jovo Calic': 0, 'Mr. Juho Stranden': 1, 'Mr. Juho Tikkanen': 0, 'Mr. Kanio Ivanoff': 0, 'Mr. Karl Alfred Backstrom': 0, 'Mr. Karl Edwart Dahl': 1, 'Mr. Karl Gideon Gustafsson': 0, 'Mr. Karl Howell Behr': 1, 'Mr. Karl Siegwart Andreas Olsen': 0, 'Mr. Khalil Saad': 0, 'Mr. Knud Paust Rommetvedt': 0, 'Mr. Konrad Mathias Reiersen Hagland': 0, 'Mr. Kristo Laleff': 0, 'Mr. Lalio Jonkoff': 0, 'Mr. Lalio Todoroff': 0, 'Mr. Lawrence Beesley': 1, 'Mr. Lawrence Gavey': 0, 'Mr. Lee Bing': 1, 'Mr. Len Lam': 0, 'Mr. Leo Edmondus Vander Planke': 0, 'Mr. Leo Zimmerman': 0, 'Mr. Leon Hampe': 0, 'Mr. Leslie Williams': 0, 'Mr. Lewis Richard Braund': 0, 'Mr. Lionel Leonard': 0, 'Mr. Liudevit Cor': 0, 'Mr. Luka Cacic': 0, 'Mr. Luka Oreskovic': 0, 'Mr. Mansour Hanna': 0, 'Mr. Manuel Estanslas Goncalves': 0, 'Mr. Marin Markoff': 0, 'Mr. Mark Fortune': 0, 'Mr. Martin Gallagher': 0, 'Mr. Martin McMahon': 0, 'Mr. Martin Ponesell': 0, 'Mr. Masabumi Hosono': 1, 'Mr. Matthew Sadlier': 0, 'Mr. Matti Alexanteri Maenpaa': 0, 'Mr. Matti Rintamaki': 0, 'Mr. Mauritz Hakan Bjornstrom-Steffansson': 1, 'Mr. Mauritz Nils Martin Adahl': 0, 'Mr. Maxmillian Frolicher-Stehli': 1, 'Mr. Michael Connaghton': 0, 'Mr. Michel Navratil': 0, 'Mr. Milan Karaic': 0, 'Mr. Mile Smiljanic': 0, 'Mr. Milton Clyde Long': 0, 'Mr. Minko Nankoff': 0, 'Mr. Mohamed Badt': 0, 'Mr. Moses Aaron Troupiansky': 0, 'Mr. Nakli Toufik': 0, 'Mr. Nassef Cassem Albimona': 1, 'Mr. Neal McNamee': 0, 'Mr. Nedelio Petroff': 0, 'Mr. Nicholas Nasser': 0, 'Mr. Niels Peder Jensen': 0, 'Mr. Nikola Lulic': 1, 'Mr. Nikolai Erland Kallio': 0, 'Mr. Nils Johan Goransson Olsson': 0, 'Mr. Nils Martin Odahl': 0, 'Mr. Norman Campbell Chambers': 1, 'Mr. Olaf Elon Osen': 0, 'Mr. Ole Martin Olsen': 0, 'Mr. Orsen Sirayanian': 0, 'Mr. Oskar Arvid Hedman': 1, 'Mr. Owen George Allum': 0, 'Mr. Owen Harris Braund': 0, 'Mr. Pastcho Petroff': 0, 'Mr. Patrick Connors': 0, \"Mr. Patrick D O'Connell\": 0, 'Mr. Patrick Dooley': 0, 'Mr. Patrick Ryan': 0, 'Mr. Paul Edvin Andreasson': 0, 'Mr. Pehr Fabian Oliver Malkolm Myhrman': 0, 'Mr. Peju Coleff': 0, 'Mr. Pekka Pietari Hakkarainen': 0, 'Mr. Penko Naidenoff': 0, 'Mr. Percival James R Sharp': 0, 'Mr. Percival Wayland White': 0, 'Mr. Petar Calic': 0, 'Mr. Petco Slabenoff': 0, 'Mr. Peter Andreas Lauritz Andersen Soholt': 0, 'Mr. Peter David McKane': 0, 'Mr. Peter Denis Daly': 1, 'Mr. Peter Henry Renouf': 0, 'Mr. Peter L Lemberopolous': 0, 'Mr. Philemon van Melkebeke': 0, 'Mr. Philip Kiernan': 0, 'Mr. Phillippe Wiseman': 0, 'Mr. Pierre Marechal': 1, 'Mr. Rahamin Haim Moutal': 0, 'Mr. Raihed Razi': 0, 'Mr. Ramon Artagaveytia': 0, 'Mr. Reginald Charles Coleridge': 0, 'Mr. Reginald Fenton Butler': 0, 'Mr. Reginald Hale': 0, 'Mr. Rene Aime Lievens': 0, 'Mr. Rene Jacques Levy': 0, 'Mr. Rene Pernot': 0, 'Mr. Richard Cater Nosworthy': 0, 'Mr. Richard Frasar White': 0, 'Mr. Richard Fry': 0, 'Mr. Richard George Hocking': 0, 'Mr. Richard Henry Rouse': 0, 'Mr. Richard James Slemen': 0, 'Mr. Richard Otter': 0, 'Mr. Richard William Smith': 0, 'Mr. Ristiu Dantcheff': 0, 'Mr. Robert Douglas Norman': 0, 'Mr. Robert J Knight': 0, 'Mr. Robert Mernagh': 0, 'Mr. Robert William Norman Leyson': 0, 'Mr. Robert Williams Daniel': 1, 'Mr. Roger Tobin': 0, 'Mr. Rossmore Edward Abbott': 0, 'Mr. Sahid Nakid': 1, 'Mr. Samuel Abelson': 0, 'Mr. Samuel Dennis': 0, 'Mr. Samuel Greenberg': 0, 'Mr. Samuel James Hayden Sobey': 0, 'Mr. Samuel L Goldenberg': 1, 'Mr. Sante Ringhini': 0, 'Mr. Sarkis Lahoud': 0, 'Mr. Satio Coleff': 0, 'Mr. Sebastiano del Carlo': 0, 'Mr. Selman Francis Slocovski': 0, 'Mr. Shadrach Gale': 0, 'Mr. Sidney Samuel Jacobsohn': 0, 'Mr. Sigurd Hansen Moen': 0, 'Mr. Sinai Kantor': 0, 'Mr. Spencer Victor Silverthorne': 1, 'Mr. Stanley George Hickman': 0, 'Mr. Stanley Hubert Fox': 0, 'Mr. Stefo Pavlovic': 0, 'Mr. Stephen Curnow Jenkin': 0, 'Mr. Stephen Hold': 0, 'Mr. Stephen Weart Blackwell': 0, 'Mr. Stjepan Turcin': 0, 'Mr. Stoytcho Mionoff': 0, 'Mr. Svend Lauritz Jensen': 0, 'Mr. Tannous Betros': 0, 'Mr. Tannous Doharr': 0, 'Mr. Tannous Elias': 0, 'Mr. Thomas Charles Mudd': 0, 'Mr. Thomas Drake Martinez Cardeza': 1, 'Mr. Thomas J Kilgannon': 0, 'Mr. Thomas Joseph McCormack': 1, 'Mr. Thomas Jr Andrews': 0, 'Mr. Thomas Leonard Theobald': 0, 'Mr. Thomas Rowan Morrow': 0, 'Mr. Thomas William Solomon Brown': 0, 'Mr. Thor Anderson Olsvigen': 0, 'Mr. Thornton Davidson': 0, 'Mr. Tido Rekic': 0, 'Mr. Timothy J McCarthy': 0, \"Mr. Timothy O'Brien\": 0, 'Mr. Todor Sdycoff': 0, 'Mr. Tyrell William Cavendish': 0, 'Mr. Uscher Paulner': 0, 'Mr. Vasil Plotcharsky': 0, 'Mr. Victor Francis Sunderland': 1, 'Mr. Victor Giglio': 0, 'Mr. Victor Robbins': 0, 'Mr. Victor Vander Cruyssen': 0, 'Mr. Victor de Satode Penasco y Castellana': 0, 'Mr. Viktor Richard Rosblom': 0, 'Mr. Vincenz Kink': 0, 'Mr. Walter Chamberlain Porter': 0, 'Mr. Walter Donald Douglas': 0, 'Mr. Walter Harris': 0, 'Mr. Walter James Hawksford': 1, 'Mr. Washington Augustus II Roebling': 0, 'Mr. Wazli Yousif': 0, 'Mr. Wilhelm Skoog': 0, 'Mr. William Ali': 0, 'Mr. William Arthur Lobb': 0, 'Mr. William Baird Silvey': 0, 'Mr. William Bertram Greenfield': 1, 'Mr. William Cahoone Jr Johnson': 0, 'Mr. William Campbell': 0, 'Mr. William Carbines': 0, 'Mr. William Ernest Carter': 1, 'Mr. William Fisher Hoyt': 0, 'Mr. William Harrison': 0, 'Mr. William Henry Allen': 0, 'Mr. William Henry Gillespie': 0, 'Mr. William Henry Marsh Parr': 0, 'Mr. William Henry Saundercock': 0, 'Mr. William Henry Tornquist': 1, 'Mr. William James Downton': 0, 'Mr. William James Elsbury': 0, 'Mr. William John Berriman': 0, 'Mr. William John Mellors': 1, 'Mr. William John Rogers': 0, 'Mr. William Morley': 0, 'Mr. William Neal Ford': 0, 'Mr. William Thompson Sloper': 1, 'Mr. Wyckoff Van der hoef': 0, 'Mr. Youssef Samaan': 0, 'Mr. Yousseff Ibrahim Shawah': 0, 'Mrs. (Ada E Hall) Ball': 1, 'Mrs. (Amelia Milley) Lemore': 1, 'Mrs. (Beila) Moor': 1, 'Mrs. (Catherine David) Barbara': 0, 'Mrs. (Edith Martha Bowerman) Chibnall': 1, 'Mrs. (Elizabeth Anne Maidment) Mellinger': 1, 'Mrs. (Elizabeth Ramell) Nye': 1, 'Mrs. (Hedwig) Turkula': 1, 'Mrs. (Karolina) Bystrom': 1, 'Mrs. (Lutie Davis) Parrish': 1, 'Mrs. (Mantoura Boulos) Moussa': 1, 'Mrs. (Mary) Mack': 0, 'Mrs. (Rosa) Pinsky': 1, 'Mrs. Albert Adrian (Vera Gillespie) Dick': 1, 'Mrs. Albert Francis (Sylvia Mae Harbaugh) Caldwell': 1, 'Mrs. Alexander A (Grace Charity Laury) Robins': 0, 'Mrs. Alexander Oskar (Mary Aline Towner) Holverson': 1, 'Mrs. Amin S (Marie Marthe Thuillard) Jerwan': 1, 'Mrs. Anders Johan (Alfrida Konstantia Brogren) Andersson': 0, 'Mrs. Antoni (Selini Alexander) Yasbeck': 1, 'Mrs. Benjamin (Esther Ada Bloomfield) Hart': 1, 'Mrs. Carl Oscar (Selma Augusta Emilia Johansson) Asplund': 1, 'Mrs. Catherine (Catherine Rizk) Peter': 1, 'Mrs. Charles Alexander (Alice Adelaide Slow) Louch': 1, 'Mrs. Charles V (Ada Maria Winfield) Clarke': 1, 'Mrs. Darwis (Hanne Youssef Razi) Touma': 1, 'Mrs. Dickinson H (Helen Walton) Bishop': 1, 'Mrs. Edgar Joseph (Leila Saks) Meyer': 1, 'Mrs. Edward (Margaret Ann Watson) Ford': 0, 'Mrs. Edward Dale (Charlotte Lamson) Appleton': 1, 'Mrs. Edward Scott (Elisabeth Walton McMillan) Robert': 1, 'Mrs. Edwy Arthur (Ada Mary Worth) West': 1, 'Mrs. Elizabeth (Eliza Needs) Hocking': 1, 'Mrs. Elmer Zebley (Juliet Cummins Wright) Taylor': 1, 'Mrs. Ernest Courtenay (Lilian Hughes) Carter': 0, 'Mrs. Ernst Gilbert (Anna Sigrid Maria Brogren) Danbom': 0, 'Mrs. Frank Manley (Anna Sophia Atkinson) Warren': 1, 'Mrs. Frederic Oakley (Margaretta Corning Stone) Spedden': 1, 'Mrs. Frederick (Augusta Tyler) Goodwin': 0, 'Mrs. Frederick Charles (Jane Richards) Quick': 1, 'Mrs. Frederick R (Marion) Kenyon': 1, 'Mrs. Guillaume Joseph (Emma) de Messemaeker': 1, 'Mrs. Harvey (Charlotte Annie Tate) Collyer': 1, 'Mrs. Henry Sleeper (Myna Haxtun) Harper': 1, 'Mrs. Henry William (Clara Heinsheimer) Frauenthal': 1, 'Mrs. Hudson J C (Bessie Waldo Daniels) Allison': 0, 'Mrs. Jacques Heath (Lily May Peel) Futrelle': 1, 'Mrs. James (Elizabeth Inglis Milne) Watt': 1, 'Mrs. James (Helene DeLaudeniere Chaput) Baxter': 1, 'Mrs. Jean Baptiste (Rosalie Paula Govaert) Van Impe': 0, 'Mrs. Johan (Johanna Persdotter Larsson) Ahlin': 0, 'Mrs. John (Catherine) Bourke': 0, 'Mrs. John Borland (Marian Longstreth Morris) Thayer': 1, 'Mrs. John Bradley (Florence Briggs Thayer) Cumings': 1, 'Mrs. John C (Anna Andrews) Hogeboom': 1, 'Mrs. John T (Ada Julia Bone) Doling': 1, 'Mrs. Joseph (Juliette Marie Louise Lafargue) Laroche': 1, 'Mrs. Joseph (Maria Elias) Caram': 0, 'Mrs. Juha (Maria Emilia Ojala) Panula': 0, 'Mrs. Julius (Emelia Maria Vandemoortele) Vander Planke': 0, 'Mrs. Karl Alfred (Maria Mathilda Gustafsson) Backstrom': 1, 'Mrs. Leopold (Mathilde Francoise Pede) Weisz': 1, 'Mrs. Lizzie (Elizabeth Anne Wilkinson) Faunthorpe': 1, 'Mrs. Louis Albert (Ida Sophia Fischer) Hippach': 1, 'Mrs. Mara Osman': 1, 'Mrs. Martin (Elizabeth L. Barrett) Rothschild': 1, 'Mrs. Nicholas (Adele Achem) Nasser': 1, 'Mrs. Nils (Alma Cornelia Berglund) Palsson': 0, 'Mrs. Norman Campbell (Bertha Griggs) Chambers': 1, 'Mrs. Oscar W (Elisabeth Vilhelmina Berg) Johnson': 1, 'Mrs. Percival (Florence Kate White) Thorneycroft': 1, 'Mrs. Peter Henry (Lillian Jefferys) Renouf': 1, 'Mrs. Richard Leonard (Sallie Monypeny) Beckwith': 1, 'Mrs. Samuel (Hannah Wizosky) Abelson': 1, 'Mrs. Samuel (Jane Laver) Herman': 1, 'Mrs. Samuel L (Edwiga Grabowska) Goldenberg': 1, 'Mrs. Sidney (Emily Hocking) Richards': 1, 'Mrs. Sinai (Miriam Sternin) Kantor': 1, 'Mrs. Stanton (Rosa Hunt) Abbott': 1, 'Mrs. Thomas (Annie Louise Rowley) Meek': 0, 'Mrs. Thomas (Edith Wearne) Pears': 1, \"Mrs. Thomas (Johanna Godfrey) O'Brien\": 1, 'Mrs. Thomas Henry (Mary E Finck) Davison': 1, 'Mrs. Thomas Jr (Lily Alexenia Wilson) Potter': 1, 'Mrs. Thomas William Solomon (Elizabeth Catherine Ford) Brown': 1, 'Mrs. Victor de Satode (Maria Josefa Perez de Soto y Vallejo) Penasco y Castellana': 1, 'Mrs. Viktor (Helena Wilhelmina) Rosblom': 0, 'Mrs. Walter Bertram (Martha Eustis) Stephenson': 1, 'Mrs. Wilhelm (Elna Matilda Persson) Strom': 0, 'Mrs. William (Anna Bernhardina Karlsson) Skoog': 0, 'Mrs. William (Anna Sylfven) Lahtinen': 0, 'Mrs. William (Anna) Hamalainen': 1, 'Mrs. William (Imanita Parrish Hall) Shelley': 1, 'Mrs. William (Margaret Norton) Rice': 0, 'Mrs. William A (Florence Agnes Hughes) Angle': 1, 'Mrs. William Arthur (Cordelia K Stanlick) Lobb': 0, 'Mrs. William Augustus (Marie Eugenie) Spencer': 1, 'Mrs. William Baird (Alice Munger) Silvey': 1, 'Mrs. William Ernest (Lucile Polk) Carter': 1, 'Mrs. William H (Jessie L) Trout': 1, 'Mrs. William Thompson (Edith Junkins) Graham': 1, 'Ms. Encarnacion Reynaldo': 1, 'Rev. Ernest Courtenay Carter': 0, 'Rev. John Harper': 0, 'Rev. Thomas Roussel Davids Byles': 0, 'Sir. Cosmo Edmund Duff Gordon': 1, 'the Countess. of (Lucy Noel Martha Dyer-Edwards) Rothes': 1}}\n"
     ]
    }
   ],
   "source": [
    "print(\"prediction_dict_: \", oner.prediction_dict_)"
   ]
  },
  {
   "cell_type": "code",
   "execution_count": 31,
   "id": "covered-explanation",
   "metadata": {},
   "outputs": [
    {
     "name": "stdout",
     "output_type": "stream",
     "text": [
      "Training accuracy 62.34%\n"
     ]
    }
   ],
   "source": [
    "y_predict = oner.predict(xd_train.to_numpy())\n",
    "train_acc = np.mean(y_predict == y_train)  \n",
    "print(f'Training accuracy {train_acc*100:.2f}%')"
   ]
  },
  {
   "cell_type": "code",
   "execution_count": 32,
   "id": "graduate-implement",
   "metadata": {},
   "outputs": [
    {
     "name": "stdout",
     "output_type": "stream",
     "text": [
      "Test accuracy 57.87%\n"
     ]
    }
   ],
   "source": [
    "y_pred = oner.predict(xd_test.to_numpy())\n",
    "test_acc = np.mean(y_pred == y_test)  \n",
    "print(f'Test accuracy {test_acc*100:.2f}%')\n"
   ]
  },
  {
   "cell_type": "markdown",
   "id": "altered-greeting",
   "metadata": {},
   "source": [
    "### Q3. "
   ]
  },
  {
   "cell_type": "code",
   "execution_count": 12,
   "id": "close-kelly",
   "metadata": {},
   "outputs": [],
   "source": [
    "x_d_new = titanic[[\"Survived\",\"Sex\",\"Age\",\"Siblings/Spouses Aboard\",\"Parents/Children Aboard\"]]\n",
    "y_new = le.fit(titanic[\"Survived\"])\n",
    "y_new = le.transform(titanic[\"Survived\"])"
   ]
  },
  {
   "cell_type": "code",
   "execution_count": 13,
   "id": "compressed-representative",
   "metadata": {},
   "outputs": [
    {
     "name": "stdout",
     "output_type": "stream",
     "text": [
      "     Survived     Sex   Age  Siblings/Spouses Aboard  Parents/Children Aboard\n",
      "105         1  female  21.0                        0                        0\n",
      "383         0    male  18.0                        0                        0\n",
      "613         0    male  34.0                        1                        1\n",
      "449         0    male  30.0                        0                        0\n",
      "483         1  female  35.0                        1                        0\n",
      "..        ...     ...   ...                      ...                      ...\n",
      "345         1  female  34.0                        1                        0\n",
      "293         0    male  30.0                        0                        0\n",
      "535         0    male  69.0                        0                        0\n",
      "254         1  female  29.0                        0                        2\n",
      "37          0    male  21.0                        0                        0\n",
      "\n",
      "[709 rows x 5 columns]\n",
      "y_train [1 0 0 0 1 0 0 0 1 0 0 1 1 1 1 0 1 0 0 0 0 0 0 0 0 0 0 1 0 1 0 1 0 0 1 0 0\n",
      " 0 1 1 1 1 1 0 0 0 1 0 0 0 1 0 0 0 0 1 0 0 1 1 0 0 1 1 0 1 0 0 0 0 1 0 1 1\n",
      " 0 0 0 0 0 0 0 0 1 0 0 0 1 1 0 0 0 0 0 1 0 0 1 0 1 1 1 0 0 1 0 1 1 0 0 1 0\n",
      " 0 1 0 0 0 0 1 0 0 1 1 0 1 0 1 0 1 0 1 0 0 1 0 0 0 0 1 0 1 1 0 0 0 0 0 0 0\n",
      " 1 0 0 0 0 0 0 0 0 1 0 0 0 1 1 0 1 1 0 1 0 0 0 0 1 0 1 0 0 0 0 1 1 1 1 0 0\n",
      " 0 1 0 0 1 0 0 1 1 0 1 0 0 1 0 1 1 1 1 0 0 0 0 1 0 0 0 0 0 0 1 0 0 1 0 0 1\n",
      " 0 0 0 0 1 1 0 1 1 1 1 0 0 0 1 0 1 1 0 1 0 1 0 0 0 0 0 0 0 1 0 1 0 0 0 1 0\n",
      " 0 1 1 1 0 1 0 1 1 0 0 0 0 0 0 0 0 0 0 1 1 0 1 1 1 0 1 0 0 0 1 1 0 0 0 0 0\n",
      " 1 1 0 0 1 0 0 0 1 0 0 0 1 0 0 1 0 0 1 0 1 0 1 1 0 0 0 0 0 0 0 0 0 0 0 1 0\n",
      " 0 0 1 0 0 0 1 0 1 1 0 0 1 0 1 0 0 0 1 0 1 0 1 1 1 1 1 1 1 1 1 1 0 0 1 1 0\n",
      " 0 1 1 1 1 1 1 0 0 0 0 1 1 0 0 1 0 0 0 0 1 0 0 0 0 0 1 1 1 1 0 0 1 1 1 0 1\n",
      " 0 1 1 0 1 0 1 0 1 0 1 1 1 1 1 0 0 0 1 1 1 1 0 0 0 1 0 0 0 1 1 1 0 1 1 0 1\n",
      " 0 0 1 1 1 0 0 1 1 0 1 0 0 0 0 1 0 0 0 1 1 1 0 1 0 1 1 0 1 1 0 0 0 1 0 0 0\n",
      " 0 0 0 0 1 1 0 1 0 0 1 0 0 1 0 0 1 1 0 0 1 0 1 1 1 0 1 0 1 0 0 1 0 0 0 0 0\n",
      " 1 0 0 1 1 0 0 0 0 0 1 1 1 1 1 1 0 0 0 1 0 0 1 0 1 0 1 0 0 0 1 1 1 0 0 0 0\n",
      " 0 1 0 0 1 1 0 0 1 0 0 1 0 0 0 0 0 1 0 1 1 0 0 1 0 1 0 1 1 0 0 0 1 0 0 0 0\n",
      " 0 0 0 1 1 0 1 1 0 0 1 1 1 0 0 1 0 0 1 0 0 0 0 0 0 1 0 0 1 1 1 0 1 0 0 0 0\n",
      " 0 1 0 0 1 0 0 0 1 0 1 0 0 1 0 1 1 1 0 1 0 0 0 0 0 1 0 0 0 0 0 0 0 0 1 0 1\n",
      " 0 0 0 0 0 1 0 0 1 0 1 0 0 0 1 0 1 0 0 0 1 0 0 0 1 1 0 0 1 1 1 1 0 1 1 0 0\n",
      " 0 1 0 0 1 0]\n"
     ]
    }
   ],
   "source": [
    "# xd_train_new = x_d_new[:, 10:]\n",
    "# xd_test_new = x_d_new[:, 0]\n",
    "# y_train_new = x_d_new[:, :10]\n",
    "# y_test_new = x_d_new[:, 0]\n",
    "\n",
    "xd_train_new, xd_test_new, y_train_new, y_test_new = train_test_split(x_d_new, y_new, test_size = 0.20)\n",
    "print(xd_train_new)\n",
    "print(\"y_train\", y_train_new)"
   ]
  },
  {
   "cell_type": "code",
   "execution_count": 14,
   "id": "technological-catalog",
   "metadata": {},
   "outputs": [
    {
     "name": "stdout",
     "output_type": "stream",
     "text": [
      "Accucy: \n",
      " 0.6067415730337079\n",
      "y_test_new  [0 1 0 0 1 1 0 1 0 0 0 0 1 0 0 0 0 1 0 1 1 0 1 1 0 1 0 1 1 1 0 0 1 0 0 0 0\n",
      " 0 0 0 0 1 0 1 0 0 0 0 1 1 0 0 0 1 0 0 1 1 1 0 1 0 1 0 1 0 1 0 0 0 0 0 0 1\n",
      " 0 0 0 0 0 1 0 1 0 0 0 1 0 0 0 1 0 0 1 0 0 0 0 1 0 0 0 1 0 1 0 0 1 0 0 1 0\n",
      " 1 0 1 0 1 0 0 0 1 0 0 0 0 1 0 0 0 1 0 0 0 1 0 0 0 0 1 0 0 0 0 0 0 1 1 0 1\n",
      " 0 0 1 0 1 1 1 1 1 0 0 0 1 0 0 0 1 1 1 0 1 1 0 1 0 1 1 0 0 0]\n",
      " \n",
      "y_pred_new  [0 0 0 0 0 0 0 0 0 0 0 1 0 0 0 1 0 0 1 0 0 0 0 0 0 0 0 0 1 0 0 0 0 1 0 0 1\n",
      " 0 0 0 1 0 0 0 0 0 0 0 1 0 0 0 0 0 0 0 0 0 0 0 0 0 0 0 1 1 0 0 0 1 0 0 0 1\n",
      " 0 0 0 0 0 0 0 0 1 0 0 0 0 0 1 0 0 0 0 0 0 0 0 0 0 0 0 0 1 0 0 0 0 0 0 1 0\n",
      " 0 0 0 0 0 0 0 0 0 1 0 0 0 0 0 0 0 0 0 0 0 0 0 0 0 0 0 0 0 0 0 0 0 0 0 0 0\n",
      " 0 0 0 0 0 1 0 0 0 0 0 0 0 0 0 0 1 0 0 1 0 0 0 0 0 0 0 0 0 0]\n",
      " \n",
      "[[101  13]\n",
      " [ 57   7]]\n",
      "feature:  2\n",
      " \n",
      "prediction_dict_:  {'total error': 239, 'rules (value: class)': {0.67: 0, 0.83: 0, 1.0: 0, 2.0: 0, 3.0: 0, 4.0: 0, 5.0: 0, 6.0: 0, 7.0: 0, 8.0: 0, 9.0: 0, 10.0: 0, 11.0: 0, 12.0: 0, 13.0: 1, 14.0: 0, 14.5: 1, 15.0: 1, 16.0: 0, 17.0: 0, 18.0: 0, 19.0: 0, 20.0: 0, 21.0: 0, 22.0: 0, 23.0: 0, 23.5: 1, 24.0: 0, 25.0: 0, 26.0: 0, 27.0: 0, 28.0: 0, 28.5: 0, 29.0: 0, 30.0: 0, 30.5: 0, 31.0: 1, 32.0: 0, 32.5: 0, 33.0: 0, 34.0: 0, 34.5: 1, 35.0: 0, 36.0: 0, 36.5: 0, 37.0: 0, 38.0: 0, 39.0: 0, 40.0: 1, 40.5: 0, 41.0: 1, 42.0: 0, 43.0: 0, 44.0: 0, 45.0: 1, 46.0: 1, 47.0: 0, 48.0: 0, 49.0: 0, 50.0: 0, 51.0: 0, 52.0: 0, 53.0: 0, 54.0: 0, 55.0: 0, 55.5: 1, 56.0: 1, 57.0: 0, 58.0: 1, 59.0: 0, 60.0: 0, 61.0: 0, 62.0: 0, 63.0: 0, 64.0: 0, 65.0: 0, 66.0: 0, 69.0: 0, 70.0: 0, 71.0: 0, 74.0: 1, 80.0: 0}}\n"
     ]
    }
   ],
   "source": [
    "oner.fit(xd_train_new.to_numpy(),y_train)\n",
    "y_pred_new = oner.predict(xd_test_new.to_numpy())\n",
    "\n",
    "Accuracy = accuracy_score(y_test_new, y_pred_new)\n",
    "print(\"Accucy: \\n\", Accuracy)\n",
    "\n",
    "print(\"y_test_new \", y_test_new)\n",
    "print(\" \")\n",
    "print(\"y_pred_new \", y_pred_new)\n",
    "print(\" \")\n",
    "\n",
    "print(confusion_matrix(y_test_new, y_pred_new))\n",
    "\n",
    "print(\"feature: \", oner.feature_idx_)\n",
    "print(\" \")\n",
    "\n",
    "print(\"prediction_dict_: \", oner.prediction_dict_)"
   ]
  },
  {
   "cell_type": "markdown",
   "id": "departmental-richardson",
   "metadata": {},
   "source": [
    "### Problem 2. Producing 1R with selected stock"
   ]
  },
  {
   "cell_type": "code",
   "execution_count": 51,
   "id": "technological-williams",
   "metadata": {},
   "outputs": [
    {
     "name": "stdout",
     "output_type": "stream",
     "text": [
      "Number of rows in original data: 3692\n",
      "\n",
      "         Date        Open        High        Low       Close    Volume  \\\n",
      "0  2007-01-03   97.180000   98.400002  96.260002   97.269997   9196800   \n",
      "1  2007-01-04   97.250000   98.790001  96.879997   98.309998  10524500   \n",
      "2  2007-01-05   97.599998   97.949997  96.910004   97.419998   7221300   \n",
      "3  2007-01-08   98.500000   99.500000  98.349998   98.900002  10340000   \n",
      "4  2007-01-09   99.080002  100.330002  99.070000  100.070000  11108200   \n",
      "5  2007-01-10   98.500000   99.050003  97.930000   98.889999   8744800   \n",
      "6  2007-01-11   99.000000   99.900002  98.500000   98.650002   8000700   \n",
      "7  2007-01-12   98.989998   99.690002  98.500000   99.339996   6636500   \n",
      "8  2007-01-16   99.400002  100.839996  99.300003  100.820000   9602200   \n",
      "9  2007-01-17  100.690002  100.900002  99.900002  100.019997   8200700   \n",
      "\n",
      "    Adjusted  \n",
      "0  63.127567  \n",
      "1  63.802544  \n",
      "2  63.224930  \n",
      "3  64.185463  \n",
      "4  64.944771  \n",
      "5  64.178978  \n",
      "6  64.023201  \n",
      "7  64.471024  \n",
      "8  65.431503  \n",
      "9  64.912323  \n"
     ]
    }
   ],
   "source": [
    "df = pd.read_csv('./IBM.txt', delimiter = \" \")\n",
    "print(\"Number of rows in original data: {}\\n\".format(len(df.index)))\n",
    "print(df.head(10))"
   ]
  },
  {
   "cell_type": "code",
   "execution_count": 52,
   "id": "pleasant-christian",
   "metadata": {},
   "outputs": [
    {
     "name": "stdout",
     "output_type": "stream",
     "text": [
      "         Date        Open        High        Low       Close    Volume  \\\n",
      "0  2007-01-03   97.180000   98.400002  96.260002   97.269997   9196800   \n",
      "1  2007-01-04   97.250000   98.790001  96.879997   98.309998  10524500   \n",
      "2  2007-01-05   97.599998   97.949997  96.910004   97.419998   7221300   \n",
      "3  2007-01-08   98.500000   99.500000  98.349998   98.900002  10340000   \n",
      "4  2007-01-09   99.080002  100.330002  99.070000  100.070000  11108200   \n",
      "5  2007-01-10   98.500000   99.050003  97.930000   98.889999   8744800   \n",
      "6  2007-01-11   99.000000   99.900002  98.500000   98.650002   8000700   \n",
      "7  2007-01-12   98.989998   99.690002  98.500000   99.339996   6636500   \n",
      "8  2007-01-16   99.400002  100.839996  99.300003  100.820000   9602200   \n",
      "9  2007-01-17  100.690002  100.900002  99.900002  100.019997   8200700   \n",
      "\n",
      "    Adjusted  Daily_returns  \n",
      "0  63.127567            NaN  \n",
      "1  63.802544       1.069190  \n",
      "2  63.224930      -0.905300  \n",
      "3  64.185463       1.519199  \n",
      "4  64.944771       1.183011  \n",
      "5  64.178978      -1.179176  \n",
      "6  64.023201      -0.242691  \n",
      "7  64.471024       0.699436  \n",
      "8  65.431503       1.489837  \n",
      "9  64.912323      -0.793496  \n"
     ]
    }
   ],
   "source": [
    "df['Daily_returns'] = 100*((df['Close'] - df['Close'].shift())/ df['Close'].shift())\n",
    "print(df.head(10))"
   ]
  },
  {
   "cell_type": "code",
   "execution_count": 53,
   "id": "experienced-telephone",
   "metadata": {},
   "outputs": [
    {
     "name": "stdout",
     "output_type": "stream",
     "text": [
      "            Date        Open        High         Low       Close    Volume  \\\n",
      "0     2007-01-03   97.180000   98.400002   96.260002   97.269997   9196800   \n",
      "1     2007-01-04   97.250000   98.790001   96.879997   98.309998  10524500   \n",
      "2     2007-01-05   97.599998   97.949997   96.910004   97.419998   7221300   \n",
      "3     2007-01-08   98.500000   99.500000   98.349998   98.900002  10340000   \n",
      "4     2007-01-09   99.080002  100.330002   99.070000  100.070000  11108200   \n",
      "...          ...         ...         ...         ...         ...       ...   \n",
      "3687  2021-08-25  139.919998  140.800003  139.460007  139.860001   2012800   \n",
      "3688  2021-08-26  139.970001  140.800003  138.710007  138.779999   2498700   \n",
      "3689  2021-08-27  138.710007  139.589996  138.399994  139.410004   2459500   \n",
      "3690  2021-08-30  139.500000  139.880005  138.820007  138.970001   1995500   \n",
      "3691  2021-08-31  139.539993  140.940002  138.949997  140.339996   4233900   \n",
      "\n",
      "        Adjusted  Daily_returns Decision  \n",
      "0      63.127567            NaN        0  \n",
      "1      63.802544       1.069190       Up  \n",
      "2      63.224930      -0.905300     Down  \n",
      "3      64.185463       1.519199       Up  \n",
      "4      64.944771       1.183011       Up  \n",
      "...          ...            ...      ...  \n",
      "3687  139.860001       0.014306       Up  \n",
      "3688  138.779999      -0.772202     Down  \n",
      "3689  139.410004       0.453960       Up  \n",
      "3690  138.970001      -0.315618     Down  \n",
      "3691  140.339996       0.985821       Up  \n",
      "\n",
      "[3692 rows x 9 columns]\n",
      "\n",
      "\n"
     ]
    }
   ],
   "source": [
    "conditions = [(df['Daily_returns'] > 0.005),(df['Daily_returns'] < 0.005)] \n",
    "              #(df['Daily_returns'] < 0.005) & (df['Daily_returns'] > -0.005)]\n",
    "\n",
    "values = ['Up', 'Down'] #, 'Flat']\n",
    "df['Decision'] = np.select(conditions, values)\n",
    "print(df)\n",
    "print(\"\\n\")"
   ]
  },
  {
   "cell_type": "code",
   "execution_count": 54,
   "id": "driving-declaration",
   "metadata": {},
   "outputs": [],
   "source": [
    "#df.columns\n",
    "#df = df[1:]"
   ]
  },
  {
   "cell_type": "code",
   "execution_count": 55,
   "id": "modern-belief",
   "metadata": {},
   "outputs": [
    {
     "data": {
      "text/plain": [
       "array([0, 2, 1, ..., 2, 1, 2])"
      ]
     },
     "execution_count": 55,
     "metadata": {},
     "output_type": "execute_result"
    }
   ],
   "source": [
    "x = df[[\"Open\", \"High\", \"Low\", \"Close\", \"Volume\", \"Adjusted\",\"Daily_returns\"]]\n",
    "transform = le.fit(df[\"Decision\"])\n",
    "transform = le.transform(df[\"Decision\"])\n",
    "transform"
   ]
  },
  {
   "cell_type": "code",
   "execution_count": 56,
   "id": "confused-blame",
   "metadata": {},
   "outputs": [
    {
     "name": "stdout",
     "output_type": "stream",
     "text": [
      "            Open        High         Low       Close   Volume    Adjusted  \\\n",
      "3642  146.520004  146.809998  145.350006  146.360001  2437000  144.694168   \n",
      "3258  134.110001  134.509995  133.669998  133.759995  3953300  122.621155   \n",
      "418   123.709999  123.989998  121.629997  121.730003  7156000   81.062439   \n",
      "794   127.500000  128.830002  127.470001  128.570007  4577700   88.207466   \n",
      "2538  175.000000  175.699997  172.889999  174.289993  2795700  140.419296   \n",
      "...          ...         ...         ...         ...      ...         ...   \n",
      "1226  185.270004  187.830002  185.139999  187.380005  3665300  132.637100   \n",
      "870   130.070007  131.029999  129.860001  130.979996  5571000   90.321487   \n",
      "1438  205.550003  207.990005  205.550003  207.149994  3275100  148.450058   \n",
      "1384  194.550003  195.809998  192.410004  195.580002  5259600  139.562775   \n",
      "492    82.510002   83.540001   80.000000   82.769997  8848200   55.426323   \n",
      "\n",
      "      Daily_returns  \n",
      "3642      -0.197745  \n",
      "3258      -0.112022  \n",
      "418       -2.287686  \n",
      "794        1.108842  \n",
      "2538      -0.131796  \n",
      "...             ...  \n",
      "1226       2.197981  \n",
      "870        0.483306  \n",
      "1438       0.164400  \n",
      "1384       2.183912  \n",
      "492        0.693431  \n",
      "\n",
      "[2953 rows x 7 columns]\n",
      "y_train_IBM [1 1 1 ... 2 2 2]\n"
     ]
    }
   ],
   "source": [
    "xd_train_IBM, xd_test_IBM, y_train_IBM, y_test_IBM = train_test_split(x, transform, test_size = 0.20)\n",
    "print(xd_train_IBM)\n",
    "print(\"y_train_IBM\", y_train_IBM)"
   ]
  },
  {
   "cell_type": "code",
   "execution_count": 57,
   "id": "adaptive-novel",
   "metadata": {},
   "outputs": [],
   "source": [
    "# df = np.array(df)\n",
    "# x = np.array(x)\n",
    "# transform = np.array(transform)\n",
    "# #x_train = df[:-100,:]\n",
    "# x_train = x[:-100,:]\n",
    "# print(\"x_train\",x_train.shape)\n",
    "#x_test = df[:,-1:]\n",
    "#x_test = transform[:-100]\n",
    "#print(\"x_test\",x_test.shape)\n",
    "# x_test = transform"
   ]
  },
  {
   "cell_type": "code",
   "execution_count": 58,
   "id": "graphic-picnic",
   "metadata": {},
   "outputs": [],
   "source": [
    "# y_train = x[-100:,:]\n",
    "# print(\"y_train\",y_train.shape)\n",
    "# y_test = transform[-100:]\n",
    "# print(\"y_test\",y_test.shape)"
   ]
  },
  {
   "cell_type": "code",
   "execution_count": 66,
   "id": "preliminary-loading",
   "metadata": {},
   "outputs": [
    {
     "name": "stdout",
     "output_type": "stream",
     "text": [
      "Accucy: \n",
      " 0.006765899864682003\n"
     ]
    }
   ],
   "source": [
    "#oner.fit(x_train, y_train)\n",
    "# y_predict = oner.predict(x_test)\n",
    "\n",
    "# Accuracy = accuracy_score(y_test, y_predict)\n",
    "# print(\"Accucy: \\n\", Accuracy)\n",
    "\n",
    "oner.fit(xd_train_IBM.to_numpy(),y_train_IBM)\n",
    "y_pred_IBM = oner.predict(xd_test_IBM.to_numpy())\n",
    "\n",
    "Accuracy = accuracy_score(y_test_IBM, y_pred_IBM)\n",
    "print(\"Accucy: \\n\", Accuracy)"
   ]
  },
  {
   "cell_type": "code",
   "execution_count": 60,
   "id": "joint-retail",
   "metadata": {},
   "outputs": [
    {
     "name": "stdout",
     "output_type": "stream",
     "text": [
      "y_test:  [2 2 1 1 2 1 1 1 1 1 2 1 1 2 1 2 1 1 2 1 2 2 2 2 2 1 2 1 1 2 2 2 2 1 2 1 2\n",
      " 1 2 2 2 1 1 1 2 2 1 2 1 1 2 1 1 2 2 1 2 2 2 1 2 1 1 1 1 2 2 1 2 2 1 2 1 2\n",
      " 1 2 2 2 2 2 2 1 2 2 1 2 1 1 2 2 2 1 1 1 2 1 2 1 1 2 1 2 1 2 2 2 2 1 1 1 2\n",
      " 2 1 1 1 2 1 1 2 2 1 2 1 2 1 2 1 2 1 2 1 1 1 1 2 2 2 1 2 1 1 1 2 1 1 1 1 2\n",
      " 2 1 1 1 1 2 2 2 1 1 1 2 1 1 1 1 2 2 1 2 2 1 2 2 2 2 1 2 1 2 1 2 2 1 1 2 1\n",
      " 2 1 2 1 2 1 2 1 2 2 2 2 1 1 2 2 1 1 2 2 2 1 1 2 1 1 1 1 2 2 1 2 1 1 2 2 1\n",
      " 2 2 1 1 1 2 2 2 1 2 2 1 1 2 2 2 2 1 1 2 1 1 2 1 2 1 2 2 1 2 2 2 2 2 1 2 2\n",
      " 2 1 2 1 1 1 2 1 2 2 2 1 2 2 1 1 2 2 1 2 2 1 2 1 2 1 1 1 1 1 2 1 1 2 1 2 1\n",
      " 2 1 2 2 1 1 1 1 1 2 2 2 2 2 1 2 1 1 1 1 2 2 1 1 2 2 1 2 2 2 1 1 1 1 2 1 2\n",
      " 1 2 2 2 2 1 2 1 1 1 1 2 2 2 2 1 1 2 2 1 1 1 1 2 1 2 2 2 2 2 1 2 1 1 2 2 2\n",
      " 1 1 2 2 2 1 1 1 2 1 1 2 2 1 2 2 1 2 1 1 2 2 2 2 1 1 1 1 1 2 2 1 1 1 2 1 1\n",
      " 1 1 1 1 1 1 1 1 2 2 1 1 2 1 1 1 1 2 2 1 2 2 1 2 1 2 1 1 2 1 1 2 1 1 1 2 2\n",
      " 2 1 1 2 1 2 1 1 1 1 2 1 1 2 2 2 1 2 2 2 2 1 2 2 1 2 2 1 2 1 2 2 1 2 1 1 1\n",
      " 2 2 1 2 2 1 1 1 1 2 2 1 2 2 1 2 1 2 2 2 1 1 1 1 2 1 1 2 2 1 2 2 1 1 1 1 2\n",
      " 2 1 1 1 2 1 1 1 1 1 1 2 2 2 2 1 2 2 1 1 1 1 2 2 1 2 2 2 1 2 2 2 2 2 2 2 2\n",
      " 2 1 1 2 2 1 2 1 1 2 2 1 1 1 1 1 2 2 1 1 1 1 1 2 1 2 1 1 2 1 1 2 1 1 2 1 2\n",
      " 1 1 2 2 1 1 1 2 2 2 1 1 2 1 2 1 2 1 2 2 1 1 2 2 2 1 1 2 2 2 2 2 1 1 1 2 2\n",
      " 1 2 1 2 1 2 1 1 2 2 2 1 2 1 2 1 2 2 2 2 1 2 1 2 1 1 1 1 2 2 1 2 1 1 2 1 2\n",
      " 2 1 2 1 1 1 2 2 1 2 2 2 2 2 2 2 2 1 1 1 1 1 1 1 1 2 1 1 2 2 1 1 1 2 1 2 1\n",
      " 1 2 1 1 2 2 1 1 2 1 2 2 2 1 1 2 2 1 2 2 1 2 2 1 1 1 2 2 1 2 2 2 1 1 2 2]\n",
      " \n",
      "y_predict:  [0 0 0 0 0 0 0 0 0 0 0 0 0 0 0 0 0 0 0 0 0 0 0 0 0 0 0 0 0 0 0 0 0 0 0 0 0\n",
      " 0 0 0 0 0 0 0 0 0 0 0 0 0 0 0 0 0 0 0 0 0 0 0 0 0 0 0 0 0 0 0 0 0 0 0 0 0\n",
      " 0 0 0 0 0 0 0 0 0 0 0 0 0 0 0 0 0 0 0 0 0 0 0 0 0 0 0 0 0 0 0 0 0 0 0 0 0\n",
      " 0 0 0 0 0 0 0 0 0 0 0 0 0 0 0 0 0 0 0 0 0 0 0 0 0 0 0 0 0 0 0 0 0 0 0 0 0\n",
      " 0 0 0 0 0 0 0 0 0 0 0 0 0 0 0 0 0 0 0 0 0 0 0 0 0 0 0 0 0 0 0 0 0 0 0 0 0\n",
      " 0 0 0 0 0 0 0 0 0 0 0 0 0 0 0 0 0 0 0 0 0 0 0 0 0 0 0 0 0 0 0 0 0 0 0 0 0\n",
      " 0 0 0 0 0 0 0 0 0 0 0 0 0 0 0 0 0 0 0 0 0 0 0 0 0 0 0 0 0 0 0 0 0 0 0 0 0\n",
      " 0 0 0 0 0 0 0 0 0 0 0 0 0 0 0 0 0 0 0 0 0 0 0 0 0 0 0 0 0 0 0 0 0 0 0 0 0\n",
      " 0 0 0 0 0 0 0 0 0 0 0 0 0 0 0 0 0 0 0 0 0 0 0 0 0 0 0 0 0 0 0 0 0 0 0 0 0\n",
      " 0 0 0 0 0 0 0 0 0 0 0 0 0 0 0 0 0 0 0 0 0 0 0 0 0 0 0 0 0 0 0 0 0 0 0 0 0\n",
      " 0 0 0 0 0 0 0 0 0 0 0 0 0 0 0 0 0 0 0 0 0 0 0 0 0 0 0 0 0 0 0 0 0 0 0 0 0\n",
      " 0 0 0 0 0 0 0 0 0 0 0 0 0 0 0 0 0 0 0 0 0 0 0 0 0 0 0 0 0 0 0 0 0 0 0 0 0\n",
      " 0 0 0 0 0 0 0 0 0 0 0 0 0 0 0 0 0 0 0 0 0 0 0 0 0 0 0 0 0 0 0 0 0 0 0 0 0\n",
      " 0 0 0 0 0 0 0 0 0 0 0 0 0 0 0 0 0 0 0 0 0 0 0 0 0 0 0 0 0 0 0 0 0 0 0 0 0\n",
      " 0 0 0 0 0 0 0 0 0 0 0 0 0 0 0 0 0 0 0 0 0 0 0 0 0 0 0 0 0 0 0 0 0 0 0 0 0\n",
      " 0 0 0 0 0 0 0 0 0 0 0 0 0 0 0 0 0 0 0 0 0 0 0 0 0 0 0 0 0 0 0 0 0 0 0 0 0\n",
      " 0 0 0 0 0 0 0 0 0 0 0 0 0 0 0 0 0 0 0 0 0 0 0 0 0 0 0 0 0 0 0 0 0 0 0 0 0\n",
      " 0 0 0 0 0 0 0 0 0 0 0 0 0 0 0 0 0 0 0 0 0 0 0 0 0 0 0 0 0 0 0 0 0 0 0 0 0\n",
      " 0 0 0 0 0 0 0 0 0 0 0 0 0 0 0 0 0 0 0 0 0 0 0 0 0 0 0 0 0 0 0 0 0 0 0 0 0\n",
      " 0 0 0 0 0 0 0 0 0 0 0 0 0 0 0 0 0 0 0 0 0 0 0 0 0 0 0 0 0 0 0 0 0 0 0 0]\n",
      " \n",
      "[[  0   0   0]\n",
      " [372   0   0]\n",
      " [367   0   0]]\n"
     ]
    }
   ],
   "source": [
    "print(\"y_test: \", y_test_IBM)\n",
    "print(\" \")\n",
    "print(\"y_predict: \", y_pred_IBM)\n",
    "print(\" \")\n",
    "\n",
    "print(confusion_matrix(y_test_IBM, y_pred_IBM))\n",
    "\n"
   ]
  },
  {
   "cell_type": "code",
   "execution_count": 61,
   "id": "choice-mounting",
   "metadata": {},
   "outputs": [
    {
     "name": "stdout",
     "output_type": "stream",
     "text": [
      "feature:  0\n"
     ]
    }
   ],
   "source": [
    "print(\"feature: \", oner.feature_idx_)"
   ]
  },
  {
   "cell_type": "code",
   "execution_count": 62,
   "id": "coated-criterion",
   "metadata": {},
   "outputs": [
    {
     "name": "stdout",
     "output_type": "stream",
     "text": [
      "prediction_dict_:  {'total error': 0, 'rules (value: class)': {'2007-01-04': 1, '2007-01-05': 0, '2007-01-08': 1, '2007-01-09': 1, '2007-01-10': 0, '2007-01-11': 0, '2007-01-12': 1, '2007-01-17': 0, '2007-01-18': 0, '2007-01-22': 1, '2007-01-24': 1, '2007-01-25': 1, '2007-01-26': 0, '2007-01-29': 1, '2007-01-30': 1, '2007-01-31': 0, '2007-02-01': 0, '2007-02-02': 1, '2007-02-05': 1, '2007-02-06': 0, '2007-02-07': 0, '2007-02-08': 1, '2007-02-09': 0, '2007-02-12': 1, '2007-02-13': 0, '2007-02-15': 0, '2007-02-16': 1, '2007-02-20': 1, '2007-02-21': 0, '2007-02-22': 0, '2007-02-23': 0, '2007-02-26': 0, '2007-02-27': 0, '2007-02-28': 0, '2007-03-01': 0, '2007-03-06': 1, '2007-03-08': 0, '2007-03-09': 1, '2007-03-12': 1, '2007-03-13': 0, '2007-03-14': 1, '2007-03-15': 0, '2007-03-21': 1, '2007-03-23': 0, '2007-03-26': 0, '2007-03-27': 0, '2007-04-03': 1, '2007-04-09': 1, '2007-04-11': 0, '2007-04-12': 1, '2007-04-13': 0, '2007-04-16': 1, '2007-04-18': 0, '2007-04-19': 0, '2007-04-20': 1, '2007-04-23': 1, '2007-04-24': 1, '2007-04-26': 0, '2007-04-27': 1, '2007-04-30': 1, '2007-05-01': 1, '2007-05-02': 0, '2007-05-07': 1, '2007-05-08': 1, '2007-05-10': 1, '2007-05-14': 0, '2007-05-15': 0, '2007-05-16': 1, '2007-05-17': 0, '2007-05-18': 1, '2007-05-21': 0, '2007-05-22': 0, '2007-05-23': 0, '2007-05-29': 1, '2007-05-30': 1, '2007-05-31': 0, '2007-06-01': 0, '2007-06-04': 0, '2007-06-05': 0, '2007-06-06': 0, '2007-06-07': 0, '2007-06-08': 1, '2007-06-14': 1, '2007-06-15': 1, '2007-06-18': 1, '2007-06-19': 1, '2007-06-20': 0, '2007-06-22': 0, '2007-06-25': 1, '2007-06-26': 1, '2007-06-28': 1, '2007-06-29': 0, '2007-07-02': 0, '2007-07-03': 1, '2007-07-05': 1, '2007-07-09': 0, '2007-07-10': 0, '2007-07-12': 1, '2007-07-13': 0, '2007-07-16': 1, '2007-07-19': 1, '2007-07-20': 0, '2007-07-23': 1, '2007-07-24': 0, '2007-07-26': 0, '2007-07-27': 0, '2007-07-30': 0, '2007-07-31': 0, '2007-08-02': 1, '2007-08-03': 0, '2007-08-06': 1, '2007-08-07': 0, '2007-08-09': 0, '2007-08-10': 1, '2007-08-13': 1, '2007-08-14': 0, '2007-08-15': 0, '2007-08-16': 0, '2007-08-17': 1, '2007-08-20': 0, '2007-08-21': 0, '2007-08-22': 1, '2007-08-23': 1, '2007-08-24': 1, '2007-08-28': 0, '2007-08-29': 1, '2007-08-30': 1, '2007-08-31': 1, '2007-09-04': 1, '2007-09-06': 0, '2007-09-07': 0, '2007-09-10': 1, '2007-09-11': 1, '2007-09-12': 0, '2007-09-14': 0, '2007-09-17': 0, '2007-09-19': 1, '2007-09-20': 1, '2007-09-21': 0, '2007-09-24': 0, '2007-09-26': 1, '2007-09-27': 1, '2007-09-28': 1, '2007-10-01': 1, '2007-10-03': 0, '2007-10-04': 0, '2007-10-05': 1, '2007-10-08': 1, '2007-10-09': 1, '2007-10-10': 1, '2007-10-12': 0, '2007-10-15': 1, '2007-10-16': 1, '2007-10-18': 0, '2007-10-19': 0, '2007-10-22': 1, '2007-10-23': 1, '2007-10-24': 0, '2007-10-25': 0, '2007-10-26': 1, '2007-10-29': 1, '2007-10-30': 0, '2007-10-31': 1, '2007-11-02': 1, '2007-11-05': 0, '2007-11-06': 0, '2007-11-07': 0, '2007-11-08': 0, '2007-11-09': 0, '2007-11-12': 1, '2007-11-13': 1, '2007-11-14': 0, '2007-11-15': 1, '2007-11-16': 1, '2007-11-19': 0, '2007-11-20': 1, '2007-11-21': 0, '2007-11-23': 1, '2007-11-26': 0, '2007-11-27': 1, '2007-11-28': 1, '2007-11-30': 0, '2007-12-03': 1, '2007-12-04': 1, '2007-12-05': 1, '2007-12-06': 1, '2007-12-07': 0, '2007-12-10': 1, '2007-12-11': 0, '2007-12-12': 1, '2007-12-13': 0, '2007-12-14': 0, '2007-12-17': 0, '2007-12-18': 1, '2007-12-19': 1, '2007-12-20': 1, '2007-12-21': 1, '2007-12-24': 1, '2007-12-26': 0, '2007-12-27': 0, '2007-12-28': 1, '2007-12-31': 0, '2008-01-02': 0, '2008-01-03': 1, '2008-01-04': 0, '2008-01-07': 0, '2008-01-09': 1, '2008-01-10': 1, '2008-01-11': 0, '2008-01-15': 0, '2008-01-17': 0, '2008-01-18': 1, '2008-01-25': 0, '2008-01-28': 1, '2008-01-29': 1, '2008-01-31': 1, '2008-02-01': 1, '2008-02-05': 0, '2008-02-06': 0, '2008-02-07': 0, '2008-02-08': 1, '2008-02-11': 1, '2008-02-12': 1, '2008-02-14': 0, '2008-02-15': 1, '2008-02-20': 1, '2008-02-21': 0, '2008-02-22': 1, '2008-02-25': 1, '2008-02-26': 1, '2008-02-27': 1, '2008-02-28': 0, '2008-02-29': 0, '2008-03-04': 1, '2008-03-05': 0, '2008-03-07': 1, '2008-03-10': 1, '2008-03-11': 1, '2008-03-12': 1, '2008-03-13': 0, '2008-03-14': 0, '2008-03-17': 1, '2008-03-18': 1, '2008-03-19': 0, '2008-03-24': 1, '2008-03-25': 0, '2008-03-26': 0, '2008-03-27': 0, '2008-03-28': 0, '2008-04-01': 1, '2008-04-02': 0, '2008-04-03': 1, '2008-04-04': 0, '2008-04-09': 1, '2008-04-10': 1, '2008-04-11': 0, '2008-04-14': 1, '2008-04-15': 0, '2008-04-16': 1, '2008-04-17': 1, '2008-04-18': 1, '2008-04-21': 0, '2008-04-22': 0, '2008-04-23': 0, '2008-04-24': 1, '2008-04-25': 0, '2008-04-28': 0, '2008-04-29': 1, '2008-04-30': 0, '2008-05-02': 0, '2008-05-05': 0, '2008-05-06': 1, '2008-05-07': 1, '2008-05-08': 1, '2008-05-12': 1, '2008-05-14': 1, '2008-05-16': 0, '2008-05-19': 0, '2008-05-20': 0, '2008-05-21': 0, '2008-05-22': 1, '2008-05-27': 1, '2008-05-28': 1, '2008-05-30': 0, '2008-06-02': 0, '2008-06-03': 1, '2008-06-05': 1, '2008-06-06': 0, '2008-06-09': 1, '2008-06-10': 1, '2008-06-11': 0, '2008-06-12': 1, '2008-06-13': 1, '2008-06-16': 1, '2008-06-17': 0, '2008-06-18': 0, '2008-06-19': 1, '2008-06-20': 0, '2008-06-23': 1, '2008-06-24': 0, '2008-06-26': 0, '2008-06-27': 0, '2008-06-30': 0, '2008-07-01': 1, '2008-07-02': 0, '2008-07-03': 1, '2008-07-08': 1, '2008-07-10': 1, '2008-07-11': 0, '2008-07-14': 0, '2008-07-16': 1, '2008-07-17': 1, '2008-07-18': 1, '2008-07-21': 0, '2008-07-23': 0, '2008-07-24': 1, '2008-07-25': 0, '2008-07-28': 0, '2008-07-29': 1, '2008-07-30': 1, '2008-08-04': 1, '2008-08-06': 1, '2008-08-07': 0, '2008-08-08': 0, '2008-08-13': 1, '2008-08-15': 0, '2008-08-20': 0, '2008-08-21': 1, '2008-08-22': 1, '2008-08-26': 0, '2008-08-29': 0, '2008-09-02': 0, '2008-09-03': 0, '2008-09-04': 0, '2008-09-05': 0, '2008-09-08': 1, '2008-09-09': 0, '2008-09-10': 1, '2008-09-11': 1, '2008-09-12': 0, '2008-09-15': 0, '2008-09-16': 1, '2008-09-17': 0, '2008-09-18': 1, '2008-09-19': 1, '2008-09-22': 0, '2008-09-23': 0, '2008-09-24': 1, '2008-09-25': 1, '2008-09-30': 1, '2008-10-01': 0, '2008-10-02': 0, '2008-10-06': 0, '2008-10-07': 0, '2008-10-08': 0, '2008-10-09': 0, '2008-10-13': 1, '2008-10-14': 1, '2008-10-15': 0, '2008-10-16': 1, '2008-10-17': 0, '2008-10-20': 1, '2008-10-21': 0, '2008-10-23': 1, '2008-10-24': 0, '2008-10-27': 0, '2008-10-28': 1, '2008-10-29': 1, '2008-10-30': 1, '2008-10-31': 1, '2008-11-03': 0, '2008-11-04': 1, '2008-11-05': 0, '2008-11-06': 0, '2008-11-10': 0, '2008-11-11': 0, '2008-11-12': 0, '2008-11-13': 1, '2008-11-14': 0, '2008-11-17': 0, '2008-11-18': 1, '2008-11-19': 0, '2008-11-20': 0, '2008-11-21': 1, '2008-11-25': 1, '2008-11-26': 1, '2008-11-28': 0, '2008-12-01': 0, '2008-12-02': 1, '2008-12-03': 1, '2008-12-04': 0, '2008-12-05': 1, '2008-12-09': 0, '2008-12-10': 1, '2008-12-11': 0, '2008-12-12': 1, '2008-12-16': 1, '2008-12-18': 0, '2008-12-19': 0, '2008-12-22': 0, '2008-12-23': 0, '2008-12-24': 0, '2008-12-26': 1, '2008-12-29': 0, '2008-12-30': 1, '2008-12-31': 1, '2009-01-02': 1, '2009-01-05': 0, '2009-01-06': 1, '2009-01-09': 0, '2009-01-12': 1, '2009-01-13': 0, '2009-01-14': 0, '2009-01-15': 1, '2009-01-16': 1, '2009-01-20': 0, '2009-01-21': 1, '2009-01-22': 0, '2009-01-23': 0, '2009-01-27': 1, '2009-01-28': 1, '2009-01-29': 0, '2009-02-02': 0, '2009-02-03': 1, '2009-02-05': 0, '2009-02-06': 1, '2009-02-10': 0, '2009-02-11': 1, '2009-02-12': 0, '2009-02-17': 0, '2009-02-18': 1, '2009-02-23': 0, '2009-02-24': 1, '2009-02-25': 0, '2009-02-26': 1, '2009-02-27': 1, '2009-03-03': 0, '2009-03-04': 1, '2009-03-06': 0, '2009-03-10': 1, '2009-03-11': 1, '2009-03-12': 1, '2009-03-13': 0, '2009-03-16': 1, '2009-03-17': 1, '2009-03-18': 0, '2009-03-19': 1, '2009-03-23': 1, '2009-03-25': 0, '2009-03-26': 1, '2009-03-27': 0, '2009-03-30': 1, '2009-03-31': 1, '2009-04-01': 1, '2009-04-02': 1, '2009-04-03': 1, '2009-04-06': 0, '2009-04-07': 0, '2009-04-08': 1, '2009-04-09': 1, '2009-04-14': 0, '2009-04-15': 0, '2009-04-16': 1, '2009-04-17': 0, '2009-04-20': 0, '2009-04-21': 1, '2009-04-24': 0, '2009-04-27': 0, '2009-04-28': 1, '2009-04-29': 1, '2009-04-30': 0, '2009-05-01': 1, '2009-05-04': 1, '2009-05-05': 0, '2009-05-08': 0, '2009-05-11': 1, '2009-05-12': 1, '2009-05-13': 0, '2009-05-14': 0, '2009-05-15': 1, '2009-05-18': 1, '2009-05-19': 1, '2009-05-20': 0, '2009-05-21': 0, '2009-05-22': 0, '2009-05-27': 0, '2009-05-28': 1, '2009-05-29': 1, '2009-06-01': 1, '2009-06-02': 0, '2009-06-03': 0, '2009-06-04': 0, '2009-06-05': 1, '2009-06-08': 1, '2009-06-09': 1, '2009-06-10': 1, '2009-06-11': 1, '2009-06-16': 0, '2009-06-18': 0, '2009-06-19': 0, '2009-06-22': 0, '2009-06-23': 0, '2009-06-24': 0, '2009-06-26': 0, '2009-06-30': 0, '2009-07-01': 1, '2009-07-02': 0, '2009-07-06': 0, '2009-07-07': 0, '2009-07-08': 1, '2009-07-09': 1, '2009-07-10': 0, '2009-07-13': 1, '2009-07-14': 0, '2009-07-15': 1, '2009-07-16': 1, '2009-07-17': 1, '2009-07-20': 1, '2009-07-21': 1, '2009-07-22': 0, '2009-07-23': 1, '2009-07-27': 0, '2009-07-28': 0, '2009-07-29': 0, '2009-07-31': 1, '2009-08-03': 1, '2009-08-04': 0, '2009-08-05': 0, '2009-08-06': 0, '2009-08-11': 0, '2009-08-12': 1, '2009-08-14': 0, '2009-08-18': 1, '2009-08-19': 1, '2009-08-20': 1, '2009-08-21': 1, '2009-08-24': 0, '2009-08-25': 0, '2009-08-26': 1, '2009-08-27': 0, '2009-08-28': 0, '2009-08-31': 0, '2009-09-02': 0, '2009-09-03': 1, '2009-09-04': 1, '2009-09-08': 0, '2009-09-09': 0, '2009-09-10': 1, '2009-09-14': 1, '2009-09-15': 1, '2009-09-16': 1, '2009-09-18': 1, '2009-09-21': 0, '2009-09-23': 0, '2009-09-25': 1, '2009-09-28': 0, '2009-09-29': 0, '2009-09-30': 1, '2009-10-02': 1, '2009-10-05': 1, '2009-10-06': 1, '2009-10-08': 0, '2009-10-09': 1, '2009-10-12': 1, '2009-10-14': 1, '2009-10-15': 0, '2009-10-16': 0, '2009-10-19': 1, '2009-10-20': 0, '2009-10-22': 1, '2009-10-23': 0, '2009-10-26': 0, '2009-10-29': 1, '2009-10-30': 0, '2009-11-02': 0, '2009-11-03': 1, '2009-11-04': 1, '2009-11-05': 1, '2009-11-06': 1, '2009-11-10': 1, '2009-11-11': 1, '2009-11-12': 0, '2009-11-13': 1, '2009-11-16': 1, '2009-11-17': 1, '2009-11-18': 0, '2009-11-23': 1, '2009-11-24': 0, '2009-11-27': 0, '2009-11-30': 1, '2009-12-01': 1, '2009-12-03': 1, '2009-12-04': 0, '2009-12-07': 0, '2009-12-08': 0, '2009-12-09': 1, '2009-12-10': 1, '2009-12-11': 1, '2009-12-14': 1, '2009-12-15': 0, '2009-12-16': 1, '2009-12-18': 1, '2009-12-21': 1, '2009-12-22': 1, '2009-12-23': 1, '2009-12-28': 1, '2009-12-29': 0, '2009-12-30': 1, '2009-12-31': 0, '2010-01-04': 1, '2010-01-06': 0, '2010-01-07': 0, '2010-01-08': 1, '2010-01-12': 1, '2010-01-13': 0, '2010-01-14': 1, '2010-01-15': 0, '2010-01-19': 1, '2010-01-20': 0, '2010-01-21': 0, '2010-01-22': 0, '2010-01-26': 0, '2010-01-27': 1, '2010-01-28': 0, '2010-02-01': 1, '2010-02-03': 1, '2010-02-04': 0, '2010-02-05': 1, '2010-02-08': 0, '2010-02-09': 1, '2010-02-10': 0, '2010-02-11': 1, '2010-02-16': 1, '2010-02-17': 1, '2010-02-19': 0, '2010-02-22': 0, '2010-02-24': 1, '2010-02-25': 0, '2010-02-26': 1, '2010-03-01': 1, '2010-03-02': 0, '2010-03-03': 0, '2010-03-04': 0, '2010-03-05': 1, '2010-03-08': 0, '2010-03-09': 0, '2010-03-10': 1, '2010-03-11': 1, '2010-03-12': 1, '2010-03-15': 0, '2010-03-16': 1, '2010-03-17': 0, '2010-03-18': 1, '2010-03-19': 0, '2010-03-22': 1, '2010-03-24': 0, '2010-03-25': 1, '2010-03-26': 1, '2010-03-29': 0, '2010-03-30': 1, '2010-03-31': 0, '2010-04-01': 0, '2010-04-05': 1, '2010-04-06': 0, '2010-04-07': 0, '2010-04-08': 0, '2010-04-12': 0, '2010-04-13': 1, '2010-04-14': 1, '2010-04-15': 0, '2010-04-16': 0, '2010-04-19': 1, '2010-04-21': 0, '2010-04-22': 1, '2010-04-23': 1, '2010-04-26': 1, '2010-04-27': 0, '2010-04-29': 1, '2010-04-30': 0, '2010-05-03': 1, '2010-05-04': 0, '2010-05-05': 0, '2010-05-06': 0, '2010-05-07': 0, '2010-05-10': 1, '2010-05-12': 1, '2010-05-13': 0, '2010-05-14': 0, '2010-05-17': 0, '2010-05-18': 0, '2010-05-19': 0, '2010-05-21': 1, '2010-05-24': 0, '2010-05-25': 1, '2010-05-26': 0, '2010-05-27': 1, '2010-05-28': 0, '2010-06-01': 0, '2010-06-08': 0, '2010-06-09': 1, '2010-06-11': 1, '2010-06-14': 1, '2010-06-15': 1, '2010-06-16': 1, '2010-06-17': 1, '2010-06-21': 1, '2010-06-22': 0, '2010-06-24': 0, '2010-06-25': 0, '2010-06-28': 1, '2010-06-29': 0, '2010-06-30': 0, '2010-07-01': 0, '2010-07-02': 0, '2010-07-07': 1, '2010-07-08': 1, '2010-07-09': 0, '2010-07-12': 1, '2010-07-13': 1, '2010-07-14': 1, '2010-07-15': 0, '2010-07-16': 0, '2010-07-19': 1, '2010-07-21': 0, '2010-07-22': 1, '2010-07-23': 1, '2010-07-26': 1, '2010-07-27': 1, '2010-07-28': 0, '2010-07-29': 0, '2010-07-30': 1, '2010-08-03': 0, '2010-08-04': 1, '2010-08-05': 1, '2010-08-06': 0, '2010-08-09': 1, '2010-08-11': 0, '2010-08-12': 0, '2010-08-13': 0, '2010-08-17': 1, '2010-08-18': 1, '2010-08-19': 0, '2010-08-20': 0, '2010-08-23': 0, '2010-08-24': 0, '2010-08-25': 1, '2010-08-26': 0, '2010-08-30': 0, '2010-08-31': 0, '2010-09-01': 1, '2010-09-02': 0, '2010-09-03': 1, '2010-09-07': 0, '2010-09-09': 1, '2010-09-10': 1, '2010-09-13': 1, '2010-09-14': 0, '2010-09-16': 1, '2010-09-17': 1, '2010-09-20': 1, '2010-09-21': 1, '2010-09-22': 1, '2010-09-23': 0, '2010-09-24': 1, '2010-09-27': 1, '2010-09-30': 0, '2010-10-04': 0, '2010-10-06': 1, '2010-10-07': 1, '2010-10-08': 1, '2010-10-11': 1, '2010-10-12': 1, '2010-10-13': 1, '2010-10-14': 1, '2010-10-15': 0, '2010-10-19': 0, '2010-10-20': 1, '2010-10-22': 0, '2010-10-25': 1, '2010-10-26': 1, '2010-10-27': 1, '2010-10-28': 0, '2010-10-29': 1, '2010-11-01': 0, '2010-11-02': 1, '2010-11-03': 1, '2010-11-05': 1, '2010-11-08': 0, '2010-11-09': 0, '2010-11-11': 0, '2010-11-12': 0, '2010-11-16': 0, '2010-11-18': 1, '2010-11-19': 1, '2010-11-22': 1, '2010-11-23': 0, '2010-11-24': 1, '2010-11-26': 0, '2010-11-29': 0, '2010-11-30': 0, '2010-12-01': 1, '2010-12-02': 1, '2010-12-03': 1, '2010-12-08': 1, '2010-12-09': 0, '2010-12-10': 1, '2010-12-13': 0, '2010-12-14': 1, '2010-12-15': 0, '2010-12-17': 1, '2010-12-20': 0, '2010-12-21': 1, '2010-12-22': 1, '2010-12-23': 0, '2010-12-27': 0, '2010-12-28': 1, '2010-12-30': 1, '2010-12-31': 1, '2011-01-03': 1, '2011-01-04': 1, '2011-01-05': 0, '2011-01-06': 1, '2011-01-10': 0, '2011-01-11': 0, '2011-01-12': 1, '2011-01-14': 1, '2011-01-18': 1, '2011-01-20': 1, '2011-01-21': 0, '2011-01-24': 1, '2011-01-26': 0, '2011-01-27': 1, '2011-01-31': 1, '2011-02-02': 0, '2011-02-03': 1, '2011-02-09': 0, '2011-02-11': 0, '2011-02-14': 0, '2011-02-15': 0, '2011-02-18': 1, '2011-02-22': 0, '2011-02-28': 0, '2011-03-02': 1, '2011-03-03': 1, '2011-03-04': 0, '2011-03-08': 1, '2011-03-09': 1, '2011-03-10': 0, '2011-03-11': 1, '2011-03-14': 0, '2011-03-15': 0, '2011-03-16': 0, '2011-03-17': 1, '2011-03-18': 1, '2011-03-21': 1, '2011-03-22': 1, '2011-03-23': 1, '2011-03-28': 0, '2011-03-29': 1, '2011-03-30': 1, '2011-03-31': 0, '2011-04-01': 1, '2011-04-06': 1, '2011-04-08': 0, '2011-04-11': 0, '2011-04-12': 0, '2011-04-14': 1, '2011-04-19': 0, '2011-04-20': 0, '2011-04-21': 1, '2011-04-25': 0, '2011-04-26': 1, '2011-04-27': 1, '2011-04-28': 1, '2011-04-29': 0, '2011-05-02': 1, '2011-05-03': 1, '2011-05-04': 0, '2011-05-05': 0, '2011-05-09': 1, '2011-05-10': 1, '2011-05-12': 1, '2011-05-13': 0, '2011-05-16': 0, '2011-05-18': 0, '2011-05-20': 0, '2011-05-24': 0, '2011-05-25': 0, '2011-05-26': 0, '2011-05-27': 1, '2011-06-01': 0, '2011-06-02': 0, '2011-06-03': 0, '2011-06-06': 0, '2011-06-07': 0, '2011-06-09': 1, '2011-06-13': 0, '2011-06-14': 1, '2011-06-15': 0, '2011-06-16': 1, '2011-06-20': 1, '2011-06-21': 1, '2011-06-22': 0, '2011-06-23': 1, '2011-06-27': 1, '2011-06-28': 1, '2011-06-29': 1, '2011-06-30': 1, '2011-07-01': 1, '2011-07-05': 1, '2011-07-06': 1, '2011-07-07': 0, '2011-07-08': 1, '2011-07-11': 0, '2011-07-12': 0, '2011-07-14': 0, '2011-07-15': 1, '2011-07-18': 0, '2011-07-19': 1, '2011-07-20': 0, '2011-07-21': 1, '2011-07-22': 1, '2011-07-25': 0, '2011-07-26': 0, '2011-07-27': 0, '2011-07-29': 1, '2011-08-01': 0, '2011-08-02': 0, '2011-08-03': 1, '2011-08-04': 0, '2011-08-05': 1, '2011-08-09': 1, '2011-08-10': 0, '2011-08-11': 1, '2011-08-12': 1, '2011-08-15': 1, '2011-08-16': 0, '2011-08-17': 1, '2011-08-18': 0, '2011-08-22': 1, '2011-08-23': 1, '2011-08-24': 1, '2011-08-25': 0, '2011-08-26': 1, '2011-08-30': 0, '2011-09-01': 0, '2011-09-02': 0, '2011-09-06': 0, '2011-09-08': 0, '2011-09-13': 1, '2011-09-15': 1, '2011-09-19': 1, '2011-09-20': 1, '2011-09-22': 0, '2011-09-23': 1, '2011-09-26': 1, '2011-09-27': 1, '2011-09-28': 0, '2011-09-29': 1, '2011-09-30': 0, '2011-10-04': 1, '2011-10-05': 1, '2011-10-06': 1, '2011-10-10': 1, '2011-10-11': 0, '2011-10-13': 1, '2011-10-14': 1, '2011-10-17': 0, '2011-10-18': 0, '2011-10-19': 0, '2011-10-20': 0, '2011-10-21': 1, '2011-10-24': 1, '2011-10-25': 0, '2011-10-26': 1, '2011-10-27': 1, '2011-10-28': 1, '2011-11-01': 0, '2011-11-02': 1, '2011-11-04': 0, '2011-11-07': 1, '2011-11-09': 0, '2011-11-10': 1, '2011-11-14': 0, '2011-11-15': 1, '2011-11-16': 0, '2011-11-18': 0, '2011-11-21': 0, '2011-11-22': 0, '2011-11-23': 0, '2011-11-25': 0, '2011-11-29': 0, '2011-11-30': 1, '2011-12-01': 1, '2011-12-06': 1, '2011-12-07': 1, '2011-12-08': 0, '2011-12-09': 1, '2011-12-12': 0, '2011-12-14': 0, '2011-12-19': 0, '2011-12-20': 1, '2011-12-21': 0, '2011-12-22': 1, '2011-12-23': 1, '2011-12-27': 1, '2011-12-28': 0, '2012-01-03': 1, '2012-01-04': 0, '2012-01-05': 0, '2012-01-06': 0, '2012-01-09': 0, '2012-01-10': 0, '2012-01-11': 1, '2012-01-12': 0, '2012-01-13': 0, '2012-01-17': 1, '2012-01-18': 1, '2012-01-19': 0, '2012-01-20': 1, '2012-01-23': 1, '2012-01-24': 1, '2012-01-25': 0, '2012-01-26': 0, '2012-01-27': 0, '2012-01-30': 1, '2012-01-31': 1, '2012-02-01': 1, '2012-02-02': 0, '2012-02-03': 1, '2012-02-07': 1, '2012-02-08': 0, '2012-02-09': 1, '2012-02-10': 0, '2012-02-13': 1, '2012-02-14': 0, '2012-02-15': 1, '2012-02-16': 1, '2012-02-21': 0, '2012-02-22': 1, '2012-02-23': 1, '2012-02-24': 1, '2012-02-27': 0, '2012-02-28': 1, '2012-02-29': 0, '2012-03-01': 1, '2012-03-02': 1, '2012-03-05': 1, '2012-03-07': 1, '2012-03-08': 1, '2012-03-13': 1, '2012-03-14': 1, '2012-03-15': 1, '2012-03-16': 0, '2012-03-19': 0, '2012-03-21': 1, '2012-03-22': 1, '2012-03-27': 0, '2012-03-28': 1, '2012-03-30': 1, '2012-04-02': 1, '2012-04-03': 1, '2012-04-04': 0, '2012-04-05': 0, '2012-04-09': 0, '2012-04-10': 0, '2012-04-11': 1, '2012-04-12': 1, '2012-04-13': 0, '2012-04-16': 0, '2012-04-17': 1, '2012-04-19': 0, '2012-04-20': 1, '2012-04-23': 0, '2012-04-24': 1, '2012-04-25': 1, '2012-04-26': 1, '2012-04-27': 1, '2012-04-30': 1, '2012-05-01': 1, '2012-05-02': 1, '2012-05-03': 0, '2012-05-08': 0, '2012-05-09': 0, '2012-05-10': 0, '2012-05-11': 1, '2012-05-14': 0, '2012-05-16': 1, '2012-05-17': 0, '2012-05-21': 1, '2012-05-22': 0, '2012-05-23': 0, '2012-05-24': 0, '2012-05-25': 0, '2012-05-29': 1, '2012-05-30': 0, '2012-05-31': 0, '2012-06-01': 0, '2012-06-04': 0, '2012-06-07': 1, '2012-06-08': 1, '2012-06-11': 0, '2012-06-13': 0, '2012-06-14': 1, '2012-06-15': 1, '2012-06-18': 0, '2012-06-19': 1, '2012-06-21': 0, '2012-06-22': 1, '2012-06-25': 0, '2012-06-26': 0, '2012-06-27': 1, '2012-06-28': 0, '2012-06-29': 1, '2012-07-02': 1, '2012-07-03': 1, '2012-07-05': 0, '2012-07-06': 0, '2012-07-10': 0, '2012-07-11': 0, '2012-07-12': 0, '2012-07-13': 1, '2012-07-16': 0, '2012-07-17': 0, '2012-07-18': 1, '2012-07-19': 1, '2012-07-20': 0, '2012-07-23': 0, '2012-07-24': 0, '2012-07-26': 1, '2012-07-30': 1, '2012-07-31': 0, '2012-08-02': 0, '2012-08-03': 1, '2012-08-07': 1, '2012-08-08': 0, '2012-08-09': 0, '2012-08-10': 1, '2012-08-13': 0, '2012-08-14': 0, '2012-08-15': 1, '2012-08-16': 1, '2012-08-20': 0, '2012-08-21': 0, '2012-08-23': 0, '2012-08-24': 1, '2012-08-27': 0, '2012-08-28': 0, '2012-08-29': 1, '2012-08-30': 0, '2012-08-31': 1, '2012-09-04': 0, '2012-09-05': 1, '2012-09-06': 1, '2012-09-07': 1, '2012-09-10': 1, '2012-09-11': 1, '2012-09-12': 1, '2012-09-13': 1, '2012-09-14': 1, '2012-09-17': 1, '2012-09-18': 0, '2012-09-19': 0, '2012-09-20': 0, '2012-09-24': 0, '2012-09-25': 0, '2012-09-26': 0, '2012-09-27': 1, '2012-09-28': 1, '2012-10-01': 1, '2012-10-02': 0, '2012-10-04': 0, '2012-10-09': 0, '2012-10-10': 0, '2012-10-11': 0, '2012-10-12': 1, '2012-10-15': 1, '2012-10-16': 1, '2012-10-17': 0, '2012-10-18': 0, '2012-10-19': 0, '2012-10-22': 1, '2012-10-23': 0, '2012-10-24': 0, '2012-10-26': 1, '2012-11-01': 1, '2012-11-05': 1, '2012-11-06': 1, '2012-11-07': 0, '2012-11-08': 0, '2012-11-09': 0, '2012-11-13': 0, '2012-11-14': 0, '2012-11-16': 1, '2012-11-20': 0, '2012-11-21': 1, '2012-11-23': 1, '2012-11-26': 0, '2012-11-27': 0, '2012-11-28': 1, '2012-11-29': 0, '2012-11-30': 0, '2012-12-03': 0, '2012-12-04': 0, '2012-12-05': 0, '2012-12-06': 1, '2012-12-07': 1, '2012-12-10': 1, '2012-12-11': 1, '2012-12-12': 0, '2012-12-13': 0, '2012-12-14': 0, '2012-12-17': 1, '2012-12-18': 1, '2012-12-19': 0, '2012-12-20': 0, '2012-12-21': 0, '2012-12-24': 0, '2012-12-26': 0, '2012-12-27': 1, '2012-12-28': 0, '2012-12-31': 1, '2013-01-02': 1, '2013-01-08': 0, '2013-01-09': 0, '2013-01-10': 1, '2013-01-11': 1, '2013-01-14': 0, '2013-01-15': 0, '2013-01-16': 1, '2013-01-17': 1, '2013-01-18': 1, '2013-01-22': 1, '2013-01-23': 1, '2013-01-28': 0, '2013-01-30': 0, '2013-01-31': 0, '2013-02-05': 0, '2013-02-06': 0, '2013-02-07': 0, '2013-02-08': 1, '2013-02-11': 0, '2013-02-12': 0, '2013-02-13': 1, '2013-02-14': 0, '2013-02-20': 0, '2013-02-21': 0, '2013-02-22': 1, '2013-02-25': 0, '2013-02-26': 1, '2013-02-27': 1, '2013-03-01': 1, '2013-03-04': 1, '2013-03-06': 1, '2013-03-07': 1, '2013-03-08': 1, '2013-03-11': 0, '2013-03-12': 1, '2013-03-15': 0, '2013-03-18': 0, '2013-03-19': 1, '2013-03-20': 1, '2013-03-21': 0, '2013-03-22': 0, '2013-03-25': 0, '2013-03-26': 1, '2013-03-27': 0, '2013-03-28': 1, '2013-04-01': 0, '2013-04-02': 1, '2013-04-04': 0, '2013-04-05': 0, '2013-04-08': 0, '2013-04-09': 0, '2013-04-10': 1, '2013-04-11': 1, '2013-04-12': 0, '2013-04-16': 1, '2013-04-17': 0, '2013-04-18': 0, '2013-04-19': 0, '2013-04-22': 0, '2013-04-23': 1, '2013-04-24': 1, '2013-04-26': 1, '2013-04-30': 1, '2013-05-01': 0, '2013-05-02': 1, '2013-05-03': 1, '2013-05-06': 0, '2013-05-07': 1, '2013-05-08': 1, '2013-05-09': 0, '2013-05-10': 1, '2013-05-13': 0, '2013-05-14': 1, '2013-05-15': 1, '2013-05-16': 1, '2013-05-17': 1, '2013-05-20': 0, '2013-05-21': 1, '2013-05-22': 0, '2013-05-23': 0, '2013-05-28': 1, '2013-05-29': 1, '2013-05-30': 1, '2013-05-31': 0, '2013-06-03': 1, '2013-06-04': 0, '2013-06-05': 0, '2013-06-06': 1, '2013-06-07': 1, '2013-06-10': 0, '2013-06-11': 0, '2013-06-12': 0, '2013-06-13': 1, '2013-06-14': 0, '2013-06-17': 1, '2013-06-18': 1, '2013-06-19': 0, '2013-06-20': 0, '2013-06-24': 0, '2013-06-26': 0, '2013-06-28': 0, '2013-07-01': 1, '2013-07-02': 1, '2013-07-03': 1, '2013-07-05': 1, '2013-07-08': 1, '2013-07-09': 0, '2013-07-10': 1, '2013-07-11': 1, '2013-07-15': 1, '2013-07-16': 0, '2013-07-17': 1, '2013-07-18': 1, '2013-07-19': 0, '2013-07-22': 1, '2013-07-23': 1, '2013-07-24': 1, '2013-07-25': 1, '2013-07-29': 0, '2013-07-30': 0, '2013-07-31': 0, '2013-08-01': 1, '2013-08-02': 0, '2013-08-06': 0, '2013-08-07': 0, '2013-08-08': 0, '2013-08-09': 0, '2013-08-12': 1, '2013-08-13': 0, '2013-08-14': 0, '2013-08-15': 0, '2013-08-20': 1, '2013-08-21': 1, '2013-08-23': 1, '2013-08-26': 0, '2013-08-27': 0, '2013-08-28': 0, '2013-08-29': 1, '2013-08-30': 0, '2013-09-03': 1, '2013-09-06': 0, '2013-09-09': 1, '2013-09-12': 1, '2013-09-16': 1, '2013-09-18': 1, '2013-09-19': 0, '2013-09-20': 0, '2013-09-24': 0, '2013-09-26': 1, '2013-10-01': 1, '2013-10-02': 0, '2013-10-03': 0, '2013-10-04': 1, '2013-10-08': 0, '2013-10-09': 1, '2013-10-10': 1, '2013-10-11': 1, '2013-10-14': 1, '2013-10-15': 0, '2013-10-16': 1, '2013-10-17': 0, '2013-10-18': 0, '2013-10-22': 1, '2013-10-23': 1, '2013-10-24': 1, '2013-10-25': 0, '2013-10-28': 1, '2013-10-30': 0, '2013-10-31': 0, '2013-11-01': 1, '2013-11-04': 1, '2013-11-06': 1, '2013-11-08': 0, '2013-11-11': 1, '2013-11-12': 1, '2013-11-13': 1, '2013-11-14': 0, '2013-11-15': 1, '2013-11-18': 1, '2013-11-19': 1, '2013-11-21': 0, '2013-11-22': 0, '2013-11-25': 0, '2013-11-26': 0, '2013-11-29': 1, '2013-12-02': 0, '2013-12-03': 0, '2013-12-04': 0, '2013-12-09': 0, '2013-12-10': 0, '2013-12-11': 0, '2013-12-12': 0, '2013-12-17': 0, '2013-12-18': 1, '2013-12-19': 1, '2013-12-24': 1, '2013-12-26': 1, '2013-12-27': 0, '2013-12-30': 1, '2013-12-31': 1, '2014-01-02': 0, '2014-01-03': 1, '2014-01-06': 0, '2014-01-07': 1, '2014-01-08': 0, '2014-01-09': 0, '2014-01-10': 0, '2014-01-13': 0, '2014-01-15': 1, '2014-01-16': 1, '2014-01-17': 1, '2014-01-24': 0, '2014-01-27': 0, '2014-01-28': 0, '2014-01-29': 0, '2014-01-30': 1, '2014-01-31': 0, '2014-02-03': 0, '2014-02-04': 0, '2014-02-05': 1, '2014-02-06': 1, '2014-02-07': 1, '2014-02-10': 0, '2014-02-11': 1, '2014-02-12': 1, '2014-02-13': 1, '2014-02-19': 0, '2014-02-21': 0, '2014-02-24': 1, '2014-02-25': 0, '2014-02-27': 1, '2014-02-28': 0, '2014-03-03': 0, '2014-03-04': 1, '2014-03-05': 1, '2014-03-06': 1, '2014-03-07': 1, '2014-03-10': 0, '2014-03-11': 1, '2014-03-12': 0, '2014-03-17': 1, '2014-03-18': 1, '2014-03-19': 0, '2014-03-20': 1, '2014-03-21': 0, '2014-03-25': 1, '2014-03-31': 1, '2014-04-01': 1, '2014-04-02': 0, '2014-04-03': 0, '2014-04-04': 0, '2014-04-07': 1, '2014-04-08': 0, '2014-04-09': 1, '2014-04-14': 1, '2014-04-16': 0, '2014-04-17': 0, '2014-04-21': 1, '2014-04-22': 0, '2014-04-23': 0, '2014-04-24': 0, '2014-04-25': 0, '2014-04-28': 1, '2014-04-29': 1, '2014-04-30': 1, '2014-05-01': 0, '2014-05-02': 0, '2014-05-05': 0, '2014-05-06': 0, '2014-05-08': 0, '2014-05-09': 1, '2014-05-12': 1, '2014-05-13': 0, '2014-05-14': 0, '2014-05-15': 0, '2014-05-16': 1, '2014-05-20': 0, '2014-05-21': 1, '2014-05-22': 0, '2014-05-23': 1, '2014-05-27': 0, '2014-05-28': 0, '2014-05-29': 1, '2014-05-30': 1, '2014-06-02': 1, '2014-06-04': 1, '2014-06-06': 1, '2014-06-09': 0, '2014-06-10': 0, '2014-06-11': 0, '2014-06-12': 0, '2014-06-13': 1, '2014-06-16': 0, '2014-06-17': 0, '2014-06-18': 1, '2014-06-19': 0, '2014-06-20': 0, '2014-06-23': 1, '2014-06-24': 0, '2014-06-25': 0, '2014-06-26': 0, '2014-06-27': 1, '2014-06-30': 0, '2014-07-02': 1, '2014-07-03': 1, '2014-07-07': 0, '2014-07-08': 0, '2014-07-09': 1, '2014-07-10': 0, '2014-07-11': 1, '2014-07-14': 1, '2014-07-15': 0, '2014-07-16': 1, '2014-07-17': 1, '2014-07-18': 1, '2014-07-21': 0, '2014-07-22': 1, '2014-07-23': 0, '2014-07-24': 1, '2014-07-31': 0, '2014-08-01': 0, '2014-08-04': 1, '2014-08-05': 0, '2014-08-06': 0, '2014-08-07': 0, '2014-08-08': 1, '2014-08-12': 0, '2014-08-15': 0, '2014-08-18': 1, '2014-08-19': 1, '2014-08-20': 1, '2014-08-25': 1, '2014-08-26': 1, '2014-08-27': 0, '2014-08-28': 0, '2014-08-29': 1, '2014-09-02': 0, '2014-09-05': 1, '2014-09-08': 0, '2014-09-10': 1, '2014-09-11': 1, '2014-09-12': 0, '2014-09-15': 1, '2014-09-16': 1, '2014-09-17': 0, '2014-09-18': 1, '2014-09-19': 1, '2014-09-22': 0, '2014-09-24': 1, '2014-09-25': 0, '2014-09-26': 1, '2014-09-29': 0, '2014-09-30': 1, '2014-10-01': 0, '2014-10-03': 1, '2014-10-06': 1, '2014-10-08': 1, '2014-10-09': 0, '2014-10-13': 0, '2014-10-14': 1, '2014-10-15': 0, '2014-10-16': 0, '2014-10-21': 0, '2014-10-22': 0, '2014-10-24': 0, '2014-10-27': 0, '2014-10-28': 1, '2014-10-29': 0, '2014-10-30': 1, '2014-10-31': 1, '2014-11-03': 0, '2014-11-04': 0, '2014-11-05': 0, '2014-11-06': 0, '2014-11-07': 1, '2014-11-10': 1, '2014-11-11': 0, '2014-11-12': 0, '2014-11-13': 1, '2014-11-14': 1, '2014-11-17': 0, '2014-11-18': 0, '2014-11-21': 1, '2014-11-25': 0, '2014-11-26': 1, '2014-11-28': 1, '2014-12-01': 0, '2014-12-02': 1, '2014-12-03': 1, '2014-12-04': 0, '2014-12-05': 0, '2014-12-08': 0, '2014-12-09': 1, '2014-12-10': 0, '2014-12-12': 0, '2014-12-15': 0, '2014-12-16': 0, '2014-12-17': 1, '2014-12-18': 1, '2014-12-19': 1, '2014-12-22': 1, '2014-12-24': 0, '2014-12-26': 1, '2014-12-29': 0, '2015-01-05': 0, '2015-01-06': 0, '2015-01-09': 1, '2015-01-12': 0, '2015-01-13': 1, '2015-01-15': 0, '2015-01-16': 1, '2015-01-20': 0, '2015-01-22': 1, '2015-01-26': 1, '2015-01-27': 0, '2015-01-28': 0, '2015-01-29': 1, '2015-01-30': 0, '2015-02-02': 1, '2015-02-03': 1, '2015-02-04': 0, '2015-02-05': 1, '2015-02-06': 0, '2015-02-09': 0, '2015-02-10': 1, '2015-02-11': 0, '2015-02-12': 1, '2015-02-17': 1, '2015-02-18': 1, '2015-02-19': 1, '2015-02-20': 0, '2015-02-23': 0, '2015-02-24': 1, '2015-02-26': 0, '2015-02-27': 1, '2015-03-02': 0, '2015-03-03': 1, '2015-03-05': 1, '2015-03-06': 0, '2015-03-09': 1, '2015-03-11': 0, '2015-03-12': 1, '2015-03-13': 0, '2015-03-16': 1, '2015-03-17': 0, '2015-03-18': 1, '2015-03-19': 0, '2015-03-20': 1, '2015-03-23': 1, '2015-03-25': 0, '2015-03-27': 0, '2015-03-30': 1, '2015-03-31': 0, '2015-04-02': 1, '2015-04-06': 1, '2015-04-07': 1, '2015-04-08': 0, '2015-04-09': 1, '2015-04-10': 1, '2015-04-13': 0, '2015-04-14': 0, '2015-04-15': 1, '2015-04-16': 0, '2015-04-20': 1, '2015-04-21': 0, '2015-04-22': 1, '2015-04-23': 1, '2015-04-24': 0, '2015-04-27': 1, '2015-04-28': 1, '2015-04-29': 1, '2015-04-30': 0, '2015-05-01': 1, '2015-05-04': 1, '2015-05-05': 0, '2015-05-06': 0, '2015-05-07': 1, '2015-05-08': 1, '2015-05-11': 0, '2015-05-12': 0, '2015-05-13': 1, '2015-05-15': 0, '2015-05-18': 0, '2015-05-19': 1, '2015-05-20': 1, '2015-05-22': 0, '2015-05-28': 0, '2015-05-29': 0, '2015-06-01': 1, '2015-06-02': 0, '2015-06-03': 1, '2015-06-04': 0, '2015-06-05': 0, '2015-06-08': 0, '2015-06-09': 1, '2015-06-10': 1, '2015-06-11': 0, '2015-06-12': 0, '2015-06-15': 0, '2015-06-16': 1, '2015-06-17': 1, '2015-06-18': 1, '2015-06-19': 0, '2015-06-22': 1, '2015-06-23': 1, '2015-06-24': 0, '2015-06-26': 0, '2015-06-29': 0, '2015-07-01': 1, '2015-07-02': 1, '2015-07-06': 0, '2015-07-08': 0, '2015-07-09': 1, '2015-07-10': 1, '2015-07-13': 1, '2015-07-14': 0, '2015-07-15': 0, '2015-07-16': 1, '2015-07-20': 1, '2015-07-21': 0, '2015-07-22': 0, '2015-07-23': 1, '2015-07-24': 0, '2015-07-27': 0, '2015-07-28': 1, '2015-07-29': 1, '2015-07-30': 0, '2015-07-31': 1, '2015-08-04': 0, '2015-08-05': 1, '2015-08-07': 0, '2015-08-10': 1, '2015-08-11': 0, '2015-08-12': 1, '2015-08-13': 0, '2015-08-14': 1, '2015-08-17': 1, '2015-08-18': 0, '2015-08-19': 0, '2015-08-20': 0, '2015-08-21': 0, '2015-08-24': 0, '2015-08-25': 0, '2015-08-26': 1, '2015-08-27': 1, '2015-08-28': 0, '2015-09-01': 0, '2015-09-02': 1, '2015-09-08': 1, '2015-09-10': 1, '2015-09-11': 1, '2015-09-14': 0, '2015-09-15': 1, '2015-09-16': 1, '2015-09-17': 0, '2015-09-18': 0, '2015-09-21': 1, '2015-09-22': 0, '2015-09-24': 1, '2015-09-25': 1, '2015-09-28': 0, '2015-09-29': 0, '2015-09-30': 1, '2015-10-01': 0, '2015-10-02': 1, '2015-10-05': 1, '2015-10-06': 0, '2015-10-07': 1, '2015-10-08': 1, '2015-10-09': 1, '2015-10-12': 0, '2015-10-14': 1, '2015-10-15': 1, '2015-10-16': 1, '2015-10-19': 0, '2015-10-21': 1, '2015-10-23': 1, '2015-10-26': 0, '2015-10-28': 1, '2015-10-29': 0, '2015-11-02': 1, '2015-11-03': 1, '2015-11-06': 0, '2015-11-09': 0, '2015-11-10': 1, '2015-11-11': 0, '2015-11-12': 0, '2015-11-13': 0, '2015-11-19': 1, '2015-11-24': 1, '2015-11-25': 0, '2015-11-27': 1, '2015-11-30': 1, '2015-12-01': 1, '2015-12-03': 0, '2015-12-04': 1, '2015-12-08': 0, '2015-12-09': 0, '2015-12-10': 1, '2015-12-11': 0, '2015-12-14': 1, '2015-12-15': 1, '2015-12-17': 0, '2015-12-18': 0, '2015-12-22': 1, '2015-12-23': 1, '2015-12-24': 0, '2015-12-29': 1, '2015-12-30': 0, '2015-12-31': 0, '2016-01-04': 0, '2016-01-05': 0, '2016-01-06': 0, '2016-01-07': 0, '2016-01-08': 0, '2016-01-11': 1, '2016-01-12': 0, '2016-01-13': 0, '2016-01-14': 1, '2016-01-15': 0, '2016-01-19': 0, '2016-01-20': 0, '2016-01-21': 1, '2016-01-26': 1, '2016-01-27': 0, '2016-02-01': 1, '2016-02-02': 0, '2016-02-03': 1, '2016-02-04': 1, '2016-02-05': 1, '2016-02-08': 0, '2016-02-09': 0, '2016-02-11': 0, '2016-02-12': 1, '2016-02-16': 1, '2016-02-18': 1, '2016-02-19': 1, '2016-02-22': 1, '2016-02-23': 0, '2016-02-24': 1, '2016-02-25': 1, '2016-02-29': 0, '2016-03-01': 1, '2016-03-03': 1, '2016-03-04': 0, '2016-03-07': 1, '2016-03-08': 0, '2016-03-09': 1, '2016-03-10': 0, '2016-03-11': 1, '2016-03-15': 1, '2016-03-16': 1, '2016-03-18': 1, '2016-03-21': 1, '2016-03-28': 1, '2016-03-29': 1, '2016-03-31': 1, '2016-04-01': 1, '2016-04-05': 0, '2016-04-06': 1, '2016-04-07': 0, '2016-04-08': 1, '2016-04-11': 0, '2016-04-12': 1, '2016-04-14': 0, '2016-04-15': 1, '2016-04-18': 1, '2016-04-19': 0, '2016-04-20': 1, '2016-04-21': 1, '2016-04-25': 1, '2016-04-26': 1, '2016-04-28': 0, '2016-04-29': 0, '2016-05-02': 0, '2016-05-03': 0, '2016-05-04': 1, '2016-05-06': 1, '2016-05-09': 1, '2016-05-10': 1, '2016-05-11': 0, '2016-05-12': 0, '2016-05-13': 0, '2016-05-16': 1, '2016-05-18': 0, '2016-05-19': 0, '2016-05-23': 0, '2016-05-24': 1, '2016-05-25': 1, '2016-05-26': 1, '2016-05-27': 1, '2016-05-31': 1, '2016-06-01': 0, '2016-06-03': 0, '2016-06-06': 0, '2016-06-07': 1, '2016-06-08': 1, '2016-06-09': 0, '2016-06-10': 0, '2016-06-13': 0, '2016-06-14': 0, '2016-06-15': 0, '2016-06-17': 1, '2016-06-20': 1, '2016-06-21': 1, '2016-06-22': 0, '2016-06-23': 1, '2016-06-29': 1, '2016-07-01': 1, '2016-07-05': 0, '2016-07-07': 1, '2016-07-08': 1, '2016-07-11': 1, '2016-07-14': 1, '2016-07-15': 0, '2016-07-18': 1, '2016-07-22': 1, '2016-07-25': 1, '2016-07-26': 0, '2016-07-27': 0, '2016-07-28': 0, '2016-07-29': 0, '2016-08-01': 1, '2016-08-04': 1, '2016-08-05': 1, '2016-08-08': 0, '2016-08-09': 0, '2016-08-10': 1, '2016-08-11': 1, '2016-08-15': 0, '2016-08-16': 0, '2016-08-17': 0, '2016-08-19': 0, '2016-08-24': 0, '2016-08-25': 0, '2016-08-26': 0, '2016-08-29': 1, '2016-08-30': 0, '2016-09-02': 1, '2016-09-06': 1, '2016-09-07': 1, '2016-09-08': 0, '2016-09-12': 1, '2016-09-13': 0, '2016-09-15': 1, '2016-09-16': 0, '2016-09-19': 1, '2016-09-20': 0, '2016-09-21': 1, '2016-09-22': 1, '2016-09-23': 0, '2016-09-27': 1, '2016-09-28': 1, '2016-09-29': 0, '2016-09-30': 1, '2016-10-03': 0, '2016-10-04': 0, '2016-10-05': 1, '2016-10-06': 0, '2016-10-10': 1, '2016-10-11': 0, '2016-10-12': 0, '2016-10-17': 1, '2016-10-18': 0, '2016-10-19': 1, '2016-10-20': 1, '2016-10-21': 0, '2016-10-24': 1, '2016-10-25': 1, '2016-10-26': 1, '2016-10-27': 1, '2016-10-28': 0, '2016-11-01': 0, '2016-11-02': 0, '2016-11-03': 1, '2016-11-07': 1, '2016-11-08': 0, '2016-11-10': 1, '2016-11-11': 1, '2016-11-14': 0, '2016-11-15': 1, '2016-11-16': 1, '2016-11-18': 1, '2016-11-21': 1, '2016-11-22': 0, '2016-11-23': 0, '2016-11-25': 1, '2016-11-28': 1, '2016-11-29': 0, '2016-11-30': 0, '2016-12-01': 0, '2016-12-02': 1, '2016-12-06': 1, '2016-12-07': 1, '2016-12-13': 1, '2016-12-14': 1, '2016-12-15': 0, '2016-12-16': 0, '2016-12-19': 0, '2016-12-20': 1, '2016-12-21': 0, '2016-12-22': 0, '2016-12-23': 0, '2016-12-27': 1, '2016-12-28': 0, '2016-12-29': 1, '2016-12-30': 0, '2017-01-03': 1, '2017-01-04': 1, '2017-01-06': 1, '2017-01-09': 0, '2017-01-10': 0, '2017-01-11': 1, '2017-01-12': 1, '2017-01-13': 0, '2017-01-17': 1, '2017-01-18': 0, '2017-01-19': 1, '2017-01-24': 1, '2017-01-25': 1, '2017-01-26': 1, '2017-01-30': 0, '2017-01-31': 0, '2017-02-02': 1, '2017-02-03': 1, '2017-02-06': 1, '2017-02-07': 1, '2017-02-08': 0, '2017-02-09': 1, '2017-02-10': 1, '2017-02-13': 1, '2017-02-14': 1, '2017-02-15': 1, '2017-02-16': 0, '2017-02-21': 0, '2017-02-22': 1, '2017-02-23': 1, '2017-02-24': 0, '2017-02-27': 0, '2017-02-28': 1, '2017-03-06': 1, '2017-03-07': 0, '2017-03-08': 0, '2017-03-09': 0, '2017-03-10': 1, '2017-03-13': 0, '2017-03-14': 0, '2017-03-15': 1, '2017-03-16': 1, '2017-03-17': 0, '2017-03-20': 1, '2017-03-21': 0, '2017-03-22': 1, '2017-03-24': 0, '2017-03-28': 1, '2017-03-29': 0, '2017-03-30': 0, '2017-03-31': 1, '2017-04-05': 0, '2017-04-07': 0, '2017-04-12': 1, '2017-04-13': 0, '2017-04-17': 1, '2017-04-18': 0, '2017-04-19': 0, '2017-04-20': 1, '2017-04-21': 0, '2017-04-24': 1, '2017-04-25': 0, '2017-04-26': 0, '2017-04-27': 1, '2017-05-01': 0, '2017-05-02': 1, '2017-05-03': 0, '2017-05-08': 0, '2017-05-09': 0, '2017-05-10': 0, '2017-05-11': 0, '2017-05-12': 0, '2017-05-17': 0, '2017-05-18': 0, '2017-05-22': 1, '2017-05-24': 1, '2017-05-25': 1, '2017-05-26': 0, '2017-05-30': 0, '2017-05-31': 1, '2017-06-01': 1, '2017-06-02': 0, '2017-06-05': 1, '2017-06-06': 0, '2017-06-07': 0, '2017-06-08': 1, '2017-06-09': 1, '2017-06-15': 1, '2017-06-16': 1, '2017-06-19': 0, '2017-06-20': 1, '2017-06-21': 0, '2017-06-22': 1, '2017-06-23': 0, '2017-06-27': 0, '2017-06-28': 1, '2017-07-03': 1, '2017-07-05': 0, '2017-07-06': 0, '2017-07-10': 1, '2017-07-11': 0, '2017-07-12': 1, '2017-07-14': 1, '2017-07-18': 1, '2017-07-19': 0, '2017-07-21': 0, '2017-07-24': 0, '2017-07-25': 1, '2017-07-26': 0, '2017-07-27': 0, '2017-07-28': 0, '2017-07-31': 1, '2017-08-01': 1, '2017-08-02': 0, '2017-08-03': 1, '2017-08-08': 0, '2017-08-09': 0, '2017-08-11': 0, '2017-08-14': 1, '2017-08-15': 0, '2017-08-17': 0, '2017-08-18': 0, '2017-08-22': 1, '2017-08-24': 1, '2017-08-25': 1, '2017-08-28': 0, '2017-08-30': 0, '2017-08-31': 1, '2017-09-01': 1, '2017-09-06': 1, '2017-09-07': 0, '2017-09-08': 0, '2017-09-14': 0, '2017-09-15': 0, '2017-09-19': 0, '2017-09-20': 1, '2017-09-21': 0, '2017-09-22': 0, '2017-09-25': 1, '2017-09-27': 0, '2017-09-28': 0, '2017-09-29': 0, '2017-10-03': 1, '2017-10-04': 0, '2017-10-06': 0, '2017-10-09': 1, '2017-10-10': 1, '2017-10-11': 0, '2017-10-12': 0, '2017-10-13': 1, '2017-10-16': 0, '2017-10-17': 0, '2017-10-18': 1, '2017-10-19': 1, '2017-10-23': 0, '2017-10-24': 0, '2017-10-25': 0, '2017-10-26': 1, '2017-10-27': 1, '2017-10-30': 1, '2017-11-01': 0, '2017-11-02': 0, '2017-11-03': 0, '2017-11-07': 1, '2017-11-08': 1, '2017-11-10': 0, '2017-11-13': 0, '2017-11-14': 1, '2017-11-15': 0, '2017-11-16': 1, '2017-11-17': 0, '2017-11-20': 1, '2017-11-21': 1, '2017-11-27': 1, '2017-11-28': 1, '2017-11-29': 1, '2017-11-30': 1, '2017-12-01': 1, '2017-12-04': 1, '2017-12-05': 0, '2017-12-07': 0, '2017-12-08': 1, '2017-12-11': 1, '2017-12-14': 1, '2017-12-18': 1, '2017-12-20': 0, '2017-12-21': 0, '2017-12-22': 1, '2017-12-27': 1, '2018-01-02': 1, '2018-01-03': 1, '2018-01-05': 1, '2018-01-10': 1, '2018-01-11': 1, '2018-01-19': 0, '2018-01-23': 1, '2018-01-24': 0, '2018-01-25': 1, '2018-01-26': 1, '2018-01-30': 0, '2018-01-31': 1, '2018-02-01': 0, '2018-02-02': 0, '2018-02-05': 0, '2018-02-06': 1, '2018-02-07': 0, '2018-02-08': 0, '2018-02-09': 1, '2018-02-12': 1, '2018-02-13': 0, '2018-02-14': 1, '2018-02-15': 1, '2018-02-16': 1, '2018-02-21': 0, '2018-02-22': 0, '2018-02-26': 1, '2018-02-27': 0, '2018-02-28': 0, '2018-03-01': 0, '2018-03-05': 1, '2018-03-07': 1, '2018-03-08': 0, '2018-03-12': 1, '2018-03-13': 0, '2018-03-15': 1, '2018-03-16': 1, '2018-03-19': 0, '2018-03-20': 0, '2018-03-21': 1, '2018-03-23': 0, '2018-03-26': 1, '2018-03-28': 1, '2018-03-29': 1, '2018-04-03': 0, '2018-04-05': 0, '2018-04-09': 1, '2018-04-11': 0, '2018-04-12': 1, '2018-04-13': 0, '2018-04-16': 1, '2018-04-19': 0, '2018-04-20': 0, '2018-04-23': 1, '2018-04-24': 0, '2018-04-25': 1, '2018-04-26': 1, '2018-04-30': 0, '2018-05-01': 1, '2018-05-03': 0, '2018-05-04': 1, '2018-05-09': 0, '2018-05-11': 0, '2018-05-14': 1, '2018-05-16': 1, '2018-05-17': 0, '2018-05-21': 1, '2018-05-22': 0, '2018-05-23': 0, '2018-05-24': 0, '2018-05-25': 0, '2018-05-29': 0, '2018-05-30': 1, '2018-05-31': 0, '2018-06-04': 1, '2018-06-05': 1, '2018-06-06': 1, '2018-06-07': 1, '2018-06-11': 1, '2018-06-12': 1, '2018-06-14': 0, '2018-06-15': 1, '2018-06-18': 0, '2018-06-19': 0, '2018-06-20': 0, '2018-06-21': 0, '2018-06-22': 1, '2018-06-27': 0, '2018-06-28': 1, '2018-06-29': 0, '2018-07-02': 1, '2018-07-03': 0, '2018-07-05': 1, '2018-07-06': 1, '2018-07-09': 1, '2018-07-10': 1, '2018-07-11': 1, '2018-07-12': 1, '2018-07-13': 0, '2018-07-16': 0, '2018-07-17': 0, '2018-07-18': 1, '2018-07-19': 1, '2018-07-20': 0, '2018-07-23': 0, '2018-07-24': 1, '2018-07-25': 1, '2018-07-26': 1, '2018-07-27': 0, '2018-07-30': 1, '2018-07-31': 0, '2018-08-01': 0, '2018-08-02': 0, '2018-08-03': 1, '2018-08-07': 1, '2018-08-08': 0, '2018-08-09': 0, '2018-08-10': 0, '2018-08-13': 0, '2018-08-14': 1, '2018-08-16': 1, '2018-08-17': 1, '2018-08-20': 1, '2018-08-21': 0, '2018-08-22': 0, '2018-08-23': 1, '2018-08-29': 1, '2018-08-31': 1, '2018-09-04': 0, '2018-09-06': 0, '2018-09-07': 0, '2018-09-11': 1, '2018-09-12': 1, '2018-09-13': 1, '2018-09-14': 0, '2018-09-18': 1, '2018-09-19': 1, '2018-09-20': 1, '2018-09-21': 1, '2018-09-24': 0, '2018-09-25': 0, '2018-09-26': 1, '2018-09-27': 0, '2018-09-28': 0, '2018-10-01': 1, '2018-10-02': 1, '2018-10-04': 0, '2018-10-05': 0, '2018-10-08': 0, '2018-10-09': 0, '2018-10-10': 0, '2018-10-11': 0, '2018-10-12': 1, '2018-10-15': 1, '2018-10-16': 1, '2018-10-17': 0, '2018-10-18': 0, '2018-10-19': 0, '2018-10-22': 1, '2018-10-24': 0, '2018-10-25': 0, '2018-10-26': 0, '2018-10-29': 0, '2018-10-30': 0, '2018-10-31': 1, '2018-11-01': 1, '2018-11-02': 0, '2018-11-05': 1, '2018-11-06': 1, '2018-11-07': 1, '2018-11-08': 0, '2018-11-09': 1, '2018-11-12': 0, '2018-11-13': 0, '2018-11-14': 0, '2018-11-15': 1, '2018-11-16': 1, '2018-11-19': 0, '2018-11-21': 1, '2018-11-23': 0, '2018-11-26': 1, '2018-11-27': 1, '2018-11-28': 1, '2018-12-03': 1, '2018-12-04': 0, '2018-12-07': 0, '2018-12-10': 1, '2018-12-11': 0, '2018-12-12': 1, '2018-12-13': 0, '2018-12-14': 0, '2018-12-17': 0, '2018-12-18': 1, '2018-12-20': 0, '2018-12-21': 0, '2018-12-26': 1, '2018-12-27': 1, '2019-01-02': 1, '2019-01-03': 0, '2019-01-04': 1, '2019-01-07': 1, '2019-01-08': 1, '2019-01-09': 1, '2019-01-10': 1, '2019-01-11': 0, '2019-01-14': 0, '2019-01-15': 1, '2019-01-16': 0, '2019-01-18': 1, '2019-01-22': 0, '2019-01-23': 1, '2019-01-24': 0, '2019-01-25': 1, '2019-01-28': 1, '2019-01-29': 1, '2019-01-30': 1, '2019-01-31': 1, '2019-02-04': 1, '2019-02-07': 0, '2019-02-08': 1, '2019-02-12': 1, '2019-02-13': 1, '2019-02-14': 0, '2019-02-15': 1, '2019-02-19': 1, '2019-02-20': 0, '2019-02-22': 1, '2019-02-25': 1, '2019-02-26': 1, '2019-02-28': 0, '2019-03-01': 1, '2019-03-05': 0, '2019-03-06': 0, '2019-03-07': 0, '2019-03-08': 0, '2019-03-11': 1, '2019-03-12': 1, '2019-03-13': 1, '2019-03-14': 1, '2019-03-15': 1, '2019-03-19': 1, '2019-03-20': 0, '2019-03-21': 1, '2019-03-22': 0, '2019-03-25': 0, '2019-03-26': 1, '2019-03-27': 0, '2019-03-28': 1, '2019-04-02': 0, '2019-04-04': 0, '2019-04-05': 1, '2019-04-08': 1, '2019-04-10': 1, '2019-04-11': 1, '2019-04-12': 1, '2019-04-16': 1, '2019-04-17': 0, '2019-04-23': 1, '2019-04-24': 0, '2019-04-25': 0, '2019-04-29': 0, '2019-04-30': 1, '2019-05-01': 1, '2019-05-02': 0, '2019-05-03': 1, '2019-05-06': 1, '2019-05-07': 0, '2019-05-08': 1, '2019-05-10': 0, '2019-05-13': 0, '2019-05-14': 1, '2019-05-15': 1, '2019-05-16': 1, '2019-05-17': 0, '2019-05-20': 1, '2019-05-21': 1, '2019-05-22': 0, '2019-05-23': 0, '2019-05-28': 0, '2019-05-29': 0, '2019-05-30': 0, '2019-05-31': 0, '2019-06-03': 1, '2019-06-04': 1, '2019-06-07': 1, '2019-06-10': 1, '2019-06-11': 1, '2019-06-12': 0, '2019-06-13': 1, '2019-06-14': 0, '2019-06-17': 0, '2019-06-18': 1, '2019-06-19': 1, '2019-06-20': 1, '2019-06-21': 1, '2019-06-24': 1, '2019-06-25': 0, '2019-06-26': 1, '2019-06-27': 0, '2019-06-28': 0, '2019-07-01': 1, '2019-07-02': 1, '2019-07-03': 1, '2019-07-05': 0, '2019-07-08': 0, '2019-07-09': 0, '2019-07-10': 1, '2019-07-11': 1, '2019-07-12': 1, '2019-07-15': 1, '2019-07-16': 1, '2019-07-18': 1, '2019-07-19': 1, '2019-07-24': 0, '2019-07-25': 1, '2019-07-26': 1, '2019-07-29': 0, '2019-07-30': 0, '2019-07-31': 0, '2019-08-01': 1, '2019-08-02': 0, '2019-08-05': 0, '2019-08-06': 0, '2019-08-07': 0, '2019-08-08': 1, '2019-08-12': 0, '2019-08-16': 1, '2019-08-19': 1, '2019-08-20': 0, '2019-08-21': 1, '2019-08-22': 1, '2019-08-23': 0, '2019-08-26': 1, '2019-08-27': 1, '2019-08-28': 1, '2019-08-30': 1, '2019-09-03': 0, '2019-09-04': 1, '2019-09-05': 1, '2019-09-06': 0, '2019-09-09': 1, '2019-09-10': 1, '2019-09-11': 0, '2019-09-12': 1, '2019-09-16': 0, '2019-09-17': 0, '2019-09-18': 1, '2019-09-20': 0, '2019-09-23': 1, '2019-09-24': 0, '2019-09-25': 1, '2019-09-26': 1, '2019-09-27': 0, '2019-09-30': 1, '2019-10-01': 0, '2019-10-02': 0, '2019-10-03': 1, '2019-10-04': 1, '2019-10-07': 0, '2019-10-08': 0, '2019-10-09': 1, '2019-10-10': 1, '2019-10-14': 0, '2019-10-16': 0, '2019-10-17': 0, '2019-10-18': 0, '2019-10-21': 0, '2019-10-22': 1, '2019-10-25': 1, '2019-10-28': 1, '2019-10-29': 0, '2019-10-30': 1, '2019-10-31': 0, '2019-11-01': 1, '2019-11-04': 1, '2019-11-05': 1, '2019-11-06': 1, '2019-11-07': 0, '2019-11-12': 1, '2019-11-13': 0, '2019-11-14': 0, '2019-11-15': 1, '2019-11-18': 0, '2019-11-19': 1, '2019-11-20': 0, '2019-11-21': 1, '2019-11-22': 1, '2019-11-25': 1, '2019-11-26': 0, '2019-11-27': 0, '2019-11-29': 1, '2019-12-02': 0, '2019-12-04': 0, '2019-12-05': 0, '2019-12-06': 1, '2019-12-09': 1, '2019-12-10': 0, '2019-12-11': 0, '2019-12-12': 1, '2019-12-13': 0, '2019-12-16': 0, '2019-12-17': 1, '2019-12-19': 1, '2019-12-20': 1, '2019-12-23': 0, '2019-12-27': 1, '2019-12-30': 0, '2020-01-02': 1, '2020-01-03': 0, '2020-01-06': 0, '2020-01-08': 1, '2020-01-09': 1, '2020-01-13': 0, '2020-01-14': 0, '2020-01-15': 1, '2020-01-16': 1, '2020-01-17': 1, '2020-01-21': 1, '2020-01-22': 1, '2020-01-23': 0, '2020-01-24': 0, '2020-01-28': 1, '2020-01-29': 0, '2020-01-30': 0, '2020-01-31': 1, '2020-02-06': 1, '2020-02-07': 0, '2020-02-10': 1, '2020-02-11': 0, '2020-02-12': 1, '2020-02-13': 0, '2020-02-14': 0, '2020-02-19': 0, '2020-02-20': 1, '2020-02-21': 0, '2020-02-25': 0, '2020-02-27': 0, '2020-02-28': 0, '2020-03-02': 1, '2020-03-03': 0, '2020-03-04': 1, '2020-03-05': 0, '2020-03-06': 0, '2020-03-09': 0, '2020-03-11': 0, '2020-03-16': 0, '2020-03-19': 0, '2020-03-20': 0, '2020-03-23': 0, '2020-03-25': 1, '2020-04-01': 0, '2020-04-02': 1, '2020-04-03': 0, '2020-04-06': 1, '2020-04-07': 1, '2020-04-08': 1, '2020-04-09': 1, '2020-04-13': 0, '2020-04-15': 0, '2020-04-16': 0, '2020-04-17': 1, '2020-04-20': 1, '2020-04-21': 0, '2020-04-22': 1, '2020-04-23': 1, '2020-04-24': 1, '2020-04-27': 1, '2020-04-28': 1, '2020-04-29': 1, '2020-05-01': 0, '2020-05-04': 0, '2020-05-05': 1, '2020-05-06': 1, '2020-05-07': 0, '2020-05-08': 1, '2020-05-11': 0, '2020-05-12': 0, '2020-05-13': 0, '2020-05-14': 1, '2020-05-18': 1, '2020-05-19': 0, '2020-05-20': 1, '2020-05-21': 0, '2020-05-22': 0, '2020-05-26': 1, '2020-05-27': 1, '2020-05-29': 1, '2020-06-01': 0, '2020-06-02': 1, '2020-06-03': 1, '2020-06-04': 0, '2020-06-05': 1, '2020-06-08': 1, '2020-06-09': 0, '2020-06-10': 0, '2020-06-11': 0, '2020-06-12': 1, '2020-06-16': 1, '2020-06-17': 0, '2020-06-18': 1, '2020-06-19': 0, '2020-06-25': 1, '2020-07-01': 0, '2020-07-02': 1, '2020-07-06': 1, '2020-07-08': 1, '2020-07-09': 0, '2020-07-10': 1, '2020-07-13': 1, '2020-07-14': 1, '2020-07-16': 1, '2020-07-20': 1, '2020-07-21': 0, '2020-07-22': 1, '2020-07-27': 1, '2020-07-28': 0, '2020-07-29': 1, '2020-07-30': 0, '2020-07-31': 1, '2020-08-04': 1, '2020-08-05': 0, '2020-08-07': 0, '2020-08-10': 1, '2020-08-11': 0, '2020-08-13': 0, '2020-08-14': 1, '2020-08-18': 1, '2020-08-19': 0, '2020-08-20': 0, '2020-08-24': 1, '2020-08-25': 0, '2020-08-26': 0, '2020-08-28': 1, '2020-09-01': 1, '2020-09-02': 1, '2020-09-03': 0, '2020-09-04': 0, '2020-09-08': 0, '2020-09-09': 1, '2020-09-10': 0, '2020-09-11': 1, '2020-09-14': 1, '2020-09-15': 1, '2020-09-16': 1, '2020-09-17': 1, '2020-09-18': 0, '2020-09-22': 1, '2020-09-23': 0, '2020-09-25': 1, '2020-09-29': 0, '2020-09-30': 1, '2020-10-01': 0, '2020-10-02': 0, '2020-10-08': 1, '2020-10-09': 0, '2020-10-12': 0, '2020-10-13': 0, '2020-10-14': 1, '2020-10-15': 0, '2020-10-16': 1, '2020-10-19': 0, '2020-10-22': 1, '2020-10-23': 1, '2020-10-26': 0, '2020-10-27': 0, '2020-10-28': 0, '2020-10-29': 1, '2020-11-02': 1, '2020-11-03': 1, '2020-11-05': 1, '2020-11-06': 0, '2020-11-09': 1, '2020-11-10': 1, '2020-11-11': 0, '2020-11-12': 0, '2020-11-13': 1, '2020-11-18': 0, '2020-11-19': 1, '2020-11-20': 0, '2020-11-23': 1, '2020-11-25': 0, '2020-11-27': 1, '2020-11-30': 0, '2020-12-01': 0, '2020-12-02': 1, '2020-12-03': 0, '2020-12-04': 1, '2020-12-07': 0, '2020-12-08': 1, '2020-12-09': 1, '2020-12-10': 0, '2020-12-11': 0, '2020-12-14': 0, '2020-12-16': 0, '2020-12-17': 0, '2020-12-18': 1, '2020-12-21': 0, '2020-12-23': 1, '2020-12-28': 1, '2020-12-29': 0, '2020-12-31': 1, '2021-01-04': 0, '2021-01-05': 1, '2021-01-06': 1, '2021-01-08': 0, '2021-01-11': 1, '2021-01-13': 0, '2021-01-14': 1, '2021-01-15': 0, '2021-01-19': 1, '2021-01-20': 1, '2021-01-21': 1, '2021-01-22': 0, '2021-01-26': 1, '2021-01-27': 0, '2021-01-28': 0, '2021-02-01': 1, '2021-02-02': 0, '2021-02-03': 0, '2021-02-04': 1, '2021-02-05': 1, '2021-02-09': 0, '2021-02-10': 1, '2021-02-11': 0, '2021-02-12': 0, '2021-02-17': 0, '2021-02-18': 1, '2021-02-19': 0, '2021-02-22': 1, '2021-02-23': 0, '2021-02-24': 1, '2021-02-26': 0, '2021-03-01': 1, '2021-03-04': 0, '2021-03-05': 1, '2021-03-08': 1, '2021-03-09': 0, '2021-03-10': 1, '2021-03-11': 0, '2021-03-12': 1, '2021-03-15': 1, '2021-03-16': 0, '2021-03-17': 1, '2021-03-18': 1, '2021-03-22': 1, '2021-03-23': 0, '2021-03-24': 1, '2021-03-26': 1, '2021-03-29': 0, '2021-03-30': 0, '2021-03-31': 0, '2021-04-01': 0, '2021-04-05': 1, '2021-04-07': 1, '2021-04-08': 1, '2021-04-13': 0, '2021-04-14': 1, '2021-04-15': 0, '2021-04-16': 1, '2021-04-19': 0, '2021-04-20': 1, '2021-04-22': 0, '2021-04-23': 1, '2021-04-27': 1, '2021-04-28': 1, '2021-04-29': 1, '2021-04-30': 0, '2021-05-03': 1, '2021-05-04': 1, '2021-05-05': 0, '2021-05-06': 1, '2021-05-07': 0, '2021-05-11': 0, '2021-05-13': 1, '2021-05-17': 1, '2021-05-18': 0, '2021-05-19': 0, '2021-05-20': 1, '2021-05-21': 1, '2021-05-25': 0, '2021-05-26': 0, '2021-05-28': 0, '2021-06-03': 0, '2021-06-04': 1, '2021-06-09': 1, '2021-06-11': 1, '2021-06-14': 0, '2021-06-15': 0, '2021-06-17': 0, '2021-06-18': 0, '2021-06-21': 1, '2021-06-22': 0, '2021-06-23': 0, '2021-06-24': 1, '2021-06-25': 1, '2021-06-28': 0, '2021-06-29': 1, '2021-07-01': 1, '2021-07-02': 0, '2021-07-08': 1, '2021-07-09': 1, '2021-07-13': 0, '2021-07-14': 0, '2021-07-15': 1, '2021-07-16': 0, '2021-07-19': 0, '2021-07-20': 1, '2021-07-21': 1, '2021-07-22': 0, '2021-07-23': 1, '2021-07-26': 1, '2021-07-27': 0, '2021-07-28': 0, '2021-07-29': 1, '2021-07-30': 0, '2021-08-02': 1, '2021-08-04': 0, '2021-08-05': 1, '2021-08-06': 1, '2021-08-09': 0, '2021-08-10': 1, '2021-08-11': 1, '2021-08-12': 1, '2021-08-16': 1, '2021-08-18': 0, '2021-08-19': 0, '2021-08-20': 1, '2021-08-23': 1, '2021-08-24': 1, '2021-08-25': 1, '2021-08-26': 0, '2021-08-27': 1, '2021-08-30': 0}}\n"
     ]
    }
   ],
   "source": [
    "print(\"prediction_dict_: \", oner.prediction_dict_)"
   ]
  },
  {
   "cell_type": "code",
   "execution_count": null,
   "id": "verbal-delhi",
   "metadata": {},
   "outputs": [],
   "source": []
  }
 ],
 "metadata": {
  "kernelspec": {
   "display_name": "Python 3",
   "language": "python",
   "name": "python3"
  },
  "language_info": {
   "codemirror_mode": {
    "name": "ipython",
    "version": 3
   },
   "file_extension": ".py",
   "mimetype": "text/x-python",
   "name": "python",
   "nbconvert_exporter": "python",
   "pygments_lexer": "ipython3",
   "version": "3.7.9"
  }
 },
 "nbformat": 4,
 "nbformat_minor": 5
}
